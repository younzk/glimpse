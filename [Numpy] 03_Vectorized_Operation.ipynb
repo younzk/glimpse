{
  "cells": [
    {
      "cell_type": "markdown",
      "metadata": {
        "id": "view-in-github",
        "colab_type": "text"
      },
      "source": [
        "<a href=\"https://colab.research.google.com/github/younzk/rookie-projects/blob/main/%5BNumpy%5D%2003_Vectorized_Operation.ipynb\" target=\"_parent\"><img src=\"https://colab.research.google.com/assets/colab-badge.svg\" alt=\"Open In Colab\"/></a>"
      ]
    },
    {
      "cell_type": "markdown",
      "metadata": {
        "id": "stwSfczv7SqU"
      },
      "source": [
        "#3.3 Vectorized Operation"
      ]
    },
    {
      "cell_type": "markdown",
      "metadata": {
        "id": "BjNKZqlBz-Lk"
      },
      "source": [
        "##벡터화 연산의 장점\n",
        "- 반복문 없이 배열의 모든 원소에 대해 반복연산이 가능하다.\n",
        "- 선형 대수 공식과 동일한 간단한 파이썬 코드를 작성할 수 있다. "
      ]
    },
    {
      "cell_type": "code",
      "execution_count": null,
      "metadata": {
        "id": "LC79ldxX8mz7"
      },
      "outputs": [],
      "source": [
        "import numpy as np"
      ]
    },
    {
      "cell_type": "code",
      "execution_count": null,
      "metadata": {
        "colab": {
          "base_uri": "https://localhost:8080/"
        },
        "id": "X7On___oxT1d",
        "outputId": "9e844a1d-c799-4765-9e13-3035bf9d77e2"
      },
      "outputs": [
        {
          "output_type": "execute_result",
          "data": {
            "text/plain": [
              "False"
            ]
          },
          "metadata": {},
          "execution_count": 2
        }
      ],
      "source": [
        "a = np.array([1, 2, 3, 4])\n",
        "b = np.array([4, 2, 2, 4])\n",
        "c = np.array([1, 2, 3, 4])\n",
        "\n",
        "np.all(a == b) # a와 b 배열이 같은가?"
      ]
    },
    {
      "cell_type": "markdown",
      "metadata": {
        "id": "Lnrx7smQ8zJk"
      },
      "source": [
        "##스칼라와 벡터/행렬의 곱셈"
      ]
    },
    {
      "cell_type": "code",
      "execution_count": null,
      "metadata": {
        "colab": {
          "base_uri": "https://localhost:8080/"
        },
        "id": "wqbSrUsH83lf",
        "outputId": "bdf3cf84-b6ec-446b-d22e-a5c91b53697a"
      },
      "outputs": [
        {
          "output_type": "execute_result",
          "data": {
            "text/plain": [
              "array([0, 1, 2, 3, 4, 5, 6, 7, 8, 9])"
            ]
          },
          "metadata": {},
          "execution_count": 3
        }
      ],
      "source": [
        "x = np.arange(10)\n",
        "x"
      ]
    },
    {
      "cell_type": "code",
      "execution_count": null,
      "metadata": {
        "colab": {
          "base_uri": "https://localhost:8080/"
        },
        "id": "2I8GA0cn8896",
        "outputId": "0da74bba-3306-41d5-e07c-4ba94472d510"
      },
      "outputs": [
        {
          "output_type": "execute_result",
          "data": {
            "text/plain": [
              "array([  0, 100, 200, 300, 400, 500, 600, 700, 800, 900])"
            ]
          },
          "metadata": {},
          "execution_count": 4
        }
      ],
      "source": [
        "100 * x"
      ]
    },
    {
      "cell_type": "code",
      "execution_count": null,
      "metadata": {
        "colab": {
          "base_uri": "https://localhost:8080/"
        },
        "id": "aVkWODeu9AmM",
        "outputId": "70e17cb1-d8f2-433c-86a5-783c7fb1bddd"
      },
      "outputs": [
        {
          "output_type": "execute_result",
          "data": {
            "text/plain": [
              "array([[ 0,  1,  2,  3],\n",
              "       [ 4,  5,  6,  7],\n",
              "       [ 8,  9, 10, 11]])"
            ]
          },
          "metadata": {},
          "execution_count": 5
        }
      ],
      "source": [
        "x = np.arange(12).reshape(3, 4)\n",
        "x"
      ]
    },
    {
      "cell_type": "code",
      "execution_count": null,
      "metadata": {
        "colab": {
          "base_uri": "https://localhost:8080/"
        },
        "id": "gttOWfoI9AhW",
        "outputId": "dc57c343-6d17-411c-f008-2a4c9dfa8499"
      },
      "outputs": [
        {
          "output_type": "execute_result",
          "data": {
            "text/plain": [
              "array([[   0,  100,  200,  300],\n",
              "       [ 400,  500,  600,  700],\n",
              "       [ 800,  900, 1000, 1100]])"
            ]
          },
          "metadata": {},
          "execution_count": 6
        }
      ],
      "source": [
        "100 * x"
      ]
    },
    {
      "cell_type": "markdown",
      "metadata": {
        "id": "hO5DnxVX9JG0"
      },
      "source": [
        "## Broadcasting(브로드캐스팅)\n",
        "\n",
        "- 넘파이에서는 서로 다른 크기를 가진 두 배열의 사칙연산도 지원한다. \n",
        "- 차원이 다른 두 배열의 연산도 지원한다."
      ]
    },
    {
      "cell_type": "code",
      "execution_count": null,
      "metadata": {
        "colab": {
          "base_uri": "https://localhost:8080/"
        },
        "id": "Q0RFaT5C9Aeg",
        "outputId": "f4fbf041-6bb0-4788-ae8c-85543d9073d8"
      },
      "outputs": [
        {
          "output_type": "execute_result",
          "data": {
            "text/plain": [
              "array([0, 1, 2, 3, 4])"
            ]
          },
          "metadata": {},
          "execution_count": 7
        }
      ],
      "source": [
        "x = np.arange(5)\n",
        "x"
      ]
    },
    {
      "cell_type": "code",
      "execution_count": null,
      "metadata": {
        "colab": {
          "base_uri": "https://localhost:8080/"
        },
        "id": "TP_657h29AbW",
        "outputId": "f266a42e-a00a-4841-d497-83d8c3b9450a"
      },
      "outputs": [
        {
          "output_type": "execute_result",
          "data": {
            "text/plain": [
              "array([1, 1, 1, 1, 1])"
            ]
          },
          "metadata": {},
          "execution_count": 8
        }
      ],
      "source": [
        "y = np.ones_like(x) #x와 같은 크기의 배열을 1로 채움\n",
        "y"
      ]
    },
    {
      "cell_type": "code",
      "execution_count": null,
      "metadata": {
        "colab": {
          "base_uri": "https://localhost:8080/"
        },
        "id": "xPvLp2xJ9AZF",
        "outputId": "3c0aa9c4-8061-4d72-fafa-2a14c98dd912"
      },
      "outputs": [
        {
          "output_type": "execute_result",
          "data": {
            "text/plain": [
              "array([1, 2, 3, 4, 5])"
            ]
          },
          "metadata": {},
          "execution_count": 9
        }
      ],
      "source": [
        "x+y"
      ]
    },
    {
      "cell_type": "code",
      "execution_count": null,
      "metadata": {
        "colab": {
          "base_uri": "https://localhost:8080/"
        },
        "id": "EV3Awkve-BnO",
        "outputId": "aaf4d7e7-ca25-49ff-a46b-b83ede03ab88"
      },
      "outputs": [
        {
          "output_type": "execute_result",
          "data": {
            "text/plain": [
              "array([1, 2, 3, 4, 5])"
            ]
          },
          "metadata": {},
          "execution_count": 10
        }
      ],
      "source": [
        "x+1 #단순히 x배열에 1을 더해도 [1, 1, 1, 1, 1]로 생각해서 적용한다."
      ]
    },
    {
      "cell_type": "code",
      "execution_count": null,
      "metadata": {
        "colab": {
          "base_uri": "https://localhost:8080/"
        },
        "id": "gdgxlaDX-Ri8",
        "outputId": "e84cbb44-d381-446b-c2c6-a3ae6c35cd7e"
      },
      "outputs": [
        {
          "output_type": "execute_result",
          "data": {
            "text/plain": [
              "array([[0, 1, 2],\n",
              "       [1, 2, 3],\n",
              "       [2, 3, 4],\n",
              "       [3, 4, 5],\n",
              "       [4, 5, 6]])"
            ]
          },
          "metadata": {},
          "execution_count": 11
        }
      ],
      "source": [
        "x = np.vstack([range(7)[i:i+3]for i in range (5)])\n",
        "x"
      ]
    },
    {
      "cell_type": "code",
      "execution_count": null,
      "metadata": {
        "colab": {
          "base_uri": "https://localhost:8080/"
        },
        "id": "w5nw32aO-Bp9",
        "outputId": "be127a27-2b2d-4727-84e0-8978cc0bfdb1"
      },
      "outputs": [
        {
          "output_type": "execute_result",
          "data": {
            "text/plain": [
              "array([[0],\n",
              "       [1],\n",
              "       [2],\n",
              "       [3],\n",
              "       [4]])"
            ]
          },
          "metadata": {},
          "execution_count": 12
        }
      ],
      "source": [
        "y = np.arange(5)[:, np.newaxis]\n",
        "y"
      ]
    },
    {
      "cell_type": "code",
      "execution_count": null,
      "metadata": {
        "colab": {
          "base_uri": "https://localhost:8080/"
        },
        "id": "GCydGUYE-BsK",
        "outputId": "c4b10983-d074-4d6c-9eee-3ea821445f9e"
      },
      "outputs": [
        {
          "output_type": "execute_result",
          "data": {
            "text/plain": [
              "array([[ 0,  1,  2],\n",
              "       [ 2,  3,  4],\n",
              "       [ 4,  5,  6],\n",
              "       [ 6,  7,  8],\n",
              "       [ 8,  9, 10]])"
            ]
          },
          "metadata": {},
          "execution_count": 13
        }
      ],
      "source": [
        "x + y"
      ]
    },
    {
      "cell_type": "code",
      "execution_count": null,
      "metadata": {
        "colab": {
          "base_uri": "https://localhost:8080/"
        },
        "id": "Gfo-QRiN-Bu1",
        "outputId": "18e638bb-85a9-4ec2-9da4-f2c0534cfd15"
      },
      "outputs": [
        {
          "output_type": "execute_result",
          "data": {
            "text/plain": [
              "array([0, 1, 2])"
            ]
          },
          "metadata": {},
          "execution_count": 14
        }
      ],
      "source": [
        "y = np.arange(3)\n",
        "y"
      ]
    },
    {
      "cell_type": "code",
      "execution_count": null,
      "metadata": {
        "colab": {
          "base_uri": "https://localhost:8080/"
        },
        "id": "rrB92qmEBDE7",
        "outputId": "3ae78f17-4a67-4e4a-8d12-3efd277559c8"
      },
      "outputs": [
        {
          "output_type": "execute_result",
          "data": {
            "text/plain": [
              "array([[0, 2, 4],\n",
              "       [1, 3, 5],\n",
              "       [2, 4, 6],\n",
              "       [3, 5, 7],\n",
              "       [4, 6, 8]])"
            ]
          },
          "metadata": {},
          "execution_count": 15
        }
      ],
      "source": [
        "x + y"
      ]
    },
    {
      "cell_type": "markdown",
      "metadata": {
        "id": "m3r97IeBBK8w"
      },
      "source": [
        "##Dimension Reduction(차원 축소 연산)\n",
        "- n차원 배열의 원소 값을 연산을 통해 n차원보다 작은 차원의 벡터로 나오게 하는 것\n",
        "- 예) 2차원 배열에 대해 행-평균을 구한 뒤 1차원 벡터로 평균을 출력\n",
        "- 넘파이는 다음과 같은 차원 축소 연산 명령 혹은 메서드를 지원한다.  \n",
        " (1) 최대/최소 : min, max, argmin, argmax  \n",
        " (2) 통계 : sum, mean, median, std, var  \n",
        "  (3) 불리언 : all, any  "
      ]
    },
    {
      "cell_type": "code",
      "execution_count": null,
      "metadata": {
        "colab": {
          "base_uri": "https://localhost:8080/"
        },
        "id": "DSZDMuNpBDHk",
        "outputId": "ca397eb5-5444-4732-fd1c-b7eeb32162c6"
      },
      "outputs": [
        {
          "output_type": "execute_result",
          "data": {
            "text/plain": [
              "array([1, 2, 3, 4])"
            ]
          },
          "metadata": {},
          "execution_count": 16
        }
      ],
      "source": [
        "x = np.array([1, 2, 3, 4])\n",
        "x"
      ]
    },
    {
      "cell_type": "code",
      "execution_count": null,
      "metadata": {
        "colab": {
          "base_uri": "https://localhost:8080/"
        },
        "id": "iPazAcQiBDMP",
        "outputId": "14d47d8c-a6cb-4eb5-f21c-6c34fd1c4530"
      },
      "outputs": [
        {
          "output_type": "execute_result",
          "data": {
            "text/plain": [
              "10"
            ]
          },
          "metadata": {},
          "execution_count": 17
        }
      ],
      "source": [
        "np.sum(x)"
      ]
    },
    {
      "cell_type": "code",
      "execution_count": null,
      "metadata": {
        "colab": {
          "base_uri": "https://localhost:8080/"
        },
        "id": "s-R7zc7kBDQE",
        "outputId": "747fcb41-ee40-42fd-e8a5-38b0d8e778a7"
      },
      "outputs": [
        {
          "output_type": "execute_result",
          "data": {
            "text/plain": [
              "10"
            ]
          },
          "metadata": {},
          "execution_count": 18
        }
      ],
      "source": [
        "x.sum()"
      ]
    },
    {
      "cell_type": "code",
      "execution_count": null,
      "metadata": {
        "colab": {
          "base_uri": "https://localhost:8080/"
        },
        "id": "WoeFliSU-Bxi",
        "outputId": "9828e828-8014-4b71-b539-9b7b2a39a79e"
      },
      "outputs": [
        {
          "output_type": "execute_result",
          "data": {
            "text/plain": [
              "(1, 3)"
            ]
          },
          "metadata": {},
          "execution_count": 19
        }
      ],
      "source": [
        "x = np.array([1, 3, 2])\n",
        "x.min(), x.max()"
      ]
    },
    {
      "cell_type": "code",
      "execution_count": null,
      "metadata": {
        "colab": {
          "base_uri": "https://localhost:8080/"
        },
        "id": "3wxrretsB3Eq",
        "outputId": "ca1aeb8a-128e-402b-93c9-2b0b52fc4deb"
      },
      "outputs": [
        {
          "output_type": "execute_result",
          "data": {
            "text/plain": [
              "0"
            ]
          },
          "metadata": {},
          "execution_count": 20
        }
      ],
      "source": [
        "x.argmin() #최솟값의 위치"
      ]
    },
    {
      "cell_type": "code",
      "execution_count": null,
      "metadata": {
        "colab": {
          "base_uri": "https://localhost:8080/"
        },
        "id": "zAd1XD5uB3HQ",
        "outputId": "d9feb5a8-bc33-4d4b-f423-79d1518b486f"
      },
      "outputs": [
        {
          "output_type": "execute_result",
          "data": {
            "text/plain": [
              "1"
            ]
          },
          "metadata": {},
          "execution_count": 21
        }
      ],
      "source": [
        "x.argmax() #최댓값의 위치"
      ]
    },
    {
      "cell_type": "code",
      "execution_count": null,
      "metadata": {
        "colab": {
          "base_uri": "https://localhost:8080/"
        },
        "id": "U6nrn-MJB3JQ",
        "outputId": "09a819fe-55e8-4112-af32-be5eafa5612c"
      },
      "outputs": [
        {
          "output_type": "execute_result",
          "data": {
            "text/plain": [
              "2.0"
            ]
          },
          "metadata": {},
          "execution_count": 22
        }
      ],
      "source": [
        "x.mean()"
      ]
    },
    {
      "cell_type": "code",
      "execution_count": null,
      "metadata": {
        "colab": {
          "base_uri": "https://localhost:8080/"
        },
        "id": "lzr8_xuuB3Lm",
        "outputId": "855c4120-185a-4b51-e68c-413bbb5f9753"
      },
      "outputs": [
        {
          "output_type": "execute_result",
          "data": {
            "text/plain": [
              "2.0"
            ]
          },
          "metadata": {},
          "execution_count": 23
        }
      ],
      "source": [
        "np.median(x)"
      ]
    },
    {
      "cell_type": "code",
      "execution_count": null,
      "metadata": {
        "colab": {
          "base_uri": "https://localhost:8080/"
        },
        "id": "e-gWSrBwB3OO",
        "outputId": "c0759949-6271-4185-c4e6-e010f7201e36"
      },
      "outputs": [
        {
          "output_type": "execute_result",
          "data": {
            "text/plain": [
              "False"
            ]
          },
          "metadata": {},
          "execution_count": 24
        }
      ],
      "source": [
        "np.all([True, True, False]) #all 에서는 False가 하나라도 있으면 False 출력"
      ]
    },
    {
      "cell_type": "code",
      "execution_count": null,
      "metadata": {
        "colab": {
          "base_uri": "https://localhost:8080/"
        },
        "id": "L7xMnIunCYji",
        "outputId": "1a32a569-7207-40b3-bd3c-c3ce99f743ac"
      },
      "outputs": [
        {
          "output_type": "execute_result",
          "data": {
            "text/plain": [
              "True"
            ]
          },
          "metadata": {},
          "execution_count": 25
        }
      ],
      "source": [
        "np.any([True, False, False]) #any에서는 True가 하나라도 있으면 True 출력"
      ]
    },
    {
      "cell_type": "code",
      "execution_count": null,
      "metadata": {
        "colab": {
          "base_uri": "https://localhost:8080/"
        },
        "id": "4sXMi1TcCYmU",
        "outputId": "69d06b40-f8c4-42e1-9a8a-1abeab4650ac"
      },
      "outputs": [
        {
          "output_type": "stream",
          "name": "stderr",
          "text": [
            "/usr/local/lib/python3.7/dist-packages/ipykernel_launcher.py:1: DeprecationWarning: `np.int` is a deprecated alias for the builtin `int`. To silence this warning, use `int` by itself. Doing this will not modify any behavior and is safe. When replacing `np.int`, you may wish to use e.g. `np.int64` or `np.int32` to specify the precision. If you wish to review your current use, check the release note link for additional information.\n",
            "Deprecated in NumPy 1.20; for more details and guidance: https://numpy.org/devdocs/release/1.20.0-notes.html#deprecations\n",
            "  \"\"\"Entry point for launching an IPython kernel.\n"
          ]
        },
        {
          "output_type": "execute_result",
          "data": {
            "text/plain": [
              "array([[0, 0, 0, ..., 0, 0, 0],\n",
              "       [0, 0, 0, ..., 0, 0, 0],\n",
              "       [0, 0, 0, ..., 0, 0, 0],\n",
              "       ...,\n",
              "       [0, 0, 0, ..., 0, 0, 0],\n",
              "       [0, 0, 0, ..., 0, 0, 0],\n",
              "       [0, 0, 0, ..., 0, 0, 0]])"
            ]
          },
          "metadata": {},
          "execution_count": 26
        }
      ],
      "source": [
        "a = np.zeros((100, 100), dtype = np.int)\n",
        "a"
      ]
    },
    {
      "cell_type": "code",
      "execution_count": null,
      "metadata": {
        "colab": {
          "base_uri": "https://localhost:8080/"
        },
        "id": "08X99mgWCYpJ",
        "outputId": "55d80897-6660-4c38-faa0-67e9343b0ae3"
      },
      "outputs": [
        {
          "output_type": "execute_result",
          "data": {
            "text/plain": [
              "False"
            ]
          },
          "metadata": {},
          "execution_count": 27
        }
      ],
      "source": [
        "np.any(a != 0)  #하나라도 0이 아닌게 있나?"
      ]
    },
    {
      "cell_type": "code",
      "execution_count": null,
      "metadata": {
        "colab": {
          "base_uri": "https://localhost:8080/"
        },
        "id": "KWQiuJSXCYq4",
        "outputId": "0f76c271-c666-4e03-89df-81afc0031fdd"
      },
      "outputs": [
        {
          "output_type": "execute_result",
          "data": {
            "text/plain": [
              "True"
            ]
          },
          "metadata": {},
          "execution_count": 28
        }
      ],
      "source": [
        "np.all( a == a)"
      ]
    },
    {
      "cell_type": "code",
      "execution_count": null,
      "metadata": {
        "id": "VLZttgUoCYtl"
      },
      "outputs": [],
      "source": [
        "a = np.array([1, 2, 3, 2])\n",
        "b = np.array([2, 2, 3, 2])\n",
        "c = np.array([6, 4, 4, 5])"
      ]
    },
    {
      "cell_type": "code",
      "execution_count": null,
      "metadata": {
        "colab": {
          "base_uri": "https://localhost:8080/"
        },
        "id": "XDJ7y8JRCtm5",
        "outputId": "748d4f15-dfe7-4d11-8a3f-8c4cb87cd369"
      },
      "outputs": [
        {
          "output_type": "execute_result",
          "data": {
            "text/plain": [
              "True"
            ]
          },
          "metadata": {},
          "execution_count": 30
        }
      ],
      "source": [
        "((a<=b) & (b <= c)).all()  #a배열의 원소가 b보다 작고, b배열의 원소가 c보다 작은가?"
      ]
    },
    {
      "cell_type": "markdown",
      "metadata": {
        "id": "qN-zS2SVDDGF"
      },
      "source": [
        "###연산의 대상이 2차원 이상인 경우에는 어떤 차원을 계산할 지 axis 인수를 사용하여 지시한다.\n",
        "- axis = 0 이면 열 연산 (디폴트)\n",
        "- axis = 1 이면 행 연산\n"
      ]
    },
    {
      "cell_type": "code",
      "execution_count": null,
      "metadata": {
        "colab": {
          "base_uri": "https://localhost:8080/"
        },
        "id": "ZK0Zuk6ADBR6",
        "outputId": "1fdf6ad2-779a-435c-82a6-215e03d10f28"
      },
      "outputs": [
        {
          "output_type": "execute_result",
          "data": {
            "text/plain": [
              "array([[1, 1],\n",
              "       [2, 2]])"
            ]
          },
          "metadata": {},
          "execution_count": 31
        }
      ],
      "source": [
        "x = np.array([[1, 1], [2, 2]])\n",
        "x"
      ]
    },
    {
      "cell_type": "code",
      "execution_count": null,
      "metadata": {
        "colab": {
          "base_uri": "https://localhost:8080/"
        },
        "id": "3OsxjwefCtpT",
        "outputId": "08368b3d-4349-45c8-8261-407cec44c508"
      },
      "outputs": [
        {
          "output_type": "execute_result",
          "data": {
            "text/plain": [
              "6"
            ]
          },
          "metadata": {},
          "execution_count": 32
        }
      ],
      "source": [
        "x.sum()"
      ]
    },
    {
      "cell_type": "code",
      "execution_count": null,
      "metadata": {
        "colab": {
          "base_uri": "https://localhost:8080/"
        },
        "id": "upfpA4zbCtr2",
        "outputId": "fd69f320-c7a7-4429-f389-e71cebbdfa88"
      },
      "outputs": [
        {
          "output_type": "execute_result",
          "data": {
            "text/plain": [
              "6"
            ]
          },
          "metadata": {},
          "execution_count": 33
        }
      ],
      "source": [
        "np.sum(x)"
      ]
    },
    {
      "cell_type": "code",
      "execution_count": null,
      "metadata": {
        "colab": {
          "base_uri": "https://localhost:8080/"
        },
        "id": "8WcelPZiDUC8",
        "outputId": "92fdce98-3d76-47e6-d8f2-64881a1157d9"
      },
      "outputs": [
        {
          "output_type": "execute_result",
          "data": {
            "text/plain": [
              "array([3, 3])"
            ]
          },
          "metadata": {},
          "execution_count": 34
        }
      ],
      "source": [
        "x.sum(axis = 0) #열합계"
      ]
    },
    {
      "cell_type": "code",
      "execution_count": null,
      "metadata": {
        "colab": {
          "base_uri": "https://localhost:8080/"
        },
        "id": "OidNpyGNDT_9",
        "outputId": "d0678b76-a74d-4540-eb7b-0c3118097d1e"
      },
      "outputs": [
        {
          "output_type": "execute_result",
          "data": {
            "text/plain": [
              "array([2, 4])"
            ]
          },
          "metadata": {},
          "execution_count": 35
        }
      ],
      "source": [
        "x.sum(axis = 1) #행합계"
      ]
    },
    {
      "cell_type": "markdown",
      "metadata": {
        "id": "zt3-CIFxDd9A"
      },
      "source": [
        "##Practice 3. 3. 1\n",
        "실수로 이루어진 5 x 6 형태의 데이터 행렬을 만들고 이 데이터에 대해 다음과 같은 값을 구한다.\n",
        "1. 전체의 최댓값  \n",
        "2. 각 행의 합  \n",
        "3. 각 행의 최댓값  \n",
        "4. 각 열의 평균  \n",
        "5. 각 열의 최솟값  "
      ]
    },
    {
      "cell_type": "code",
      "source": [
        "k = np.random.randint(100, size = (5, 6))\n",
        "k"
      ],
      "metadata": {
        "colab": {
          "base_uri": "https://localhost:8080/"
        },
        "id": "Tp564Va2yICr",
        "outputId": "e1ce7732-8f80-4790-e0de-b5fca04ca7ef"
      },
      "execution_count": null,
      "outputs": [
        {
          "output_type": "execute_result",
          "data": {
            "text/plain": [
              "array([[98, 68, 95, 33, 57, 86],\n",
              "       [36, 80, 91,  7, 14, 95],\n",
              "       [10, 60, 46, 81, 78, 38],\n",
              "       [97, 30, 83, 50,  2, 45],\n",
              "       [ 3, 34, 31, 55, 74, 13]])"
            ]
          },
          "metadata": {},
          "execution_count": 83
        }
      ]
    },
    {
      "cell_type": "code",
      "source": [
        "k.max()"
      ],
      "metadata": {
        "colab": {
          "base_uri": "https://localhost:8080/"
        },
        "id": "-UaQEnDHy15h",
        "outputId": "468a0a89-c2c2-45d2-e7dd-e7a9e1be39b0"
      },
      "execution_count": null,
      "outputs": [
        {
          "output_type": "execute_result",
          "data": {
            "text/plain": [
              "98"
            ]
          },
          "metadata": {},
          "execution_count": 84
        }
      ]
    },
    {
      "cell_type": "code",
      "source": [
        "k.sum(axis = 1)"
      ],
      "metadata": {
        "colab": {
          "base_uri": "https://localhost:8080/"
        },
        "id": "5wsq7Fk1y9M0",
        "outputId": "f2fd3ef2-d7d8-4532-d9c2-f10b74d3efb7"
      },
      "execution_count": null,
      "outputs": [
        {
          "output_type": "execute_result",
          "data": {
            "text/plain": [
              "array([437, 323, 313, 307, 210])"
            ]
          },
          "metadata": {},
          "execution_count": 85
        }
      ]
    },
    {
      "cell_type": "code",
      "source": [
        "k.max(axis = 1)"
      ],
      "metadata": {
        "colab": {
          "base_uri": "https://localhost:8080/"
        },
        "id": "QR677rKOzJMt",
        "outputId": "4124f8e7-6e74-445a-cc65-ff9f2fc395d2"
      },
      "execution_count": null,
      "outputs": [
        {
          "output_type": "execute_result",
          "data": {
            "text/plain": [
              "array([98, 95, 81, 97, 74])"
            ]
          },
          "metadata": {},
          "execution_count": 86
        }
      ]
    },
    {
      "cell_type": "code",
      "source": [
        "k.mean(axis = 0)"
      ],
      "metadata": {
        "colab": {
          "base_uri": "https://localhost:8080/"
        },
        "id": "OAnn-lTozJEK",
        "outputId": "0831a11d-748d-43f5-b3fd-075fe965da4f"
      },
      "execution_count": null,
      "outputs": [
        {
          "output_type": "execute_result",
          "data": {
            "text/plain": [
              "array([48.8, 54.4, 69.2, 45.2, 45. , 55.4])"
            ]
          },
          "metadata": {},
          "execution_count": 88
        }
      ]
    },
    {
      "cell_type": "code",
      "source": [
        "k.min(axis = 0)"
      ],
      "metadata": {
        "colab": {
          "base_uri": "https://localhost:8080/"
        },
        "id": "kX8RpUwTzQHm",
        "outputId": "2c5b4968-c145-44b0-a942-a58026e6cba2"
      },
      "execution_count": null,
      "outputs": [
        {
          "output_type": "execute_result",
          "data": {
            "text/plain": [
              "array([ 3, 30, 31,  7,  2, 13])"
            ]
          },
          "metadata": {},
          "execution_count": 89
        }
      ]
    },
    {
      "cell_type": "markdown",
      "metadata": {
        "id": "5frQc21TsmGu"
      },
      "source": [
        "##정렬\n",
        "- sort 함수나 메서드를 사용하여 배열 내 원소를 크기에 따라 정렬한다.\n",
        "- 2차원 이상의 경우  \n",
        "  axis = 0 : 행을 정렬  \n",
        " axis = 1 : 열을 정렬  \n",
        " 디폴트 -1 : 가장 안쪽(나중)의 차원 정렬"
      ]
    },
    {
      "cell_type": "code",
      "execution_count": null,
      "metadata": {
        "colab": {
          "base_uri": "https://localhost:8080/"
        },
        "id": "pnuOAbTFDT4l",
        "outputId": "e809f354-e7a2-4ff4-cc57-ee19039ec795"
      },
      "outputs": [
        {
          "output_type": "execute_result",
          "data": {
            "text/plain": [
              "array([[ 4,  3,  5,  7],\n",
              "       [ 1, 12, 11,  9],\n",
              "       [ 2, 15,  1, 14]])"
            ]
          },
          "metadata": {},
          "execution_count": 36
        }
      ],
      "source": [
        "a = np.array([[4, 3, 5, 7],\n",
        "[1, 12, 11, 9],\n",
        "[2, 15, 1, 14]])\n",
        "a"
      ]
    },
    {
      "cell_type": "code",
      "execution_count": null,
      "metadata": {
        "id": "kWpfA-PiDT2U"
      },
      "outputs": [],
      "source": []
    },
    {
      "cell_type": "code",
      "execution_count": null,
      "metadata": {
        "id": "Hzp6Nab-DTzq"
      },
      "outputs": [],
      "source": []
    },
    {
      "cell_type": "markdown",
      "metadata": {
        "id": "osIPXylu0lvR"
      },
      "source": [
        "## Inf 와 NaN\n",
        "- np.inf (infinity) - 무한대\n",
        "- np.nan (not a number) - 정의할 수 없음"
      ]
    },
    {
      "cell_type": "code",
      "execution_count": null,
      "metadata": {
        "id": "vKYAT3pA0u7p",
        "colab": {
          "base_uri": "https://localhost:8080/"
        },
        "outputId": "e2c22643-559e-4bd2-ac9d-2db22fe9a760"
      },
      "outputs": [
        {
          "output_type": "stream",
          "name": "stderr",
          "text": [
            "/usr/local/lib/python3.7/dist-packages/ipykernel_launcher.py:1: RuntimeWarning: divide by zero encountered in true_divide\n",
            "  \"\"\"Entry point for launching an IPython kernel.\n",
            "/usr/local/lib/python3.7/dist-packages/ipykernel_launcher.py:1: RuntimeWarning: invalid value encountered in true_divide\n",
            "  \"\"\"Entry point for launching an IPython kernel.\n"
          ]
        },
        {
          "output_type": "execute_result",
          "data": {
            "text/plain": [
              "array([  0.,  inf, -inf,  nan])"
            ]
          },
          "metadata": {},
          "execution_count": 37
        }
      ],
      "source": [
        "np.array([0, 1, -1, 0]) / np.array([1, 0, 0, 0])"
      ]
    },
    {
      "cell_type": "markdown",
      "metadata": {
        "id": "R3SZutSj1Dvj"
      },
      "source": [
        "## 배열 생성\n",
        "- zeros : 0으로 초기화 된 배열\n",
        "- ones : 1로 초기화 된 배열\n",
        "- zeros_like, ones_like : 이미 있는 배열과 같은 크기의 배열로 생성\n",
        "- empty : 배열을 생성만 하고 특정 값으로 초기와 하지 않음.\n",
        "- arange : NumPy 버전 range\n",
        "- linspace, lognspace : 선형 구간 또는 로그 구간을 지정한 구간 수 만큼 분할한다."
      ]
    },
    {
      "cell_type": "code",
      "execution_count": null,
      "metadata": {
        "id": "zCCcJj-oxbt_",
        "colab": {
          "base_uri": "https://localhost:8080/"
        },
        "outputId": "2a44b537-605b-477a-ba83-795d17f5db39"
      },
      "outputs": [
        {
          "output_type": "execute_result",
          "data": {
            "text/plain": [
              "array([0., 0., 0., 0., 0.])"
            ]
          },
          "metadata": {},
          "execution_count": 38
        }
      ],
      "source": [
        "#크기가 정해져 있고 모든 값이 0인 배열을 생성\n",
        "\n",
        "a = np.zeros(5)\n",
        "a"
      ]
    },
    {
      "cell_type": "code",
      "execution_count": null,
      "metadata": {
        "id": "LTLBxMNWv6Lc",
        "colab": {
          "base_uri": "https://localhost:8080/"
        },
        "outputId": "70892eaa-38f0-4e94-c576-972e2340a550"
      },
      "outputs": [
        {
          "output_type": "execute_result",
          "data": {
            "text/plain": [
              "array([[0., 0., 0.],\n",
              "       [0., 0., 0.]])"
            ]
          },
          "metadata": {},
          "execution_count": 39
        }
      ],
      "source": [
        "#크기를 나타내는 튜플로 다차원 배열 생성\n",
        "\n",
        "b = np.zeros((2, 3))\n",
        "b"
      ]
    },
    {
      "cell_type": "code",
      "execution_count": null,
      "metadata": {
        "id": "Ls7-l0vVwNVS",
        "colab": {
          "base_uri": "https://localhost:8080/"
        },
        "outputId": "33ac4e88-e0ec-47db-be7c-49a43cb44b52"
      },
      "outputs": [
        {
          "output_type": "execute_result",
          "data": {
            "text/plain": [
              "array([0, 0, 0, 0, 0], dtype=int32)"
            ]
          },
          "metadata": {},
          "execution_count": 40
        }
      ],
      "source": [
        "# dtype으로 해당 원소의 자료형을 지정할 수 있다.\n",
        "\n",
        "c = np.zeros(5, dtype = \"i\")\n",
        "c"
      ]
    },
    {
      "cell_type": "code",
      "execution_count": null,
      "metadata": {
        "id": "e5S90O5Ewa7b",
        "colab": {
          "base_uri": "https://localhost:8080/"
        },
        "outputId": "8b6aa98e-8479-4750-cdfd-0c6e46024a01"
      },
      "outputs": [
        {
          "output_type": "execute_result",
          "data": {
            "text/plain": [
              "array([[[1, 1, 1, 1],\n",
              "        [1, 1, 1, 1],\n",
              "        [1, 1, 1, 1]],\n",
              "\n",
              "       [[1, 1, 1, 1],\n",
              "        [1, 1, 1, 1],\n",
              "        [1, 1, 1, 1]]])"
            ]
          },
          "metadata": {},
          "execution_count": 41
        }
      ],
      "source": [
        "# 1로 초기화 된 배열 생성\n",
        "\n",
        "e = np.ones((2, 3, 4), dtype = \"i8\") #3차원 배열 생성\n",
        "e"
      ]
    },
    {
      "cell_type": "code",
      "execution_count": null,
      "metadata": {
        "id": "rOQlFC8Xwa4Y",
        "colab": {
          "base_uri": "https://localhost:8080/"
        },
        "outputId": "dfb81f4d-4967-4e9a-a06a-abc768089fc4"
      },
      "outputs": [
        {
          "output_type": "execute_result",
          "data": {
            "text/plain": [
              "array([[1., 1., 1.],\n",
              "       [1., 1., 1.]], dtype=float32)"
            ]
          },
          "metadata": {},
          "execution_count": 42
        }
      ],
      "source": [
        "#zero_like, ones_like\n",
        "\n",
        "f = np.ones_like(b, dtype = \"f\") #b는 (2, 3)크기를 가진 배열이었다.\n",
        "f"
      ]
    },
    {
      "cell_type": "code",
      "execution_count": null,
      "metadata": {
        "id": "dbr6RR3hwaoA",
        "colab": {
          "base_uri": "https://localhost:8080/"
        },
        "outputId": "a01dcc83-ffd7-4626-a899-9e80b089200c"
      },
      "outputs": [
        {
          "output_type": "execute_result",
          "data": {
            "text/plain": [
              "array([[1.98581663e-316, 2.47032823e-322, 0.00000000e+000],\n",
              "       [0.00000000e+000, 0.00000000e+000, 8.60952352e-072],\n",
              "       [4.96299791e-090, 4.01519931e-057, 2.32529919e-057],\n",
              "       [1.18995396e-075, 3.99910963e+252, 1.46030983e-319]])"
            ]
          },
          "metadata": {},
          "execution_count": 43
        }
      ],
      "source": [
        "g = np.empty((4, 3))\n",
        "g"
      ]
    },
    {
      "cell_type": "code",
      "execution_count": null,
      "metadata": {
        "id": "sKyi-gj8xgfm",
        "colab": {
          "base_uri": "https://localhost:8080/"
        },
        "outputId": "97b67c5c-ea26-41a3-9888-48a798612150"
      },
      "outputs": [
        {
          "output_type": "execute_result",
          "data": {
            "text/plain": [
              "array([0, 1, 2, 3, 4, 5, 6, 7, 8, 9])"
            ]
          },
          "metadata": {},
          "execution_count": 44
        }
      ],
      "source": [
        "np.arange(10) #0, 1, 2 .. 9"
      ]
    },
    {
      "cell_type": "code",
      "execution_count": null,
      "metadata": {
        "id": "n1LzPjTxxmhE",
        "colab": {
          "base_uri": "https://localhost:8080/"
        },
        "outputId": "c438dbba-3758-4787-93b6-42cf4149784f"
      },
      "outputs": [
        {
          "output_type": "execute_result",
          "data": {
            "text/plain": [
              "array([2, 5, 8])"
            ]
          },
          "metadata": {},
          "execution_count": 45
        }
      ],
      "source": [
        "np.arange(2, 10, 3) #(시작, 끝(포함X), 단계)"
      ]
    },
    {
      "cell_type": "code",
      "execution_count": null,
      "metadata": {
        "id": "ewX8O1yxx3LY",
        "colab": {
          "base_uri": "https://localhost:8080/"
        },
        "outputId": "9311f7c8-8f7b-4f50-ed2a-c4a74752b319"
      },
      "outputs": [
        {
          "output_type": "execute_result",
          "data": {
            "text/plain": [
              "array([  0.,  25.,  50.,  75., 100.])"
            ]
          },
          "metadata": {},
          "execution_count": 46
        }
      ],
      "source": [
        "np.linspace(0, 100, 5) #시작, 끝, 구간 갯수"
      ]
    },
    {
      "cell_type": "code",
      "execution_count": null,
      "metadata": {
        "id": "4lPsLfVpx96y",
        "colab": {
          "base_uri": "https://localhost:8080/"
        },
        "outputId": "aefa83b0-b6da-4782-f4cb-2533d55197f0"
      },
      "outputs": [
        {
          "output_type": "execute_result",
          "data": {
            "text/plain": [
              "array([ 1.25892541,  1.58489319,  1.99526231,  2.51188643,  3.16227766,\n",
              "        3.98107171,  5.01187234,  6.30957344,  7.94328235, 10.        ])"
            ]
          },
          "metadata": {},
          "execution_count": 47
        }
      ],
      "source": [
        "np.logspace(0.1, 1, 10)"
      ]
    },
    {
      "cell_type": "markdown",
      "metadata": {
        "id": "4slAPfWZ1sLL"
      },
      "source": [
        "## Transpose (전치 연산)\n",
        "- 행과 열을 바꾸는 작업\n",
        "- T속성으로 구한다."
      ]
    },
    {
      "cell_type": "code",
      "execution_count": null,
      "metadata": {
        "id": "Rbc3Xf3Qx1XN",
        "colab": {
          "base_uri": "https://localhost:8080/"
        },
        "outputId": "86563092-5e9f-4374-92a8-044aa86d816f"
      },
      "outputs": [
        {
          "output_type": "execute_result",
          "data": {
            "text/plain": [
              "array([[1, 2, 3],\n",
              "       [4, 5, 6]])"
            ]
          },
          "metadata": {},
          "execution_count": 48
        }
      ],
      "source": [
        "A = np.array([[1, 2, 3], [4, 5, 6]])\n",
        "A"
      ]
    },
    {
      "cell_type": "code",
      "execution_count": null,
      "metadata": {
        "id": "V2orQGcxyBsR",
        "colab": {
          "base_uri": "https://localhost:8080/"
        },
        "outputId": "c5229dc3-fc39-4fd0-82ee-3f0e3924d71c"
      },
      "outputs": [
        {
          "output_type": "execute_result",
          "data": {
            "text/plain": [
              "array([[1, 4],\n",
              "       [2, 5],\n",
              "       [3, 6]])"
            ]
          },
          "metadata": {},
          "execution_count": 49
        }
      ],
      "source": [
        "A.T"
      ]
    },
    {
      "cell_type": "markdown",
      "metadata": {
        "id": "R2-WF6-S17g9"
      },
      "source": [
        "## Reshape (배열의 크기 변형)\n",
        "- 배열 내부 데이터는 보존하고 형태만 바꾼다.\n",
        "- 사용하는 원소의 개수가 정해져 있어서 reshape 명령 튜플 원소 중 하나는 -1로 대체할 수 있다.\n",
        "- 다차원 배열을 1차원으로 만들기 위해서 flatten이나 ravel 메서드를 이용한다.\n",
        "- 같은 배열에 대해 차원만 1차원 증가하는 경우는 newaxis를 이용한다."
      ]
    },
    {
      "cell_type": "code",
      "execution_count": null,
      "metadata": {
        "id": "2B8UVIh5yGcl",
        "colab": {
          "base_uri": "https://localhost:8080/"
        },
        "outputId": "2d067a09-1320-4bf2-e677-3108afe33e57"
      },
      "outputs": [
        {
          "output_type": "execute_result",
          "data": {
            "text/plain": [
              "array([[1, 2, 3],\n",
              "       [4, 5, 6]])"
            ]
          },
          "metadata": {},
          "execution_count": 50
        }
      ],
      "source": [
        "c = np.array([[1, 2, 3], [4, 5, 6]]) #2 x 3 array\n",
        "c"
      ]
    },
    {
      "cell_type": "code",
      "execution_count": null,
      "metadata": {
        "id": "15tfGs7W4ZsR",
        "colab": {
          "base_uri": "https://localhost:8080/"
        },
        "outputId": "78660e2b-1e67-4179-a9ed-e4e01b5ab632"
      },
      "outputs": [
        {
          "output_type": "execute_result",
          "data": {
            "text/plain": [
              "array([[1, 2],\n",
              "       [3, 4],\n",
              "       [5, 6]])"
            ]
          },
          "metadata": {},
          "execution_count": 51
        }
      ],
      "source": [
        "d = c.reshape(3, 2) # 3 x 2 array\n",
        "d"
      ]
    },
    {
      "cell_type": "code",
      "execution_count": null,
      "metadata": {
        "id": "9UN0kKuT5uIo",
        "colab": {
          "base_uri": "https://localhost:8080/"
        },
        "outputId": "97d4eb57-d58e-442c-f5d5-4c5764699d62"
      },
      "outputs": [
        {
          "output_type": "execute_result",
          "data": {
            "text/plain": [
              "array([[1, 2],\n",
              "       [3, 4],\n",
              "       [5, 6]])"
            ]
          },
          "metadata": {},
          "execution_count": 52
        }
      ],
      "source": [
        "d = c.reshape(3, -1) # 튜플 원소 중 하나는 -1이라는 숫자로 대체할 수 있다.(자동으로 2로 생성됨)\n",
        "d"
      ]
    },
    {
      "cell_type": "code",
      "execution_count": null,
      "metadata": {
        "id": "KZt9pOUb5_ZO",
        "colab": {
          "base_uri": "https://localhost:8080/"
        },
        "outputId": "584f3873-8f3c-460e-fd19-43f7efc353b2"
      },
      "outputs": [
        {
          "output_type": "execute_result",
          "data": {
            "text/plain": [
              "array([1, 2, 3, 4, 5, 6])"
            ]
          },
          "metadata": {},
          "execution_count": 53
        }
      ],
      "source": [
        "d.flatten() #1차원으로 생성"
      ]
    },
    {
      "cell_type": "code",
      "execution_count": null,
      "metadata": {
        "id": "JOMX_fQn6E75",
        "colab": {
          "base_uri": "https://localhost:8080/"
        },
        "outputId": "2d74f7e7-76b2-4133-8d7a-60f0c4611f9a"
      },
      "outputs": [
        {
          "output_type": "execute_result",
          "data": {
            "text/plain": [
              "array([1, 2, 3, 4, 5, 6])"
            ]
          },
          "metadata": {},
          "execution_count": 54
        }
      ],
      "source": [
        "d.ravel() #1차원으로 생성"
      ]
    },
    {
      "cell_type": "code",
      "execution_count": null,
      "metadata": {
        "id": "MT5zVneT6vKB",
        "colab": {
          "base_uri": "https://localhost:8080/"
        },
        "outputId": "c314d0ea-6b30-4e4b-f99f-796161107f14"
      },
      "outputs": [
        {
          "output_type": "execute_result",
          "data": {
            "text/plain": [
              "array([[[1, 2]],\n",
              "\n",
              "       [[3, 4]],\n",
              "\n",
              "       [[5, 6]]])"
            ]
          },
          "metadata": {},
          "execution_count": 55
        }
      ],
      "source": [
        "d[:, np.newaxis] #같은 데이터를 갖고 있지만 3차원이 됨"
      ]
    },
    {
      "cell_type": "markdown",
      "metadata": {
        "id": "QNOokwTX6_TB"
      },
      "source": [
        "## Concatenate (배열 연결)\n",
        "- hstack : 행의 수(세로)가 같은 두 개 이상의 배열을 옆으로 연결, 연결할 배열은 하나의 리스트에 담는다.\n",
        "- vstack : 열의 수(가로)가 같은 두 개 이상의 배열을 위 아래로 연결, 연결할 배열은 하나의 리스트에 담는다.\n",
        "- dstack : 깊이(depth) 방향으로 배열, 가장 안쪽의 원소의 차원이 증가한다.\n",
        "- stack : 사용자가 원하는 방향으로 차원을 증가시킨다.\n",
        "- r_ : hstack과 비슷하게 배열을 좌우로 연결\n",
        "- c_ : 배열의 차원 증가시킨 후 좌우로 연결, 만약 1차원 배열끼리 연결하면 2차원 배열이 된다.\n",
        "- tile : 동일한 배열을 반복하여 연결"
      ]
    },
    {
      "cell_type": "code",
      "execution_count": null,
      "metadata": {
        "id": "OPlY_VMQ4cG5",
        "colab": {
          "base_uri": "https://localhost:8080/"
        },
        "outputId": "a27cc535-63cc-4e22-f3b6-55cd44b8e6b6"
      },
      "outputs": [
        {
          "output_type": "execute_result",
          "data": {
            "text/plain": [
              "array([[1., 1., 1., 0., 0.],\n",
              "       [1., 1., 1., 0., 0.]])"
            ]
          },
          "metadata": {},
          "execution_count": 56
        }
      ],
      "source": [
        "#hstack\n",
        "a1 = np.ones((2, 3))\n",
        "a2 = np.zeros((2, 2))\n",
        "np.hstack([a1, a2]) #a1, a2 배열을 하나의 리스트에 담아 hstack을 사용"
      ]
    },
    {
      "cell_type": "code",
      "execution_count": null,
      "metadata": {
        "id": "cWIUOT0J7zkn",
        "colab": {
          "base_uri": "https://localhost:8080/"
        },
        "outputId": "49ce54c5-3371-4cc7-ff2c-03112f6b0961"
      },
      "outputs": [
        {
          "output_type": "execute_result",
          "data": {
            "text/plain": [
              "array([[1., 1., 1.],\n",
              "       [1., 1., 1.],\n",
              "       [0., 0., 0.],\n",
              "       [0., 0., 0.],\n",
              "       [0., 0., 0.]])"
            ]
          },
          "metadata": {},
          "execution_count": 57
        }
      ],
      "source": [
        "#vstack\n",
        "b1 = np.ones((2, 3))\n",
        "b2 = np.zeros((3, 3))\n",
        "np.vstack([b1, b2]) #a1, a2 배열을 하나의 리스트에 담아 vstack을 사용"
      ]
    },
    {
      "cell_type": "code",
      "execution_count": null,
      "metadata": {
        "id": "hGUIgpNJrWGC",
        "colab": {
          "base_uri": "https://localhost:8080/"
        },
        "outputId": "ffc9ea5c-2f52-4706-b253-3ae41c00c05d"
      },
      "outputs": [
        {
          "output_type": "execute_result",
          "data": {
            "text/plain": [
              "array([[[1., 0.],\n",
              "        [1., 0.],\n",
              "        [1., 0.],\n",
              "        [1., 0.]],\n",
              "\n",
              "       [[1., 0.],\n",
              "        [1., 0.],\n",
              "        [1., 0.],\n",
              "        [1., 0.]],\n",
              "\n",
              "       [[1., 0.],\n",
              "        [1., 0.],\n",
              "        [1., 0.],\n",
              "        [1., 0.]]])"
            ]
          },
          "metadata": {},
          "execution_count": 58
        }
      ],
      "source": [
        "#dstack\n",
        "c1 = np.ones((3, 4))\n",
        "c2 = np.zeros((3, 4))\n",
        "np.dstack([c1, c2])"
      ]
    },
    {
      "cell_type": "code",
      "execution_count": null,
      "metadata": {
        "id": "AyTTn_gUryp1",
        "colab": {
          "base_uri": "https://localhost:8080/"
        },
        "outputId": "fd93f033-782a-45db-cd6a-74ac80cc7c02"
      },
      "outputs": [
        {
          "output_type": "execute_result",
          "data": {
            "text/plain": [
              "(3, 4, 2)"
            ]
          },
          "metadata": {},
          "execution_count": 59
        }
      ],
      "source": [
        "(np.dstack([c1, c2])).shape #c1, c2 모두 (3, 4) 크기의 배열이었는데 dstack 후 (3, 4, 2)로 가장 안쪽의 차원이 하나 증가했다."
      ]
    },
    {
      "cell_type": "code",
      "execution_count": null,
      "metadata": {
        "id": "BtYGflDTsJAW",
        "colab": {
          "base_uri": "https://localhost:8080/"
        },
        "outputId": "0bf23bba-e721-451c-b4ef-54b6931b00d1"
      },
      "outputs": [
        {
          "output_type": "execute_result",
          "data": {
            "text/plain": [
              "array([[[1., 1., 1., 1.],\n",
              "        [1., 1., 1., 1.],\n",
              "        [1., 1., 1., 1.]],\n",
              "\n",
              "       [[0., 0., 0., 0.],\n",
              "        [0., 0., 0., 0.],\n",
              "        [0., 0., 0., 0.]]])"
            ]
          },
          "metadata": {},
          "execution_count": 60
        }
      ],
      "source": [
        "#stack axis = 0일 때 (3, 4) -> (2, 3, 4)로 첫 번째 차원이 증가\n",
        "c = np.stack([c1, c2])\n",
        "c"
      ]
    },
    {
      "cell_type": "code",
      "execution_count": null,
      "metadata": {
        "id": "VECcbHwMsU5_",
        "colab": {
          "base_uri": "https://localhost:8080/"
        },
        "outputId": "788eb52c-5d30-4cc3-afe0-dda93d9f396c"
      },
      "outputs": [
        {
          "output_type": "execute_result",
          "data": {
            "text/plain": [
              "array([[[1., 1., 1., 1.],\n",
              "        [0., 0., 0., 0.]],\n",
              "\n",
              "       [[1., 1., 1., 1.],\n",
              "        [0., 0., 0., 0.]],\n",
              "\n",
              "       [[1., 1., 1., 1.],\n",
              "        [0., 0., 0., 0.]]])"
            ]
          },
          "metadata": {},
          "execution_count": 61
        }
      ],
      "source": [
        "#stack axis = 1일 때 (3, 4) -> (3, 2, 4)로 두 번째 차원이 증가\n",
        "c = np.stack([c1, c2], axis = 1)\n",
        "c"
      ]
    },
    {
      "cell_type": "code",
      "execution_count": null,
      "metadata": {
        "id": "B3V5EQpisU8x",
        "colab": {
          "base_uri": "https://localhost:8080/"
        },
        "outputId": "2b26cb19-3a35-4d2e-ff68-8a2e31268d60"
      },
      "outputs": [
        {
          "output_type": "execute_result",
          "data": {
            "text/plain": [
              "array([[[1., 0.],\n",
              "        [1., 0.],\n",
              "        [1., 0.],\n",
              "        [1., 0.]],\n",
              "\n",
              "       [[1., 0.],\n",
              "        [1., 0.],\n",
              "        [1., 0.],\n",
              "        [1., 0.]],\n",
              "\n",
              "       [[1., 0.],\n",
              "        [1., 0.],\n",
              "        [1., 0.],\n",
              "        [1., 0.]]])"
            ]
          },
          "metadata": {},
          "execution_count": 62
        }
      ],
      "source": [
        "#stack axis = 2일 때 (3, 4) -> (3, 4, 2)로 두 번째 차원이 증가 = dstack과 동일\n",
        "c = np.stack([c1, c2], axis = 2)\n",
        "c"
      ]
    },
    {
      "cell_type": "code",
      "execution_count": null,
      "metadata": {
        "id": "AboQTp5EvZfm",
        "colab": {
          "base_uri": "https://localhost:8080/"
        },
        "outputId": "166c6502-5b14-4a85-8fa0-0fbef55f40f5"
      },
      "outputs": [
        {
          "output_type": "execute_result",
          "data": {
            "text/plain": [
              "array([1, 2, 3, 4, 5, 6])"
            ]
          },
          "metadata": {},
          "execution_count": 63
        }
      ],
      "source": [
        "#r_ 메서드 = hstack과 비슷하게 배열을 좌우로 연결\n",
        "np.r_[np.array([1, 2, 3]), np.array([4, 5, 6])]"
      ]
    },
    {
      "cell_type": "code",
      "execution_count": null,
      "metadata": {
        "id": "UqIizIP1vm21",
        "colab": {
          "base_uri": "https://localhost:8080/"
        },
        "outputId": "0d59a500-c5aa-4122-ee10-0141cd20bc6f"
      },
      "outputs": [
        {
          "output_type": "execute_result",
          "data": {
            "text/plain": [
              "array([[1, 4],\n",
              "       [2, 5],\n",
              "       [3, 6]])"
            ]
          },
          "metadata": {},
          "execution_count": 64
        }
      ],
      "source": [
        "#c_ 메서드 = 배열의 차원 증가시킨 후 좌우로 연결 \n",
        "np.c_[np.array([1, 2, 3]), np.array([4, 5, 6])]"
      ]
    },
    {
      "cell_type": "code",
      "execution_count": null,
      "metadata": {
        "id": "WkNUC_cGv7m_",
        "colab": {
          "base_uri": "https://localhost:8080/"
        },
        "outputId": "3e341ec0-57e7-4bb8-bb7c-15d20b1d36e7"
      },
      "outputs": [
        {
          "output_type": "execute_result",
          "data": {
            "text/plain": [
              "array([[0, 1, 2, 0, 1, 2],\n",
              "       [3, 4, 5, 3, 4, 5]])"
            ]
          },
          "metadata": {},
          "execution_count": 65
        }
      ],
      "source": [
        "a = np.array([[0, 1, 2], [3, 4, 5]])\n",
        "np.tile(a, 2) #a를 2번 연결"
      ]
    },
    {
      "cell_type": "code",
      "execution_count": null,
      "metadata": {
        "id": "9CzH6sgJwHQf",
        "colab": {
          "base_uri": "https://localhost:8080/"
        },
        "outputId": "55895ef7-ced1-4c5b-ce02-294a88a77050"
      },
      "outputs": [
        {
          "output_type": "execute_result",
          "data": {
            "text/plain": [
              "array([[0, 1, 2, 0, 1, 2],\n",
              "       [3, 4, 5, 3, 4, 5],\n",
              "       [0, 1, 2, 0, 1, 2],\n",
              "       [3, 4, 5, 3, 4, 5],\n",
              "       [0, 1, 2, 0, 1, 2],\n",
              "       [3, 4, 5, 3, 4, 5]])"
            ]
          },
          "metadata": {},
          "execution_count": 66
        }
      ],
      "source": [
        "a = np.array([[0, 1, 2], [3, 4, 5]])\n",
        "np.tile(a, (3, 2)) #a를 2번 연결"
      ]
    },
    {
      "cell_type": "markdown",
      "metadata": {
        "id": "ZDtxyz9S2lzo"
      },
      "source": [
        "### Practice 01\n",
        "- 다음 배열을 만들어 보시오.\n",
        "\n",
        "array([[   0.,    0.,    0.,    1.,    1.],  \n",
        "       [   0.,    0.,    0.,    1.,    1.],  \n",
        "       [   0.,    0.,    0.,    1.,    1.],  \n",
        "       [  10.,   20.,   30.,   40.,   50.],  \n",
        "       [  60.,   70.,   80.,   90.,  100.],  \n",
        "       [ 110.,  120.,  130.,  140.,  150.],  \n",
        "       [   0.,    0.,    0.,    1.,    1.],  \n",
        "       [   0.,    0.,    0.,    1.,    1.],  \n",
        "       [   0.,    0.,    0.,    1.,    1.],  \n",
        "       [  10.,   20.,   30.,   40.,   50.],  \n",
        "       [  60.,   70.,   80.,   90.,  100.],  \n",
        "       [ 110.,  120.,  130.,  140.,  150.]]) "
      ]
    },
    {
      "cell_type": "code",
      "execution_count": null,
      "metadata": {
        "id": "kYDgMSzPvmF1",
        "colab": {
          "base_uri": "https://localhost:8080/"
        },
        "outputId": "599cc863-3e79-4a22-d8a0-56fdb8691890"
      },
      "outputs": [
        {
          "output_type": "execute_result",
          "data": {
            "text/plain": [
              "array([[0., 0., 0., 1., 1.],\n",
              "       [0., 0., 0., 1., 1.],\n",
              "       [0., 0., 0., 1., 1.]])"
            ]
          },
          "metadata": {},
          "execution_count": 67
        }
      ],
      "source": [
        "a0 = np.zeros(3)\n",
        "a1 = np.ones(2)\n",
        "a = np.hstack([a0, a1])\n",
        "a = np.vstack([a, a, a])\n",
        "a"
      ]
    },
    {
      "cell_type": "code",
      "execution_count": null,
      "metadata": {
        "id": "eEMxTp1fxUs6"
      },
      "outputs": [],
      "source": [
        "b0 = np.arange(10, 160, 10)\n",
        "b = b0.reshape(3, 5)"
      ]
    },
    {
      "cell_type": "code",
      "execution_count": null,
      "metadata": {
        "id": "6wogpGI0xnBm",
        "colab": {
          "base_uri": "https://localhost:8080/"
        },
        "outputId": "48fe3eb5-a015-4f40-d10b-a94490f5f8b2"
      },
      "outputs": [
        {
          "output_type": "execute_result",
          "data": {
            "text/plain": [
              "array([[  0.,   0.,   0.,   1.,   1.],\n",
              "       [  0.,   0.,   0.,   1.,   1.],\n",
              "       [  0.,   0.,   0.,   1.,   1.],\n",
              "       [ 10.,  20.,  30.,  40.,  50.],\n",
              "       [ 60.,  70.,  80.,  90., 100.],\n",
              "       [110., 120., 130., 140., 150.]])"
            ]
          },
          "metadata": {},
          "execution_count": 69
        }
      ],
      "source": [
        "c = np.vstack([a, b])\n",
        "c"
      ]
    },
    {
      "cell_type": "code",
      "execution_count": null,
      "metadata": {
        "id": "3ZW_u7dyx8sE",
        "colab": {
          "base_uri": "https://localhost:8080/"
        },
        "outputId": "141894f2-eb54-4950-d182-f0252bf502b0"
      },
      "outputs": [
        {
          "output_type": "execute_result",
          "data": {
            "text/plain": [
              "array([[  0.,   0.,   0.,   1.,   1.],\n",
              "       [  0.,   0.,   0.,   1.,   1.],\n",
              "       [  0.,   0.,   0.,   1.,   1.],\n",
              "       [ 10.,  20.,  30.,  40.,  50.],\n",
              "       [ 60.,  70.,  80.,  90., 100.],\n",
              "       [110., 120., 130., 140., 150.],\n",
              "       [  0.,   0.,   0.,   1.,   1.],\n",
              "       [  0.,   0.,   0.,   1.,   1.],\n",
              "       [  0.,   0.,   0.,   1.,   1.],\n",
              "       [ 10.,  20.,  30.,  40.,  50.],\n",
              "       [ 60.,  70.,  80.,  90., 100.],\n",
              "       [110., 120., 130., 140., 150.]])"
            ]
          },
          "metadata": {},
          "execution_count": 70
        }
      ],
      "source": [
        "np.tile(c, (2, 1))"
      ]
    },
    {
      "cell_type": "markdown",
      "metadata": {
        "id": "NSqQ6PIR3mJC"
      },
      "source": [
        "## 2차원 그리드 포인트 생성\n",
        "- 그리드 포인트(grid point) : 변수가 2개인 2차원 함수의 그래프에서(x, y) 좌표값의 쌍\n",
        "- meshgrid : 사각형 영역을 구성하는 가로축의 점들과 세로축의 점들을 나타내는 두 벡터를 인수로 받아 사각형 영역을 이루는 조합을 출력한다."
      ]
    },
    {
      "cell_type": "code",
      "execution_count": null,
      "metadata": {
        "id": "Nr5AIBuG8TbN",
        "colab": {
          "base_uri": "https://localhost:8080/"
        },
        "outputId": "52fca8ba-a9c1-44a5-cbaa-3ec8ce35b389"
      },
      "outputs": [
        {
          "output_type": "execute_result",
          "data": {
            "text/plain": [
              "array([0, 1, 2])"
            ]
          },
          "metadata": {},
          "execution_count": 71
        }
      ],
      "source": [
        "x = np.arange(3)\n",
        "x"
      ]
    },
    {
      "cell_type": "code",
      "execution_count": null,
      "metadata": {
        "id": "nnRRXNQP4BA5",
        "colab": {
          "base_uri": "https://localhost:8080/"
        },
        "outputId": "02642ede-6f68-4a35-aca3-e2283b32cfc3"
      },
      "outputs": [
        {
          "output_type": "execute_result",
          "data": {
            "text/plain": [
              "array([0, 1, 2, 3, 4])"
            ]
          },
          "metadata": {},
          "execution_count": 72
        }
      ],
      "source": [
        "y = np.arange(5)\n",
        "y"
      ]
    },
    {
      "cell_type": "code",
      "execution_count": null,
      "metadata": {
        "id": "aOazRtDUzU_O"
      },
      "outputs": [],
      "source": [
        "X, Y = np.meshgrid(x, y)"
      ]
    },
    {
      "cell_type": "code",
      "execution_count": null,
      "metadata": {
        "id": "9dyJOClCzU8x",
        "colab": {
          "base_uri": "https://localhost:8080/"
        },
        "outputId": "abacec16-173c-4ca4-9c17-43b4d3e6c689"
      },
      "outputs": [
        {
          "output_type": "execute_result",
          "data": {
            "text/plain": [
              "array([[0, 1, 2],\n",
              "       [0, 1, 2],\n",
              "       [0, 1, 2],\n",
              "       [0, 1, 2],\n",
              "       [0, 1, 2]])"
            ]
          },
          "metadata": {},
          "execution_count": 74
        }
      ],
      "source": [
        "X"
      ]
    },
    {
      "cell_type": "code",
      "execution_count": null,
      "metadata": {
        "id": "e3bubhJ2zU56",
        "colab": {
          "base_uri": "https://localhost:8080/"
        },
        "outputId": "ffc8ff95-f816-4452-9513-1fd8dbf69161"
      },
      "outputs": [
        {
          "output_type": "execute_result",
          "data": {
            "text/plain": [
              "array([[0, 0, 0],\n",
              "       [1, 1, 1],\n",
              "       [2, 2, 2],\n",
              "       [3, 3, 3],\n",
              "       [4, 4, 4]])"
            ]
          },
          "metadata": {},
          "execution_count": 75
        }
      ],
      "source": [
        "Y"
      ]
    },
    {
      "cell_type": "code",
      "execution_count": null,
      "metadata": {
        "id": "OLIuW9wazU1A",
        "colab": {
          "base_uri": "https://localhost:8080/"
        },
        "outputId": "e31e3d9d-d0d7-4a18-88a9-5525f9adabc7"
      },
      "outputs": [
        {
          "output_type": "execute_result",
          "data": {
            "text/plain": [
              "[[(0, 0), (1, 0), (2, 0)],\n",
              " [(0, 1), (1, 1), (2, 1)],\n",
              " [(0, 2), (1, 2), (2, 2)],\n",
              " [(0, 3), (1, 3), (2, 3)],\n",
              " [(0, 4), (1, 4), (2, 4)]]"
            ]
          },
          "metadata": {},
          "execution_count": 76
        }
      ],
      "source": [
        "#그리드 포인트를 (X, Y) 값으로 출력\n",
        "[list(zip(x, y)) for x, y in zip(X, Y)]"
      ]
    }
  ],
  "metadata": {
    "colab": {
      "collapsed_sections": [],
      "provenance": [],
      "toc_visible": true,
      "authorship_tag": "ABX9TyNB5wtHWagCC84zyFRIPoER",
      "include_colab_link": true
    },
    "kernelspec": {
      "display_name": "Python 3",
      "name": "python3"
    },
    "language_info": {
      "name": "python"
    }
  },
  "nbformat": 4,
  "nbformat_minor": 0
}
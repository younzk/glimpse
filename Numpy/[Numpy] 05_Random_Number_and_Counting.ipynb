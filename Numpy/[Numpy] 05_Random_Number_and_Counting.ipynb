{
  "nbformat": 4,
  "nbformat_minor": 0,
  "metadata": {
    "colab": {
      "provenance": [],
      "collapsed_sections": [],
      "authorship_tag": "ABX9TyPXrVhpbe+J84Sx4hL6SpLj",
      "include_colab_link": true
    },
    "kernelspec": {
      "name": "python3",
      "display_name": "Python 3"
    },
    "language_info": {
      "name": "python"
    }
  },
  "cells": [
    {
      "cell_type": "markdown",
      "metadata": {
        "id": "view-in-github",
        "colab_type": "text"
      },
      "source": [
        "<a href=\"https://colab.research.google.com/github/younzk/rookie-projects/blob/main/%5BNumpy%5D%2005_Random_Number_and_Counting.ipynb\" target=\"_parent\"><img src=\"https://colab.research.google.com/assets/colab-badge.svg\" alt=\"Open In Colab\"/></a>"
      ]
    },
    {
      "cell_type": "markdown",
      "source": [
        "#3.5 Random Number and Counting(난수 발생과 카운팅)"
      ],
      "metadata": {
        "id": "stwSfczv7SqU"
      }
    },
    {
      "cell_type": "markdown",
      "source": [
        "##시드 설정하기\n",
        "- seed 함수를 통해 무작위 수를 생성한다."
      ],
      "metadata": {
        "id": "BjNKZqlBz-Lk"
      }
    },
    {
      "cell_type": "code",
      "source": [
        "import numpy as np\n",
        "np.random.seed(0)"
      ],
      "metadata": {
        "id": "pTqG8V1c2X1f"
      },
      "execution_count": null,
      "outputs": []
    },
    {
      "cell_type": "markdown",
      "source": [
        "- 시드 설정 후 random 서브패키지의 rand 함수로 5개의 난수를 생성해 보자.\n",
        "- rand 함수는 0과 1 사이의 난수를 발생시키는 함수로 인수로 받은 숫자 횟수만큼 난수를 발생시킨다."
      ],
      "metadata": {
        "id": "SZLRScd22fFu"
      }
    },
    {
      "cell_type": "code",
      "source": [
        "np.random.rand(5)"
      ],
      "metadata": {
        "colab": {
          "base_uri": "https://localhost:8080/"
        },
        "id": "OZlpeh6i2opS",
        "outputId": "43d38a64-fab5-4331-b334-263646ecaf1e"
      },
      "execution_count": null,
      "outputs": [
        {
          "output_type": "execute_result",
          "data": {
            "text/plain": [
              "array([0.5488135 , 0.71518937, 0.60276338, 0.54488318, 0.4236548 ])"
            ]
          },
          "metadata": {},
          "execution_count": 2
        }
      ]
    },
    {
      "cell_type": "code",
      "source": [
        "np.random.rand(10)"
      ],
      "metadata": {
        "colab": {
          "base_uri": "https://localhost:8080/"
        },
        "id": "oXDvUDEF2rdn",
        "outputId": "dbff0b5f-db3f-4c86-a7b1-0598d429f8cd"
      },
      "execution_count": null,
      "outputs": [
        {
          "output_type": "execute_result",
          "data": {
            "text/plain": [
              "array([0.64589411, 0.43758721, 0.891773  , 0.96366276, 0.38344152,\n",
              "       0.79172504, 0.52889492, 0.56804456, 0.92559664, 0.07103606])"
            ]
          },
          "metadata": {},
          "execution_count": 3
        }
      ]
    },
    {
      "cell_type": "markdown",
      "source": [
        "##데이터의 순서 바꾸기 : shuffle함수 사용\n",
        "- 사용 시 변수의 값이 바뀌게 된다."
      ],
      "metadata": {
        "id": "lug0EXQeyZY2"
      }
    },
    {
      "cell_type": "code",
      "source": [
        "x = np.arange(10)\n",
        "x"
      ],
      "metadata": {
        "id": "FjtEFvenyZRd",
        "colab": {
          "base_uri": "https://localhost:8080/"
        },
        "outputId": "b42ea5ed-6ac9-4888-e78b-af27d20d0b80"
      },
      "execution_count": null,
      "outputs": [
        {
          "output_type": "execute_result",
          "data": {
            "text/plain": [
              "array([0, 1, 2, 3, 4, 5, 6, 7, 8, 9])"
            ]
          },
          "metadata": {},
          "execution_count": 4
        }
      ]
    },
    {
      "cell_type": "code",
      "source": [
        "np.random.shuffle(x)\n",
        "x"
      ],
      "metadata": {
        "colab": {
          "base_uri": "https://localhost:8080/"
        },
        "id": "0MVNbjXdyZOe",
        "outputId": "0a0c3c0c-36cd-4f9a-b16f-72e5674b39e1"
      },
      "execution_count": null,
      "outputs": [
        {
          "output_type": "execute_result",
          "data": {
            "text/plain": [
              "array([5, 1, 8, 2, 6, 7, 0, 3, 4, 9])"
            ]
          },
          "metadata": {},
          "execution_count": 5
        }
      ]
    },
    {
      "cell_type": "markdown",
      "source": [
        "##데이터 샘플링(Sampling) : choice 함수 사용\n",
        "- 이미 있는 데이터 집합에서 일부를 무작위로 선택하는 것을 표본선택 또는 샘플링(Sampling)이라고 한다. \n",
        "\n",
        "- numpy.random.choice(a, size = None, replace = True, p = None)\n",
        "- choice함수가 갖는 인수는 다음과 같다.  \n",
        "\n",
        " 1) a : 배열이면 원래의 데이터, 정수이면 arange(a) 명령으로 데이터 생성  \n",
        " 2) size : 정수, 샘플 숫자  \n",
        " 3) replace : 불리언. True이면 한번 선택한 데이터를 다시 선택 가능  \n",
        "4) p : 배열, 각 데이터가 선택될 수 있는 확률  "
      ],
      "metadata": {
        "id": "ah-3ubVfyslf"
      }
    },
    {
      "cell_type": "code",
      "source": [
        "np.random.choice(5, 5, replace = False) #shuffle 명령과 같다."
      ],
      "metadata": {
        "colab": {
          "base_uri": "https://localhost:8080/"
        },
        "id": "mxV3NSU3yZLu",
        "outputId": "2ca177d0-e792-4e86-f4f5-ee5d53af2e86"
      },
      "execution_count": null,
      "outputs": [
        {
          "output_type": "execute_result",
          "data": {
            "text/plain": [
              "array([0, 4, 2, 1, 3])"
            ]
          },
          "metadata": {},
          "execution_count": 6
        }
      ]
    },
    {
      "cell_type": "code",
      "source": [
        "np.random.choice(5, 3, replace = False) #3개만 선택"
      ],
      "metadata": {
        "colab": {
          "base_uri": "https://localhost:8080/"
        },
        "id": "KcWC6cWT3weg",
        "outputId": "490a8816-c828-436e-f23d-f2b5415d1e3d"
      },
      "execution_count": null,
      "outputs": [
        {
          "output_type": "execute_result",
          "data": {
            "text/plain": [
              "array([4, 2, 3])"
            ]
          },
          "metadata": {},
          "execution_count": 7
        }
      ]
    },
    {
      "cell_type": "code",
      "source": [
        "np.random.choice(3, 3, replace = False) #앞의 숫자 갯수 중에서 몇 개 선택 "
      ],
      "metadata": {
        "colab": {
          "base_uri": "https://localhost:8080/"
        },
        "id": "9T8bAKyS3wbg",
        "outputId": "b13eea1f-0583-41ef-a685-2a87b8f6ebfd"
      },
      "execution_count": null,
      "outputs": [
        {
          "output_type": "execute_result",
          "data": {
            "text/plain": [
              "array([2, 1, 0])"
            ]
          },
          "metadata": {},
          "execution_count": 8
        }
      ]
    },
    {
      "cell_type": "code",
      "source": [
        "np.random.choice(5, 10) #3개 숫자 중 반복해서 10개 선택"
      ],
      "metadata": {
        "colab": {
          "base_uri": "https://localhost:8080/"
        },
        "id": "r1g7IZiO3wYX",
        "outputId": "28c9deaa-9d19-4899-ff98-0e3ed81b8976"
      },
      "execution_count": null,
      "outputs": [
        {
          "output_type": "execute_result",
          "data": {
            "text/plain": [
              "array([2, 4, 3, 3, 2, 4, 2, 0, 0, 4])"
            ]
          },
          "metadata": {},
          "execution_count": 9
        }
      ]
    },
    {
      "cell_type": "code",
      "source": [
        "np.random.choice(2, 10)"
      ],
      "metadata": {
        "colab": {
          "base_uri": "https://localhost:8080/"
        },
        "id": "PSr2mDIa5sjD",
        "outputId": "415bd1e4-6bb4-4b90-8836-29812856448c"
      },
      "execution_count": null,
      "outputs": [
        {
          "output_type": "execute_result",
          "data": {
            "text/plain": [
              "array([1, 1, 0, 0, 0, 1, 1, 0, 1, 0])"
            ]
          },
          "metadata": {},
          "execution_count": 10
        }
      ]
    },
    {
      "cell_type": "code",
      "source": [
        "np.random.choice(5, 10, p = [0.1, 0, 0.3, 0.6, 0]) #선택 확률을 다르게 해서 10개 선택"
      ],
      "metadata": {
        "colab": {
          "base_uri": "https://localhost:8080/"
        },
        "id": "Fh9MgbbG5sfj",
        "outputId": "6b6d6bda-a6a4-4268-bece-be23bcf7d5e3"
      },
      "execution_count": null,
      "outputs": [
        {
          "output_type": "execute_result",
          "data": {
            "text/plain": [
              "array([2, 3, 3, 0, 3, 3, 2, 2, 2, 2])"
            ]
          },
          "metadata": {},
          "execution_count": 11
        }
      ]
    },
    {
      "cell_type": "markdown",
      "source": [
        "##난수 생성\n",
        "- rand : 0부터 1사이의 균일 확률로 실수 난수 생성\n",
        "- randn : 표준 정규 분포, 기댓값이 0이고 표준 편차가 1인 표준 정규 분포를 따르는 난수 생성\n",
        "- randint : 균일분포의 정수 난수\n",
        "  numpy.random.randint(low, high = None, size = None)\n",
        "  * high를 입력하지 않으면 0과 low 사이의 범위,  \n",
        "  * high를 입력하면 low와 high 사이의 숫자를 출력한다.  \n",
        "  * size는 난수의 숫자이다."
      ],
      "metadata": {
        "id": "RS-bvBczyy8V"
      }
    },
    {
      "cell_type": "code",
      "source": [
        "np.random.rand(10)"
      ],
      "metadata": {
        "colab": {
          "base_uri": "https://localhost:8080/"
        },
        "id": "V_ceBZ8TyZGd",
        "outputId": "1c92f44d-4e8d-4c6c-c573-6a2206ecd516"
      },
      "execution_count": null,
      "outputs": [
        {
          "output_type": "execute_result",
          "data": {
            "text/plain": [
              "array([0.57019677, 0.43860151, 0.98837384, 0.10204481, 0.20887676,\n",
              "       0.16130952, 0.65310833, 0.2532916 , 0.46631077, 0.24442559])"
            ]
          },
          "metadata": {},
          "execution_count": 12
        }
      ]
    },
    {
      "cell_type": "code",
      "source": [
        "np.random.rand(3, 5)"
      ],
      "metadata": {
        "colab": {
          "base_uri": "https://localhost:8080/"
        },
        "id": "SJ0h08A3yZD1",
        "outputId": "48fe8955-5a5a-4d7b-f722-4eee3b25c490"
      },
      "execution_count": null,
      "outputs": [
        {
          "output_type": "execute_result",
          "data": {
            "text/plain": [
              "array([[0.15896958, 0.11037514, 0.65632959, 0.13818295, 0.19658236],\n",
              "       [0.36872517, 0.82099323, 0.09710128, 0.83794491, 0.09609841],\n",
              "       [0.97645947, 0.4686512 , 0.97676109, 0.60484552, 0.73926358]])"
            ]
          },
          "metadata": {},
          "execution_count": 13
        }
      ]
    },
    {
      "cell_type": "code",
      "source": [
        "np.random.randn(10)"
      ],
      "metadata": {
        "colab": {
          "base_uri": "https://localhost:8080/"
        },
        "id": "RG3LiCzAws1L",
        "outputId": "c7a22b75-abc8-4881-b4f4-31b8ff8914cf"
      },
      "execution_count": null,
      "outputs": [
        {
          "output_type": "execute_result",
          "data": {
            "text/plain": [
              "array([ 0.92525075, -0.90478616,  1.84369153,  1.52550724, -1.44553558,\n",
              "        0.37716061, -0.07055723,  0.60415971,  0.472149  ,  0.81991729])"
            ]
          },
          "metadata": {},
          "execution_count": 24
        }
      ]
    },
    {
      "cell_type": "code",
      "source": [
        "np.random.randint(10, size = 10) #0부터 10까지의 숫자, 난수는 10개"
      ],
      "metadata": {
        "colab": {
          "base_uri": "https://localhost:8080/"
        },
        "id": "sLS2GWpKwsxr",
        "outputId": "03fbf77e-e85f-4e9a-ed69-a852c9ab0ae8"
      },
      "execution_count": null,
      "outputs": [
        {
          "output_type": "execute_result",
          "data": {
            "text/plain": [
              "array([8, 8, 9, 2, 8, 6, 6, 9, 1, 6])"
            ]
          },
          "metadata": {},
          "execution_count": 27
        }
      ]
    },
    {
      "cell_type": "code",
      "source": [
        "np.random.randint(10, size = 4) #0부터 10까지의 숫자, 난수는 10개"
      ],
      "metadata": {
        "colab": {
          "base_uri": "https://localhost:8080/"
        },
        "id": "zG7y1l0zxnWM",
        "outputId": "b31c8b50-8767-40af-c704-d6778118aa06"
      },
      "execution_count": null,
      "outputs": [
        {
          "output_type": "execute_result",
          "data": {
            "text/plain": [
              "array([3, 6, 3, 6])"
            ]
          },
          "metadata": {},
          "execution_count": 29
        }
      ]
    },
    {
      "cell_type": "code",
      "source": [
        "np.random.randint(10, 20, size = 10) #10부터 20까지의 숫자, 난수는 10개"
      ],
      "metadata": {
        "colab": {
          "base_uri": "https://localhost:8080/"
        },
        "id": "TrEtHAHJxnTq",
        "outputId": "52ae5d28-a0df-47fe-a1a9-89e2eb7d436c"
      },
      "execution_count": null,
      "outputs": [
        {
          "output_type": "execute_result",
          "data": {
            "text/plain": [
              "array([15, 17, 10, 18, 14, 16, 15, 18, 12, 13])"
            ]
          },
          "metadata": {},
          "execution_count": 30
        }
      ]
    },
    {
      "cell_type": "code",
      "source": [
        "np. random. randint(10, 20, size = (3, 5)) #10부터 20까지의 숫자로 (3 x 5)크기의 배열"
      ],
      "metadata": {
        "colab": {
          "base_uri": "https://localhost:8080/"
        },
        "id": "lk-EjJ5YxnRK",
        "outputId": "c9dd3151-92c1-4935-f42c-19cd4849b833"
      },
      "execution_count": null,
      "outputs": [
        {
          "output_type": "execute_result",
          "data": {
            "text/plain": [
              "array([[13, 19, 17, 17, 15],\n",
              "       [11, 12, 12, 18, 11],\n",
              "       [15, 18, 14, 10, 12]])"
            ]
          },
          "metadata": {},
          "execution_count": 32
        }
      ]
    },
    {
      "cell_type": "markdown",
      "source": [
        "##Practice 3. 5. 1\n",
        "1. 동전을 10번 던져 앞면(숫자 1)과 뒷면(숫자 0)이 나오는 가상 실험을 파이썬으로 작성한다.\n",
        "\n",
        "2. 주사위를 100번 던져서 나오는 숫자의 평균을 구하라."
      ],
      "metadata": {
        "id": "AGm5DtV5y60q"
      }
    },
    {
      "cell_type": "code",
      "source": [
        "np.random.choice(2, 10, replace = True)"
      ],
      "metadata": {
        "colab": {
          "base_uri": "https://localhost:8080/"
        },
        "id": "gNYtDAouyZBp",
        "outputId": "b74e9401-c750-4cf6-a0b7-29e37ab46ae6"
      },
      "execution_count": null,
      "outputs": [
        {
          "output_type": "execute_result",
          "data": {
            "text/plain": [
              "array([1, 0, 1, 0, 0, 0, 0, 1, 1, 1])"
            ]
          },
          "metadata": {},
          "execution_count": 33
        }
      ]
    },
    {
      "cell_type": "code",
      "source": [
        "k = np.random.choice(2, 100, replace = True)\n",
        "k.mean()"
      ],
      "metadata": {
        "colab": {
          "base_uri": "https://localhost:8080/"
        },
        "id": "ekrmorN7z2Ii",
        "outputId": "08e55d09-474c-4418-9369-81abe97a7587"
      },
      "execution_count": null,
      "outputs": [
        {
          "output_type": "execute_result",
          "data": {
            "text/plain": [
              "0.45"
            ]
          },
          "metadata": {},
          "execution_count": 36
        }
      ]
    },
    {
      "cell_type": "markdown",
      "source": [
        "##Practice 3. 5. 2\n",
        "가격이 10,000원인 주식이 있다. 이 주식의 일간 수익률(%)은 기댓값이 0%이고 표준편차가 1%인 표준 정규 분포를 따른다고 하자. 10일 동안의 주가를 무작위로 생성하라"
      ],
      "metadata": {
        "id": "koVFIcjQ0Idk"
      }
    },
    {
      "cell_type": "code",
      "source": [
        "n = 10000\n",
        "k = np.random.randn(10)\n",
        "for i in k:\n",
        "  n = n*(1+(i/100))\n",
        "  print(f'{round(n)}원')"
      ],
      "metadata": {
        "colab": {
          "base_uri": "https://localhost:8080/"
        },
        "id": "j7vm_9IW0MSa",
        "outputId": "62a39d3a-23f6-4df2-f97a-92d49149af4b"
      },
      "execution_count": null,
      "outputs": [
        {
          "output_type": "stream",
          "name": "stdout",
          "text": [
            "10002원\n",
            "10034원\n",
            "10001원\n",
            "9999원\n",
            "10076원\n",
            "10120원\n",
            "10038원\n",
            "9927원\n",
            "9849원\n",
            "9849원\n"
          ]
        }
      ]
    },
    {
      "cell_type": "markdown",
      "source": [
        "##정수 데이터 카운팅\n",
        "- 난수가 정수값이면 unique 명령이나 bincount 명령으로 데이터 값을 분석할 수 있다.\n",
        "- unique : 데이터에서 중복된 값을 제거하고 중복되지 않는 값의 리스트를 출력한다.\n",
        "  - return_counts 인수를 True로 설정하면 각 값을 가진 데이터 갯수도 출력\n",
        "\n",
        "- uniqe 함수는 데이터가 존재하는 값만 갯수를 센다. 그래서 데이터 값이 나올 수 있음에도 불구하고 데이터가 하나도 없는 경우에는 정보를 주지 않는다.  \n",
        "\n",
        " ex) 주사위를 10번 던졌는데 6이 한 번도 나오지 않으면 0으로 세어주지 않음\n",
        "\n",
        "- 따라서 데이터가 특정 범위 안의 수인 경우에는 bincount함수의 minlenght인수를 설정하여 쓰는 것이 더 편리하다.\n",
        "- bincount함수는 0부터 minlength -1까지의 숫자에 대해 각각 카운트를 한다. 데이터가 없을 경우 카운트 값이 0이 된다."
      ],
      "metadata": {
        "id": "vS7Kkf86zEYf"
      }
    },
    {
      "cell_type": "code",
      "source": [
        "a = np.array(['a', 'b', 'b', 'c', 'a'])\n",
        "index, count = np.unique(a, return_counts = True) #각 값을 가진 데이터의 갯수도 출력\n",
        "index, count# a는 2개, b는 2개, c는 1개"
      ],
      "metadata": {
        "colab": {
          "base_uri": "https://localhost:8080/"
        },
        "id": "LCo7CeVPJpnx",
        "outputId": "63bc9073-16ba-425d-a0b7-02c0d8e65ca7"
      },
      "execution_count": null,
      "outputs": [
        {
          "output_type": "execute_result",
          "data": {
            "text/plain": [
              "(array(['a', 'b', 'c'], dtype='<U1'), array([2, 2, 1]))"
            ]
          },
          "metadata": {},
          "execution_count": 48
        }
      ]
    },
    {
      "cell_type": "code",
      "source": [
        "np.bincount([1, 1, 2, 2, 2, 3], minlength= 6) #minlength가 6이므로 0부터 5까지 숫자에 대해 카운트 한다."
      ],
      "metadata": {
        "colab": {
          "base_uri": "https://localhost:8080/"
        },
        "id": "oPqn8Y2tyY-u",
        "outputId": "2ed0fe5b-09f7-43fe-ccd8-a268f0ee3037"
      },
      "execution_count": null,
      "outputs": [
        {
          "output_type": "execute_result",
          "data": {
            "text/plain": [
              "array([0, 2, 3, 1, 0, 0])"
            ]
          },
          "metadata": {},
          "execution_count": 52
        }
      ]
    }
  ]
}
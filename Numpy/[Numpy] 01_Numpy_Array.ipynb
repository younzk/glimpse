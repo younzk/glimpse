{
  "nbformat": 4,
  "nbformat_minor": 0,
  "metadata": {
    "colab": {
      "provenance": [],
      "collapsed_sections": [],
      "authorship_tag": "ABX9TyO5mqYKj46Q51lhkWqLC9HL",
      "include_colab_link": true
    },
    "kernelspec": {
      "name": "python3",
      "display_name": "Python 3"
    },
    "language_info": {
      "name": "python"
    }
  },
  "cells": [
    {
      "cell_type": "markdown",
      "metadata": {
        "id": "view-in-github",
        "colab_type": "text"
      },
      "source": [
        "<a href=\"https://colab.research.google.com/github/younzk/rookie-projects/blob/main/%5BNumpy%5D%2001_Numpy_Array.ipynb\" target=\"_parent\"><img src=\"https://colab.research.google.com/assets/colab-badge.svg\" alt=\"Open In Colab\"/></a>"
      ]
    },
    {
      "cell_type": "markdown",
      "source": [
        "#3.1 Numpy Array"
      ],
      "metadata": {
        "id": "stwSfczv7SqU"
      }
    },
    {
      "cell_type": "markdown",
      "source": [
        "- 넘파이는 수치해석용 파이썬 패키지이다.  \n",
        "- 다차원의 배열 자료구조 클래스인 ndarray 클래스를 지원하며 벡터와 행렬을 사용하는 선형대수 계산에 주로 사용된다.  "
      ],
      "metadata": {
        "id": "BjNKZqlBz-Lk"
      }
    },
    {
      "cell_type": "markdown",
      "source": [
        "## 1차원 배열 만들기"
      ],
      "metadata": {
        "id": "d88HUigoDg7O"
      }
    },
    {
      "cell_type": "markdown",
      "source": [
        "넘파이의 array 함수에 리스트를 넣으면 배열로 변환해준다."
      ],
      "metadata": {
        "id": "uhJD-jDXDkqb"
      }
    },
    {
      "cell_type": "code",
      "execution_count": null,
      "metadata": {
        "colab": {
          "base_uri": "https://localhost:8080/"
        },
        "id": "X7On___oxT1d",
        "outputId": "b4a4666e-2010-4c83-bb5e-7a3309b87015"
      },
      "outputs": [
        {
          "output_type": "execute_result",
          "data": {
            "text/plain": [
              "array([0, 1, 2, 3, 4, 5, 6, 7, 8, 9])"
            ]
          },
          "metadata": {},
          "execution_count": 1
        }
      ],
      "source": [
        "import numpy as np\n",
        "ar = np.array([0, 1, 2, 3, 4, 5, 6, 7, 8, 9])\n",
        "ar"
      ]
    },
    {
      "cell_type": "markdown",
      "source": [
        "## Vectorized operation (벡터화 연산)"
      ],
      "metadata": {
        "id": "osIPXylu0lvR"
      }
    },
    {
      "cell_type": "markdown",
      "source": [
        "일반적으로 리스트 내 원소의 값을 2배 한다면 다음과 같이 for 반복문으로 구현할 수 있다."
      ],
      "metadata": {
        "id": "e3iPV5-K0voY"
      }
    },
    {
      "cell_type": "code",
      "source": [
        "data = [0, 1, 2, 3, 4, 5, 6, 7, 8, 9]\n",
        "answer = [i*2 for i in data]\n",
        "answer"
      ],
      "metadata": {
        "colab": {
          "base_uri": "https://localhost:8080/"
        },
        "id": "vKYAT3pA0u7p",
        "outputId": "946b18e1-1569-4ce2-846d-c4664dcd8c59"
      },
      "execution_count": null,
      "outputs": [
        {
          "output_type": "execute_result",
          "data": {
            "text/plain": [
              "[0, 2, 4, 6, 8, 10, 12, 14, 16, 18]"
            ]
          },
          "metadata": {},
          "execution_count": 2
        }
      ]
    },
    {
      "cell_type": "code",
      "source": [
        "#일반적인 리스트에 벡터화 연산으로 곱셈을 하면 값이 2배가 되지 않고 객체 크기가 증가한다.\n",
        "2 * data"
      ],
      "metadata": {
        "colab": {
          "base_uri": "https://localhost:8080/"
        },
        "id": "g9vzzIsf1U09",
        "outputId": "ce78ca4d-61ab-4fd9-fc33-36fc4393c8a7"
      },
      "execution_count": null,
      "outputs": [
        {
          "output_type": "execute_result",
          "data": {
            "text/plain": [
              "[0, 1, 2, 3, 4, 5, 6, 7, 8, 9, 0, 1, 2, 3, 4, 5, 6, 7, 8, 9]"
            ]
          },
          "metadata": {},
          "execution_count": 3
        }
      ]
    },
    {
      "cell_type": "markdown",
      "source": [
        "그런데 벡터화 연산을 사용하면 for 반복문 없이 한번의 연산으로 가능하고, 계산 속도도 반복문보다 빠르다"
      ],
      "metadata": {
        "id": "R3SZutSj1Dvj"
      }
    },
    {
      "cell_type": "code",
      "source": [
        "x = np.array(data)\n",
        "\n",
        "2*x"
      ],
      "metadata": {
        "colab": {
          "base_uri": "https://localhost:8080/"
        },
        "id": "zCCcJj-oxbt_",
        "outputId": "8f5e9b4d-7722-42ee-8389-9e19e862c223"
      },
      "execution_count": null,
      "outputs": [
        {
          "output_type": "execute_result",
          "data": {
            "text/plain": [
              "array([ 0,  2,  4,  6,  8, 10, 12, 14, 16, 18])"
            ]
          },
          "metadata": {},
          "execution_count": 4
        }
      ]
    },
    {
      "cell_type": "markdown",
      "source": [
        "그래서 바로 수학 연산을 간단하게 사용할 수 있다."
      ],
      "metadata": {
        "id": "4slAPfWZ1sLL"
      }
    },
    {
      "cell_type": "code",
      "source": [
        "a = np.array([1, 2, 3])\n",
        "b = np.array([10, 20, 30])\n",
        "a+b*2"
      ],
      "metadata": {
        "colab": {
          "base_uri": "https://localhost:8080/"
        },
        "id": "Rbc3Xf3Qx1XN",
        "outputId": "53e24704-a9d6-4df5-93b6-e25502c9aa1e"
      },
      "execution_count": null,
      "outputs": [
        {
          "output_type": "execute_result",
          "data": {
            "text/plain": [
              "array([21, 42, 63])"
            ]
          },
          "metadata": {},
          "execution_count": 5
        }
      ]
    },
    {
      "cell_type": "code",
      "source": [
        "a == 2, b > 10"
      ],
      "metadata": {
        "colab": {
          "base_uri": "https://localhost:8080/"
        },
        "id": "V2orQGcxyBsR",
        "outputId": "020e187f-476b-461f-a433-329ea0ccb080"
      },
      "execution_count": null,
      "outputs": [
        {
          "output_type": "execute_result",
          "data": {
            "text/plain": [
              "(array([False,  True, False]), array([False,  True,  True]))"
            ]
          },
          "metadata": {},
          "execution_count": 6
        }
      ]
    },
    {
      "cell_type": "markdown",
      "source": [
        "## 2차원 배열 만들기\n",
        "- 리스트의 리스트(list of list)를 사용하면 2차원 배열을 생성할 수 있다.\n",
        "- 안쪽 리스트의 길이는 열의 수(가로 크기), 바깥쪽 리스트의 길이는 행의 수(세로 크기)가 된다."
      ],
      "metadata": {
        "id": "R2-WF6-S17g9"
      }
    },
    {
      "cell_type": "code",
      "source": [
        "c = np.array([[0, 1, 2], [3, 4, 5]]) #2 x 3 array\n",
        "c"
      ],
      "metadata": {
        "colab": {
          "base_uri": "https://localhost:8080/"
        },
        "id": "2B8UVIh5yGcl",
        "outputId": "264cb4a0-ad7d-4fab-84df-da0a6c280301"
      },
      "execution_count": null,
      "outputs": [
        {
          "output_type": "execute_result",
          "data": {
            "text/plain": [
              "array([[0, 1, 2],\n",
              "       [3, 4, 5]])"
            ]
          },
          "metadata": {},
          "execution_count": 7
        }
      ]
    },
    {
      "cell_type": "markdown",
      "source": [
        "2차원 배열의 행과 열의 갯수 \n",
        "- 행의 갯수 : len(c)\n",
        "- 열의 갯수 : len(c[0])"
      ],
      "metadata": {
        "id": "FEURYcCG2X9r"
      }
    },
    {
      "cell_type": "code",
      "source": [
        "len(c), len(c[0])"
      ],
      "metadata": {
        "id": "OPlY_VMQ4cG5",
        "colab": {
          "base_uri": "https://localhost:8080/"
        },
        "outputId": "975d8b1e-35de-44f2-997c-466073abed9a"
      },
      "execution_count": null,
      "outputs": [
        {
          "output_type": "execute_result",
          "data": {
            "text/plain": [
              "(2, 3)"
            ]
          },
          "metadata": {},
          "execution_count": 8
        }
      ]
    },
    {
      "cell_type": "markdown",
      "source": [
        "### Practice 01"
      ],
      "metadata": {
        "id": "ZDtxyz9S2lzo"
      }
    },
    {
      "cell_type": "code",
      "source": [
        "k = np.array([[10, 20, 30, 40], [50, 60, 70, 80]])\n",
        "k"
      ],
      "metadata": {
        "colab": {
          "base_uri": "https://localhost:8080/"
        },
        "id": "TO-ivvUA2qQy",
        "outputId": "cd77bf6a-08cb-4f69-b334-b1358f061233"
      },
      "execution_count": null,
      "outputs": [
        {
          "output_type": "execute_result",
          "data": {
            "text/plain": [
              "array([[10, 20, 30, 40],\n",
              "       [50, 60, 70, 80]])"
            ]
          },
          "metadata": {},
          "execution_count": 9
        }
      ]
    },
    {
      "cell_type": "markdown",
      "source": [
        "## 3차원 배열 만들기\n",
        "- 리스트의 리스트의 리스트를 이용한다."
      ],
      "metadata": {
        "id": "pg3eYDz34dzV"
      }
    },
    {
      "cell_type": "code",
      "source": [
        "d = np.array([[[1, 2, 3, 4],\n",
        "               [5, 6, 7, 8],\n",
        "               [9, 10, 11, 12]],\n",
        "              [[11, 12, 13, 14],\n",
        "               [15, 16, 17, 18],\n",
        "               [19, 20, 21, 22]]])   # 2 x 3 x 4 array\n",
        "d"
      ],
      "metadata": {
        "colab": {
          "base_uri": "https://localhost:8080/"
        },
        "id": "J1xt9HPNySTw",
        "outputId": "6ba9214e-8e92-40a0-d43b-afd16e594449"
      },
      "execution_count": null,
      "outputs": [
        {
          "output_type": "execute_result",
          "data": {
            "text/plain": [
              "array([[[ 1,  2,  3,  4],\n",
              "        [ 5,  6,  7,  8],\n",
              "        [ 9, 10, 11, 12]],\n",
              "\n",
              "       [[11, 12, 13, 14],\n",
              "        [15, 16, 17, 18],\n",
              "        [19, 20, 21, 22]]])"
            ]
          },
          "metadata": {},
          "execution_count": 10
        }
      ]
    },
    {
      "cell_type": "markdown",
      "source": [
        "3차원 배열의 깊이, 행, 열\n",
        "- 3차원 배열의 깊이 : len(d)\n",
        "- 3차원 배열의 행 : len(d[0])\n",
        "- 3차원 배열의 열 : len(d[0][0])"
      ],
      "metadata": {
        "id": "YlYL3wsi3I-7"
      }
    },
    {
      "cell_type": "code",
      "source": [
        "len(d), len(d[0]), len(d[0][0])"
      ],
      "metadata": {
        "colab": {
          "base_uri": "https://localhost:8080/"
        },
        "id": "r0vqu9zP8bS5",
        "outputId": "dcb5a565-b14b-4bbc-b322-e48416f28c55"
      },
      "execution_count": null,
      "outputs": [
        {
          "output_type": "execute_result",
          "data": {
            "text/plain": [
              "(2, 3, 4)"
            ]
          },
          "metadata": {},
          "execution_count": 11
        }
      ]
    },
    {
      "cell_type": "markdown",
      "source": [
        "## 배열의 차원과 크기 알아내기  \n",
        "배열의 차원 및 크기를 구하는 더 좋은 방법은 배열의 ndim 속성과 shape 속성을 이용하는 것이다.\n",
        "- ndim : 배열의 차원\n",
        "- shape : 배열의 크기"
      ],
      "metadata": {
        "id": "NSqQ6PIR3mJC"
      }
    },
    {
      "cell_type": "code",
      "source": [
        "a = np.array([1, 2, 3])\n",
        "print(a.ndim) #1차원\n",
        "print(a.shape) #3열"
      ],
      "metadata": {
        "colab": {
          "base_uri": "https://localhost:8080/"
        },
        "id": "Nr5AIBuG8TbN",
        "outputId": "5a844b8a-4c25-44e4-cd62-8851a5e0fb06"
      },
      "execution_count": null,
      "outputs": [
        {
          "output_type": "stream",
          "name": "stdout",
          "text": [
            "1\n",
            "(3,)\n"
          ]
        }
      ]
    },
    {
      "cell_type": "code",
      "source": [
        "a = np.array([[1, 2, 3], [4, 5, 6]])\n",
        "print(a.ndim) #2차원\n",
        "print(a.shape) #2행 3열"
      ],
      "metadata": {
        "colab": {
          "base_uri": "https://localhost:8080/"
        },
        "id": "nnRRXNQP4BA5",
        "outputId": "7160d240-2ada-46e0-da1e-cdce6ec148a9"
      },
      "execution_count": null,
      "outputs": [
        {
          "output_type": "stream",
          "name": "stdout",
          "text": [
            "2\n",
            "(2, 3)\n"
          ]
        }
      ]
    },
    {
      "cell_type": "markdown",
      "source": [
        "## 배열 인덱싱  \n",
        "- 1차원 배열의 인덱싱 : 리스트와 동일\n",
        "- 다차원 배열의 인덱싱 : ','를 사용하여 접근"
      ],
      "metadata": {
        "id": "RDAW0ma786zt"
      }
    },
    {
      "cell_type": "code",
      "source": [
        "a = np.array([[0, 1, 2], [3, 4, 5]])\n",
        "print(a[0, 0]) #첫번째 행의 첫번째 열\n",
        "print(a[0, 1]) #첫번째 행의 두번째 열\n",
        "print(a[1, 2]) #두번째 행의 세번째 열"
      ],
      "metadata": {
        "colab": {
          "base_uri": "https://localhost:8080/"
        },
        "id": "eyGSyNYV83RL",
        "outputId": "0ca29700-2e91-413c-e39b-1c37447a69f7"
      },
      "execution_count": null,
      "outputs": [
        {
          "output_type": "stream",
          "name": "stdout",
          "text": [
            "0\n",
            "1\n",
            "5\n"
          ]
        }
      ]
    },
    {
      "cell_type": "markdown",
      "source": [
        "## 배열 슬라이싱\n",
        "- 일반적인 파이썬 슬라이싱과 comma(,)를 함께 사용"
      ],
      "metadata": {
        "id": "ECw8r3Zm4sNd"
      }
    },
    {
      "cell_type": "code",
      "source": [
        "a = np.array([[0, 1, 2, 3], [4, 5, 6, 7]])\n",
        "a"
      ],
      "metadata": {
        "colab": {
          "base_uri": "https://localhost:8080/"
        },
        "id": "D03f2PU_9Cxl",
        "outputId": "b4796e8f-7376-4da4-9753-07363a4505f8"
      },
      "execution_count": null,
      "outputs": [
        {
          "output_type": "execute_result",
          "data": {
            "text/plain": [
              "array([[0, 1, 2, 3],\n",
              "       [4, 5, 6, 7]])"
            ]
          },
          "metadata": {},
          "execution_count": 15
        }
      ]
    },
    {
      "cell_type": "code",
      "source": [
        "a[:, 1] # 두 번째 열 전체"
      ],
      "metadata": {
        "colab": {
          "base_uri": "https://localhost:8080/"
        },
        "id": "P8YcHcb-9krA",
        "outputId": "e57b876b-6781-4ccc-9fe6-44c60796b829"
      },
      "execution_count": null,
      "outputs": [
        {
          "output_type": "execute_result",
          "data": {
            "text/plain": [
              "array([1, 5])"
            ]
          },
          "metadata": {},
          "execution_count": 17
        }
      ]
    },
    {
      "cell_type": "code",
      "source": [
        "a[:1, :2] # 첫 번째 행, 첫번째 두번째 열"
      ],
      "metadata": {
        "colab": {
          "base_uri": "https://localhost:8080/"
        },
        "id": "NMkNimC89Pbg",
        "outputId": "f6aee378-4433-494e-ad1d-d025966f1058"
      },
      "execution_count": null,
      "outputs": [
        {
          "output_type": "execute_result",
          "data": {
            "text/plain": [
              "array([[0, 1]])"
            ]
          },
          "metadata": {},
          "execution_count": 18
        }
      ]
    },
    {
      "cell_type": "markdown",
      "source": [
        "## Practice 02"
      ],
      "metadata": {
        "id": "f9r-JlKn7Nm0"
      }
    },
    {
      "cell_type": "code",
      "source": [
        "m = np.array([[ 0,  1,  2,  3,  4],\n",
        "            [ 5,  6,  7,  8,  9],\n",
        "            [10, 11, 12, 13, 14]])"
      ],
      "metadata": {
        "id": "ldgVl1PE7MvX"
      },
      "execution_count": null,
      "outputs": []
    },
    {
      "cell_type": "code",
      "source": [
        "m[1,2], m[2, -1]"
      ],
      "metadata": {
        "colab": {
          "base_uri": "https://localhost:8080/"
        },
        "id": "DJgLxu9D7S7C",
        "outputId": "9cdb8028-defb-4739-f1d7-7ab9ca000788"
      },
      "execution_count": null,
      "outputs": [
        {
          "output_type": "execute_result",
          "data": {
            "text/plain": [
              "(7, 14)"
            ]
          },
          "metadata": {},
          "execution_count": 22
        }
      ]
    },
    {
      "cell_type": "code",
      "source": [
        "m[1, 1:3], m[1:3, 2]"
      ],
      "metadata": {
        "colab": {
          "base_uri": "https://localhost:8080/"
        },
        "id": "NaWGcHsL7S4x",
        "outputId": "c9d41d00-412e-4fb5-f2f0-749ca74e7d31"
      },
      "execution_count": null,
      "outputs": [
        {
          "output_type": "execute_result",
          "data": {
            "text/plain": [
              "(array([6, 7]), array([ 7, 12]))"
            ]
          },
          "metadata": {},
          "execution_count": 25
        }
      ]
    },
    {
      "cell_type": "code",
      "source": [
        "m[0:2, -2:]"
      ],
      "metadata": {
        "colab": {
          "base_uri": "https://localhost:8080/"
        },
        "id": "u1XGH9Kv7S10",
        "outputId": "0341f839-835f-4a72-c1c6-cb179a217764"
      },
      "execution_count": null,
      "outputs": [
        {
          "output_type": "execute_result",
          "data": {
            "text/plain": [
              "array([[3, 4],\n",
              "       [8, 9]])"
            ]
          },
          "metadata": {},
          "execution_count": 32
        }
      ]
    },
    {
      "cell_type": "markdown",
      "source": [
        "## Array Indexing(배열 인덱싱)\n",
        "(1) Boolean (불리언 배열 방식)\n",
        "- 인덱스 배열의 원소가 True, False 로만 구성  \n",
        "- 인덱스 크기가 원래 ndarray 객체의 크기와 같아야 함\n",
        "\n",
        "(2) 정수 배열 방식\n",
        "- 인덱스 배열의 원소 각각이 원래 ndarray 객체 원소 하나를 가리키는 인덱스 정수\n",
        "- 배열 인덱스와 원래의 배열 크기와 달라도 상관 없음"
      ],
      "metadata": {
        "id": "it-DBzsc7-FY"
      }
    },
    {
      "cell_type": "code",
      "source": [
        "# 불리언 배열 방식\n",
        "a = np.array([0, 1, 2, 3, 4, 5, 6, 7, 8, 9])\n",
        "idx = np.array([True, False, True, False, True,\n",
        "               False, True, False, True, False])\n",
        "a[idx]"
      ],
      "metadata": {
        "colab": {
          "base_uri": "https://localhost:8080/"
        },
        "id": "qG4D_YB1791_",
        "outputId": "e9a377a0-d151-4f06-dab3-fe967e87d37b"
      },
      "execution_count": null,
      "outputs": [
        {
          "output_type": "execute_result",
          "data": {
            "text/plain": [
              "array([0, 2, 4, 6, 8])"
            ]
          },
          "metadata": {},
          "execution_count": 33
        }
      ]
    },
    {
      "cell_type": "code",
      "source": [
        "a % 2 == 0"
      ],
      "metadata": {
        "colab": {
          "base_uri": "https://localhost:8080/"
        },
        "id": "X8cqyBzX7Sww",
        "outputId": "9d68d002-ee29-4c12-852d-b2e2b09aabd4"
      },
      "execution_count": null,
      "outputs": [
        {
          "output_type": "execute_result",
          "data": {
            "text/plain": [
              "array([ True, False,  True, False,  True, False,  True, False,  True,\n",
              "       False])"
            ]
          },
          "metadata": {},
          "execution_count": 34
        }
      ]
    },
    {
      "cell_type": "code",
      "source": [
        "a[a % 2 == 0]"
      ],
      "metadata": {
        "colab": {
          "base_uri": "https://localhost:8080/"
        },
        "id": "tQ1x7VDl7SmX",
        "outputId": "e21167cf-dbb8-4e13-bcb3-9ea20cc3b242"
      },
      "execution_count": null,
      "outputs": [
        {
          "output_type": "execute_result",
          "data": {
            "text/plain": [
              "array([0, 2, 4, 6, 8])"
            ]
          },
          "metadata": {},
          "execution_count": 35
        }
      ]
    },
    {
      "cell_type": "code",
      "source": [
        "# 정수 배열 인덱싱\n",
        "a = np.array([11, 22, 33, 44, 55, 66, 77, 88, 99])\n",
        "idx = np.array([0, 2, 4, 6, 8])\n",
        "a[idx]"
      ],
      "metadata": {
        "colab": {
          "base_uri": "https://localhost:8080/"
        },
        "id": "sJFuUd2t84FM",
        "outputId": "3984941c-ef4b-4843-c3ba-285e9cb3cd26"
      },
      "execution_count": null,
      "outputs": [
        {
          "output_type": "execute_result",
          "data": {
            "text/plain": [
              "array([11, 33, 55, 77, 99])"
            ]
          },
          "metadata": {},
          "execution_count": 37
        }
      ]
    },
    {
      "cell_type": "code",
      "source": [
        "a = np.array([11, 22, 33, 44, 55, 66, 77, 88, 99])\n",
        "idx = np.array([0, 0, 0, 1, 1, 1, 2, 2, 2, 3, 3])\n",
        "a[idx]"
      ],
      "metadata": {
        "colab": {
          "base_uri": "https://localhost:8080/"
        },
        "id": "KMh3DDPB9HDT",
        "outputId": "35f7c205-2c6e-4108-afe0-820a7a2949a9"
      },
      "execution_count": null,
      "outputs": [
        {
          "output_type": "execute_result",
          "data": {
            "text/plain": [
              "array([11, 11, 11, 22, 22, 22, 33, 33, 33, 44, 44])"
            ]
          },
          "metadata": {},
          "execution_count": 38
        }
      ]
    },
    {
      "cell_type": "markdown",
      "source": [
        "다차원 배열에서의 배열 인덱싱"
      ],
      "metadata": {
        "id": "mqOngdgE9WTy"
      }
    },
    {
      "cell_type": "code",
      "source": [
        "a = np.array([[1, 2, 3, 4], [5, 6, 7, 8], [9, 10, 11, 12]])\n",
        "a"
      ],
      "metadata": {
        "colab": {
          "base_uri": "https://localhost:8080/"
        },
        "id": "BozD2Efh9ZNU",
        "outputId": "236fea32-c5d7-4faa-f71d-aa9eafaa90a7"
      },
      "execution_count": null,
      "outputs": [
        {
          "output_type": "execute_result",
          "data": {
            "text/plain": [
              "array([[ 1,  2,  3,  4],\n",
              "       [ 5,  6,  7,  8],\n",
              "       [ 9, 10, 11, 12]])"
            ]
          },
          "metadata": {},
          "execution_count": 39
        }
      ]
    },
    {
      "cell_type": "code",
      "source": [
        "a[:, [False, True, True, False]]"
      ],
      "metadata": {
        "colab": {
          "base_uri": "https://localhost:8080/"
        },
        "id": "CYmGAzV59b6J",
        "outputId": "c047eb1a-f9c1-412c-c0fa-bb7c069227a9"
      },
      "execution_count": null,
      "outputs": [
        {
          "output_type": "execute_result",
          "data": {
            "text/plain": [
              "array([[ 2,  3],\n",
              "       [ 6,  7],\n",
              "       [10, 11]])"
            ]
          },
          "metadata": {},
          "execution_count": 40
        }
      ]
    },
    {
      "cell_type": "code",
      "source": [
        "a[[2, 0, 1], :]"
      ],
      "metadata": {
        "colab": {
          "base_uri": "https://localhost:8080/"
        },
        "id": "z5jur31k9sZl",
        "outputId": "66fcffde-cce6-4086-edff-d2c96a1fbb5a"
      },
      "execution_count": null,
      "outputs": [
        {
          "output_type": "execute_result",
          "data": {
            "text/plain": [
              "array([[ 9, 10, 11, 12],\n",
              "       [ 1,  2,  3,  4],\n",
              "       [ 5,  6,  7,  8]])"
            ]
          },
          "metadata": {},
          "execution_count": 41
        }
      ]
    },
    {
      "cell_type": "markdown",
      "source": [
        "## Practice 03"
      ],
      "metadata": {
        "id": "7zm9Romk9xm0"
      }
    },
    {
      "cell_type": "code",
      "source": [
        "x = np.array([1, 2, 3, 4, 5, 6, 7, 8, 9, 10,\n",
        "             11, 12, 13, 14, 15, 16, 17, 18, 19, 20])"
      ],
      "metadata": {
        "id": "JpfHnv-o9xXV"
      },
      "execution_count": null,
      "outputs": []
    },
    {
      "cell_type": "markdown",
      "source": [
        "1. 이 배열에서 3의 배수를 찾아라.\n",
        "2. 이 배열에서 4로 나누면 1이 남는 수를 찾아라.\n",
        "3. 이 배열에서 3으로 나누면 나누어지고 4로 나누면 1이 남는 수를 찾아라."
      ],
      "metadata": {
        "id": "U6SCyRux97SK"
      }
    },
    {
      "cell_type": "code",
      "source": [
        "#1\n",
        "x[x % 3 == 0]"
      ],
      "metadata": {
        "colab": {
          "base_uri": "https://localhost:8080/"
        },
        "id": "CD2ZP7Uv925K",
        "outputId": "9fce4a19-7a26-4a37-dba8-2bd4ba055211"
      },
      "execution_count": null,
      "outputs": [
        {
          "output_type": "execute_result",
          "data": {
            "text/plain": [
              "array([ 3,  6,  9, 12, 15, 18])"
            ]
          },
          "metadata": {},
          "execution_count": 44
        }
      ]
    },
    {
      "cell_type": "code",
      "source": [
        "#2\n",
        "x[x % 4 == 1]"
      ],
      "metadata": {
        "colab": {
          "base_uri": "https://localhost:8080/"
        },
        "id": "Ug4RqPfP-Nm8",
        "outputId": "f6e04a92-b72f-4298-fd7d-f8531221432b"
      },
      "execution_count": null,
      "outputs": [
        {
          "output_type": "execute_result",
          "data": {
            "text/plain": [
              "array([ 1,  5,  9, 13, 17])"
            ]
          },
          "metadata": {},
          "execution_count": 45
        }
      ]
    },
    {
      "cell_type": "code",
      "source": [
        "#3\n",
        "x[(x % 3 == 0) & (x % 4 == 1)]"
      ],
      "metadata": {
        "colab": {
          "base_uri": "https://localhost:8080/"
        },
        "id": "b0YJZOvF_ExE",
        "outputId": "6c236d41-094d-4480-8669-987511dc931f"
      },
      "execution_count": null,
      "outputs": [
        {
          "output_type": "execute_result",
          "data": {
            "text/plain": [
              "array([9])"
            ]
          },
          "metadata": {},
          "execution_count": 46
        }
      ]
    }
  ]
}
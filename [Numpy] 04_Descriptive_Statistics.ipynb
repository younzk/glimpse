{
  "nbformat": 4,
  "nbformat_minor": 0,
  "metadata": {
    "colab": {
      "provenance": [],
      "collapsed_sections": [],
      "toc_visible": true,
      "authorship_tag": "ABX9TyMqP4D3qJ+bu6EFUUfCWFWO",
      "include_colab_link": true
    },
    "kernelspec": {
      "name": "python3",
      "display_name": "Python 3"
    },
    "language_info": {
      "name": "python"
    }
  },
  "cells": [
    {
      "cell_type": "markdown",
      "metadata": {
        "id": "view-in-github",
        "colab_type": "text"
      },
      "source": [
        "<a href=\"https://colab.research.google.com/github/younzk/rookie-projects/blob/main/%5BNumpy%5D%2004_Descriptive_Statistics.ipynb\" target=\"_parent\"><img src=\"https://colab.research.google.com/assets/colab-badge.svg\" alt=\"Open In Colab\"/></a>"
      ]
    },
    {
      "cell_type": "markdown",
      "source": [
        "#3.4 Descriptive Statistics(기술통계)"
      ],
      "metadata": {
        "id": "stwSfczv7SqU"
      }
    },
    {
      "cell_type": "markdown",
      "source": [
        "##넘파이가 제공하는 간단한 통계를 계산하는 함수들\n",
        "- 데이터의 개수(count)\n",
        "\n",
        "- 평균(mean, average)\n",
        "\n",
        "- 분산(variance)\n",
        "\n",
        "- 표준 편차(standard deviation)\n",
        "\n",
        "- 최댓값(maximum)\n",
        "\n",
        "- 최솟값(minimum)\n",
        "\n",
        "- 중앙값(median)\n",
        "\n",
        "- 사분위수(quartile)"
      ],
      "metadata": {
        "id": "BjNKZqlBz-Lk"
      }
    },
    {
      "cell_type": "markdown",
      "source": [
        "##데이터의 갯수 : len"
      ],
      "metadata": {
        "id": "lug0EXQeyZY2"
      }
    },
    {
      "cell_type": "code",
      "source": [
        "import numpy as np\n",
        "x = np.array([18, 5, 10, 23, 19, -8, 10, 0, 0, 5, 2, 15, 8, 2, 5, 4, 15, -1, 4, -7, -24, 7, 9, -6, 23, -13])"
      ],
      "metadata": {
        "id": "FjtEFvenyZRd"
      },
      "execution_count": null,
      "outputs": []
    },
    {
      "cell_type": "code",
      "source": [
        "len(x)"
      ],
      "metadata": {
        "colab": {
          "base_uri": "https://localhost:8080/"
        },
        "id": "0MVNbjXdyZOe",
        "outputId": "efae3d9f-f4b4-43e7-d2e9-f6644e73fb10"
      },
      "execution_count": null,
      "outputs": [
        {
          "output_type": "execute_result",
          "data": {
            "text/plain": [
              "26"
            ]
          },
          "metadata": {},
          "execution_count": 2
        }
      ]
    },
    {
      "cell_type": "markdown",
      "source": [
        "##표본평균 (sample average, sample mean)"
      ],
      "metadata": {
        "id": "ah-3ubVfyslf"
      }
    },
    {
      "cell_type": "code",
      "source": [
        "np.mean(x)"
      ],
      "metadata": {
        "colab": {
          "base_uri": "https://localhost:8080/"
        },
        "id": "mxV3NSU3yZLu",
        "outputId": "4a9689d6-00f6-48c5-dcd3-e7c10864869d"
      },
      "execution_count": null,
      "outputs": [
        {
          "output_type": "execute_result",
          "data": {
            "text/plain": [
              "4.8076923076923075"
            ]
          },
          "metadata": {},
          "execution_count": 3
        }
      ]
    },
    {
      "cell_type": "markdown",
      "source": [
        "##표본 분산(Sample variance)"
      ],
      "metadata": {
        "id": "RS-bvBczyy8V"
      }
    },
    {
      "cell_type": "code",
      "source": [
        "np.var(x)"
      ],
      "metadata": {
        "colab": {
          "base_uri": "https://localhost:8080/"
        },
        "id": "V_ceBZ8TyZGd",
        "outputId": "399294a8-f8e1-4a86-b758-78c26e3e7b4c"
      },
      "execution_count": null,
      "outputs": [
        {
          "output_type": "execute_result",
          "data": {
            "text/plain": [
              "115.23224852071006"
            ]
          },
          "metadata": {},
          "execution_count": 4
        }
      ]
    },
    {
      "cell_type": "code",
      "source": [
        "np.var(x, ddof = 1) #비편향분산"
      ],
      "metadata": {
        "colab": {
          "base_uri": "https://localhost:8080/"
        },
        "id": "SJ0h08A3yZD1",
        "outputId": "5ebc7e28-547f-4327-fae1-1f77f252249c"
      },
      "execution_count": null,
      "outputs": [
        {
          "output_type": "execute_result",
          "data": {
            "text/plain": [
              "119.84153846153846"
            ]
          },
          "metadata": {},
          "execution_count": 5
        }
      ]
    },
    {
      "cell_type": "markdown",
      "source": [
        "##표본 표준편차(sample standard variance)\n",
        "= 표본 분산의 양의 제곱근"
      ],
      "metadata": {
        "id": "AGm5DtV5y60q"
      }
    },
    {
      "cell_type": "code",
      "source": [
        "np.std(x)"
      ],
      "metadata": {
        "colab": {
          "base_uri": "https://localhost:8080/"
        },
        "id": "gNYtDAouyZBp",
        "outputId": "f16f325b-4251-47f3-9f02-b6d6229fc200"
      },
      "execution_count": null,
      "outputs": [
        {
          "output_type": "execute_result",
          "data": {
            "text/plain": [
              "10.734628476137871"
            ]
          },
          "metadata": {},
          "execution_count": 6
        }
      ]
    },
    {
      "cell_type": "markdown",
      "source": [
        "##최댓값과 최솟값(maximum, minimum)"
      ],
      "metadata": {
        "id": "vS7Kkf86zEYf"
      }
    },
    {
      "cell_type": "code",
      "source": [
        "np.max(x), np.min(x)"
      ],
      "metadata": {
        "colab": {
          "base_uri": "https://localhost:8080/"
        },
        "id": "oPqn8Y2tyY-u",
        "outputId": "808a13cb-a011-4bd3-87b5-c4f30893f030"
      },
      "execution_count": null,
      "outputs": [
        {
          "output_type": "execute_result",
          "data": {
            "text/plain": [
              "(23, -24)"
            ]
          },
          "metadata": {},
          "execution_count": 7
        }
      ]
    },
    {
      "cell_type": "markdown",
      "source": [
        "##중앙값(median)"
      ],
      "metadata": {
        "id": "jlmiww_zzK1e"
      }
    },
    {
      "cell_type": "code",
      "source": [
        "np.median(x)"
      ],
      "metadata": {
        "colab": {
          "base_uri": "https://localhost:8080/"
        },
        "id": "83Jq-KgzzKrV",
        "outputId": "a7dc9276-66e7-42b9-b495-179a434261a5"
      },
      "execution_count": null,
      "outputs": [
        {
          "output_type": "execute_result",
          "data": {
            "text/plain": [
              "5.0"
            ]
          },
          "metadata": {},
          "execution_count": 8
        }
      ]
    },
    {
      "cell_type": "markdown",
      "source": [
        "##사분위수(quartile)"
      ],
      "metadata": {
        "id": "yxs0Zs5XzOxR"
      }
    },
    {
      "cell_type": "code",
      "source": [
        "np.percentile(x, 0) #최소값"
      ],
      "metadata": {
        "colab": {
          "base_uri": "https://localhost:8080/"
        },
        "id": "zGnShHwmzKo1",
        "outputId": "05004f84-ad3f-41cd-d861-f94be3b8652f"
      },
      "execution_count": null,
      "outputs": [
        {
          "output_type": "execute_result",
          "data": {
            "text/plain": [
              "-24.0"
            ]
          },
          "metadata": {},
          "execution_count": 9
        }
      ]
    },
    {
      "cell_type": "code",
      "source": [
        "np.percentile(x, 25) #1사분위수"
      ],
      "metadata": {
        "colab": {
          "base_uri": "https://localhost:8080/"
        },
        "id": "SOefilKizKl5",
        "outputId": "1bf4b63a-ac28-4111-8bfe-755e4a22939e"
      },
      "execution_count": null,
      "outputs": [
        {
          "output_type": "execute_result",
          "data": {
            "text/plain": [
              "0.0"
            ]
          },
          "metadata": {},
          "execution_count": 10
        }
      ]
    },
    {
      "cell_type": "code",
      "source": [
        "np.percentile(x, 50) #2사분위수"
      ],
      "metadata": {
        "colab": {
          "base_uri": "https://localhost:8080/"
        },
        "id": "7x1jRltTyY8T",
        "outputId": "5caf5fff-dea0-4901-bcc9-cb382b2fe414"
      },
      "execution_count": null,
      "outputs": [
        {
          "output_type": "execute_result",
          "data": {
            "text/plain": [
              "5.0"
            ]
          },
          "metadata": {},
          "execution_count": 11
        }
      ]
    },
    {
      "cell_type": "code",
      "source": [
        "np.percentile(x, 75) #3사분위수"
      ],
      "metadata": {
        "id": "7ejiI0bBzaXS",
        "outputId": "a2d4b33c-fd53-4ac4-d9ed-b378a410ce76",
        "colab": {
          "base_uri": "https://localhost:8080/"
        }
      },
      "execution_count": null,
      "outputs": [
        {
          "output_type": "execute_result",
          "data": {
            "text/plain": [
              "10.0"
            ]
          },
          "metadata": {},
          "execution_count": 12
        }
      ]
    },
    {
      "cell_type": "code",
      "source": [
        "np.percentile(x, 100) #최댓값"
      ],
      "metadata": {
        "id": "z0XEB_YozaUZ",
        "outputId": "652798c7-8b94-4ad3-a8b8-1aeff535d48d",
        "colab": {
          "base_uri": "https://localhost:8080/"
        }
      },
      "execution_count": null,
      "outputs": [
        {
          "output_type": "execute_result",
          "data": {
            "text/plain": [
              "23.0"
            ]
          },
          "metadata": {},
          "execution_count": 13
        }
      ]
    }
  ]
}
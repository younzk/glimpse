{
  "nbformat": 4,
  "nbformat_minor": 0,
  "metadata": {
    "colab": {
      "provenance": [],
      "collapsed_sections": [],
      "authorship_tag": "ABX9TyNENffxAXACwMWz/vfJfRld",
      "include_colab_link": true
    },
    "kernelspec": {
      "name": "python3",
      "display_name": "Python 3"
    },
    "language_info": {
      "name": "python"
    }
  },
  "cells": [
    {
      "cell_type": "markdown",
      "metadata": {
        "id": "view-in-github",
        "colab_type": "text"
      },
      "source": [
        "<a href=\"https://colab.research.google.com/github/younzk/rookie-projects/blob/main/4.9%20Time%20Series.ipynb\" target=\"_parent\"><img src=\"https://colab.research.google.com/assets/colab-badge.svg\" alt=\"Open In Colab\"/></a>"
      ]
    },
    {
      "cell_type": "markdown",
      "source": [
        "#4.8 Time Series"
      ],
      "metadata": {
        "id": "stwSfczv7SqU"
      }
    },
    {
      "cell_type": "markdown",
      "source": [
        "##DatatimeIndex\n",
        "- 시계열 자료 : 인덱스가 날짜 또는 시간인 데이터\n",
        "- DatatimeIndex : 특정한 순간에 기록된 타임스탬프 형식의 시계열 자료를 다루기 위한 인덱스\n",
        "- DatatimeIndex와 함께 쓰이는 보조 함수\n",
        " - pd.to_datetime : 날짜/시간을 나타내는 문자열을 자동으로 datetime 자료형으로 바꾼 후 DatetimeIndex 자료형 인덱스를 생성한다.\n",
        " - pd.date_range : 시작일과 종료일 또는 시작일과 기간을 입력하면 범위내의 인덱스를 생성해준다."
      ],
      "metadata": {
        "id": "d88HUigoDg7O"
      }
    },
    {
      "cell_type": "code",
      "execution_count": null,
      "metadata": {
        "colab": {
          "base_uri": "https://localhost:8080/"
        },
        "id": "X7On___oxT1d",
        "outputId": "641e57f2-c212-4c6c-be91-5beffbd4bca8"
      },
      "outputs": [
        {
          "output_type": "execute_result",
          "data": {
            "text/plain": [
              "DatetimeIndex(['2018-01-01', '2018-01-04', '2018-01-05', '2018-01-06'], dtype='datetime64[ns]', freq=None)"
            ]
          },
          "metadata": {},
          "execution_count": 1
        }
      ],
      "source": [
        "import pandas as pd\n",
        "import numpy as np\n",
        "\n",
        "date_str = [\"2018, 1, 1\", \"2018, 1, 4\", \"2018, 1, 5\", \"2018, 1, 6\"]\n",
        "idx = pd.to_datetime(date_str)\n",
        "idx"
      ]
    },
    {
      "cell_type": "code",
      "source": [
        "np.random.seed(0)\n",
        "s = pd.Series(np.random.randn(4), index = idx)\n",
        "s"
      ],
      "metadata": {
        "colab": {
          "base_uri": "https://localhost:8080/"
        },
        "id": "zCCcJj-oxbt_",
        "outputId": "33ff78e9-8f12-4886-98d2-2b730aee68cc"
      },
      "execution_count": null,
      "outputs": [
        {
          "output_type": "execute_result",
          "data": {
            "text/plain": [
              "2018-01-01    1.764052\n",
              "2018-01-04    0.400157\n",
              "2018-01-05    0.978738\n",
              "2018-01-06    2.240893\n",
              "dtype: float64"
            ]
          },
          "metadata": {},
          "execution_count": 2
        }
      ]
    },
    {
      "cell_type": "code",
      "source": [
        "pd.date_range(start = \"2018-4-1\", periods = 30)"
      ],
      "metadata": {
        "colab": {
          "base_uri": "https://localhost:8080/"
        },
        "id": "ufbGyE_wMymw",
        "outputId": "1ddf4779-bded-426e-cf17-2789e21385dc"
      },
      "execution_count": null,
      "outputs": [
        {
          "output_type": "execute_result",
          "data": {
            "text/plain": [
              "DatetimeIndex(['2018-04-01', '2018-04-02', '2018-04-03', '2018-04-04',\n",
              "               '2018-04-05', '2018-04-06', '2018-04-07', '2018-04-08',\n",
              "               '2018-04-09', '2018-04-10', '2018-04-11', '2018-04-12',\n",
              "               '2018-04-13', '2018-04-14', '2018-04-15', '2018-04-16',\n",
              "               '2018-04-17', '2018-04-18', '2018-04-19', '2018-04-20',\n",
              "               '2018-04-21', '2018-04-22', '2018-04-23', '2018-04-24',\n",
              "               '2018-04-25', '2018-04-26', '2018-04-27', '2018-04-28',\n",
              "               '2018-04-29', '2018-04-30'],\n",
              "              dtype='datetime64[ns]', freq='D')"
            ]
          },
          "metadata": {},
          "execution_count": 3
        }
      ]
    },
    {
      "cell_type": "markdown",
      "source": [
        "freq 인수로 특정한 날짜만 생성되게 할 수 있다.\n",
        "- s : 초\n",
        "- T: 분\n",
        "- H: 시간\n",
        "- D: 일(day)\n",
        "- B: 주말이 아닌 평일\n",
        "- W: 주(일요일)\n",
        "- W-MON: 주(월요일)\n",
        "- M: 각 달(month)의 마지막 날\n",
        "- MS: 각 달의 첫날\n",
        "- BM: 주말이 아닌 평일 중에서 각 달의 마지막 날\n",
        "- BMS: 주말이 아닌 평일 중에서 각 달의 첫날\n",
        "- WOM-2THU: 각 달의 두번째 목요일\n",
        "- Q-JAN: 각 분기의 첫달의 마지막 날\n",
        "- Q-DEC: 각 분기의 마지막 달의 마지막 날"
      ],
      "metadata": {
        "id": "neqb8kJXgsFx"
      }
    },
    {
      "cell_type": "code",
      "source": [
        "pd.date_range(\"2018-4-1\", \"2018-4-30\", freq = \"B\") #평일만"
      ],
      "metadata": {
        "colab": {
          "base_uri": "https://localhost:8080/"
        },
        "id": "27mLRqgxLyLw",
        "outputId": "cf7083f9-aedb-46b9-bf80-6b2572cf0bfa"
      },
      "execution_count": null,
      "outputs": [
        {
          "output_type": "execute_result",
          "data": {
            "text/plain": [
              "DatetimeIndex(['2018-04-02', '2018-04-03', '2018-04-04', '2018-04-05',\n",
              "               '2018-04-06', '2018-04-09', '2018-04-10', '2018-04-11',\n",
              "               '2018-04-12', '2018-04-13', '2018-04-16', '2018-04-17',\n",
              "               '2018-04-18', '2018-04-19', '2018-04-20', '2018-04-23',\n",
              "               '2018-04-24', '2018-04-25', '2018-04-26', '2018-04-27',\n",
              "               '2018-04-30'],\n",
              "              dtype='datetime64[ns]', freq='B')"
            ]
          },
          "metadata": {},
          "execution_count": 4
        }
      ]
    },
    {
      "cell_type": "code",
      "source": [
        "pd.date_range(\"2018-1-1\", \"2018-12-31\", freq=\"W\") #주말만"
      ],
      "metadata": {
        "colab": {
          "base_uri": "https://localhost:8080/"
        },
        "id": "gJr7waZbNZmu",
        "outputId": "ca38745b-7ab8-41c7-92c1-f2b0775b9b5a"
      },
      "execution_count": null,
      "outputs": [
        {
          "output_type": "execute_result",
          "data": {
            "text/plain": [
              "DatetimeIndex(['2018-01-07', '2018-01-14', '2018-01-21', '2018-01-28',\n",
              "               '2018-02-04', '2018-02-11', '2018-02-18', '2018-02-25',\n",
              "               '2018-03-04', '2018-03-11', '2018-03-18', '2018-03-25',\n",
              "               '2018-04-01', '2018-04-08', '2018-04-15', '2018-04-22',\n",
              "               '2018-04-29', '2018-05-06', '2018-05-13', '2018-05-20',\n",
              "               '2018-05-27', '2018-06-03', '2018-06-10', '2018-06-17',\n",
              "               '2018-06-24', '2018-07-01', '2018-07-08', '2018-07-15',\n",
              "               '2018-07-22', '2018-07-29', '2018-08-05', '2018-08-12',\n",
              "               '2018-08-19', '2018-08-26', '2018-09-02', '2018-09-09',\n",
              "               '2018-09-16', '2018-09-23', '2018-09-30', '2018-10-07',\n",
              "               '2018-10-14', '2018-10-21', '2018-10-28', '2018-11-04',\n",
              "               '2018-11-11', '2018-11-18', '2018-11-25', '2018-12-02',\n",
              "               '2018-12-09', '2018-12-16', '2018-12-23', '2018-12-30'],\n",
              "              dtype='datetime64[ns]', freq='W-SUN')"
            ]
          },
          "metadata": {},
          "execution_count": 5
        }
      ]
    },
    {
      "cell_type": "code",
      "source": [
        "pd.date_range(\"2018-1-1\", \"2018-12-31\", freq=\"W-MON\") #월요일만"
      ],
      "metadata": {
        "colab": {
          "base_uri": "https://localhost:8080/"
        },
        "id": "mC38LMJNAN8Z",
        "outputId": "788d950b-65f7-460b-c79c-47a2ce187cc2"
      },
      "execution_count": null,
      "outputs": [
        {
          "output_type": "execute_result",
          "data": {
            "text/plain": [
              "DatetimeIndex(['2018-01-01', '2018-01-08', '2018-01-15', '2018-01-22',\n",
              "               '2018-01-29', '2018-02-05', '2018-02-12', '2018-02-19',\n",
              "               '2018-02-26', '2018-03-05', '2018-03-12', '2018-03-19',\n",
              "               '2018-03-26', '2018-04-02', '2018-04-09', '2018-04-16',\n",
              "               '2018-04-23', '2018-04-30', '2018-05-07', '2018-05-14',\n",
              "               '2018-05-21', '2018-05-28', '2018-06-04', '2018-06-11',\n",
              "               '2018-06-18', '2018-06-25', '2018-07-02', '2018-07-09',\n",
              "               '2018-07-16', '2018-07-23', '2018-07-30', '2018-08-06',\n",
              "               '2018-08-13', '2018-08-20', '2018-08-27', '2018-09-03',\n",
              "               '2018-09-10', '2018-09-17', '2018-09-24', '2018-10-01',\n",
              "               '2018-10-08', '2018-10-15', '2018-10-22', '2018-10-29',\n",
              "               '2018-11-05', '2018-11-12', '2018-11-19', '2018-11-26',\n",
              "               '2018-12-03', '2018-12-10', '2018-12-17', '2018-12-24',\n",
              "               '2018-12-31'],\n",
              "              dtype='datetime64[ns]', freq='W-MON')"
            ]
          },
          "metadata": {},
          "execution_count": 6
        }
      ]
    },
    {
      "cell_type": "code",
      "source": [
        "pd.date_range(\"2018-4-1\", \"2018-12-31\", freq=\"MS\") #2018.4.1 ~ 2018.12.31 사이의 각 달의 첫날"
      ],
      "metadata": {
        "colab": {
          "base_uri": "https://localhost:8080/"
        },
        "id": "qOiXMApDAQvB",
        "outputId": "584f2b08-3da4-4a29-f8cc-daef04ba290c"
      },
      "execution_count": null,
      "outputs": [
        {
          "output_type": "execute_result",
          "data": {
            "text/plain": [
              "DatetimeIndex(['2018-04-01', '2018-05-01', '2018-06-01', '2018-07-01',\n",
              "               '2018-08-01', '2018-09-01', '2018-10-01', '2018-11-01',\n",
              "               '2018-12-01'],\n",
              "              dtype='datetime64[ns]', freq='MS')"
            ]
          },
          "metadata": {},
          "execution_count": 7
        }
      ]
    },
    {
      "cell_type": "code",
      "source": [
        "pd.date_range(\"2018-4-1\", \"2018-12-31\", freq=\"BMS\") #평일 중 각 달의 첫날"
      ],
      "metadata": {
        "colab": {
          "base_uri": "https://localhost:8080/"
        },
        "id": "7btWCwLkiR1f",
        "outputId": "1d836206-7b28-453f-8e55-c10292725ee2"
      },
      "execution_count": null,
      "outputs": [
        {
          "output_type": "execute_result",
          "data": {
            "text/plain": [
              "DatetimeIndex(['2018-04-02', '2018-05-01', '2018-06-01', '2018-07-02',\n",
              "               '2018-08-01', '2018-09-03', '2018-10-01', '2018-11-01',\n",
              "               '2018-12-03'],\n",
              "              dtype='datetime64[ns]', freq='BMS')"
            ]
          },
          "metadata": {},
          "execution_count": 8
        }
      ]
    },
    {
      "cell_type": "code",
      "source": [
        "pd.date_range(\"2018-4-1\", \"2018-12-31\", freq=\"BM\") #평일 중 각 달의 마지막날"
      ],
      "metadata": {
        "colab": {
          "base_uri": "https://localhost:8080/"
        },
        "id": "PgODPtv-iWY1",
        "outputId": "7dbf2e8e-995b-4671-8f1a-0abdb12bd940"
      },
      "execution_count": null,
      "outputs": [
        {
          "output_type": "execute_result",
          "data": {
            "text/plain": [
              "DatetimeIndex(['2018-04-30', '2018-05-31', '2018-06-29', '2018-07-31',\n",
              "               '2018-08-31', '2018-09-28', '2018-10-31', '2018-11-30',\n",
              "               '2018-12-31'],\n",
              "              dtype='datetime64[ns]', freq='BM')"
            ]
          },
          "metadata": {},
          "execution_count": 9
        }
      ]
    },
    {
      "cell_type": "code",
      "source": [
        "pd.date_range(\"2018-1-1\", \"2018-12-31\", freq=\"WOM-2THU\") #각 달의 두번째 목요일"
      ],
      "metadata": {
        "id": "nIiMa44u45C2"
      },
      "execution_count": null,
      "outputs": []
    },
    {
      "cell_type": "markdown",
      "source": [
        "#shift 연산\n",
        "- 인덱스는 그대로 두고 데이터만 이동(날짜, 시간은 두고 데이터만 옮기기)"
      ],
      "metadata": {
        "id": "PBPXqN0eGOOP"
      }
    },
    {
      "cell_type": "code",
      "source": [
        "np.random.seed(0)\n",
        "ts = pd.Series(np.random.randn(4), index=pd.date_range(\n",
        "    \"2018-1-1\", periods=4, freq=\"M\"))\n",
        "ts"
      ],
      "metadata": {
        "colab": {
          "base_uri": "https://localhost:8080/"
        },
        "id": "BmQtjVTuGamM",
        "outputId": "74dc9c4c-047b-4b8e-ad5a-ad0c0ba7d34c"
      },
      "execution_count": null,
      "outputs": [
        {
          "output_type": "execute_result",
          "data": {
            "text/plain": [
              "2018-01-31    1.764052\n",
              "2018-02-28    0.400157\n",
              "2018-03-31    0.978738\n",
              "2018-04-30    2.240893\n",
              "Freq: M, dtype: float64"
            ]
          },
          "metadata": {},
          "execution_count": 19
        }
      ]
    },
    {
      "cell_type": "code",
      "source": [
        "ts.shift(1) #데이터만 다음 행으로 옮겨짐"
      ],
      "metadata": {
        "colab": {
          "base_uri": "https://localhost:8080/"
        },
        "id": "pbPa7Up55nPq",
        "outputId": "8ab32ca0-a3f2-4d06-bc8f-7684d9d15bbc"
      },
      "execution_count": null,
      "outputs": [
        {
          "output_type": "execute_result",
          "data": {
            "text/plain": [
              "2018-01-31         NaN\n",
              "2018-02-28    1.764052\n",
              "2018-03-31    0.400157\n",
              "2018-04-30    0.978738\n",
              "Freq: M, dtype: float64"
            ]
          },
          "metadata": {},
          "execution_count": 20
        }
      ]
    },
    {
      "cell_type": "code",
      "source": [
        "ts.shift(-1) #데이터만 전 행으로 옮겨짐"
      ],
      "metadata": {
        "colab": {
          "base_uri": "https://localhost:8080/"
        },
        "id": "EbWCZYlr5zxB",
        "outputId": "17fb122c-e05d-4e9a-8a65-7f58572cbef6"
      },
      "execution_count": null,
      "outputs": [
        {
          "output_type": "execute_result",
          "data": {
            "text/plain": [
              "2018-01-31    0.400157\n",
              "2018-02-28    0.978738\n",
              "2018-03-31    2.240893\n",
              "2018-04-30         NaN\n",
              "Freq: M, dtype: float64"
            ]
          },
          "metadata": {},
          "execution_count": 21
        }
      ]
    },
    {
      "cell_type": "code",
      "source": [
        "ts.shift(1, freq = 'M') #시간을 달의 마지막날을 기준으로 하나 이동"
      ],
      "metadata": {
        "colab": {
          "base_uri": "https://localhost:8080/"
        },
        "id": "_hTiVXfX5zo4",
        "outputId": "cc243548-a4ef-4543-d92b-224ddad1bd3c"
      },
      "execution_count": null,
      "outputs": [
        {
          "output_type": "execute_result",
          "data": {
            "text/plain": [
              "2018-02-28    1.764052\n",
              "2018-03-31    0.400157\n",
              "2018-04-30    0.978738\n",
              "2018-05-31    2.240893\n",
              "Freq: M, dtype: float64"
            ]
          },
          "metadata": {},
          "execution_count": 22
        }
      ]
    },
    {
      "cell_type": "code",
      "source": [
        "ts.shift(1, freq = \"W\") #시간 데이터를 각 달의 일요일로 이동"
      ],
      "metadata": {
        "colab": {
          "base_uri": "https://localhost:8080/"
        },
        "id": "l3ZR9cwK5zmD",
        "outputId": "8e2cb247-8100-424b-bdef-b9165359f159"
      },
      "execution_count": null,
      "outputs": [
        {
          "output_type": "execute_result",
          "data": {
            "text/plain": [
              "2018-02-04    1.764052\n",
              "2018-03-04    0.400157\n",
              "2018-04-01    0.978738\n",
              "2018-05-06    2.240893\n",
              "dtype: float64"
            ]
          },
          "metadata": {},
          "execution_count": 23
        }
      ]
    },
    {
      "cell_type": "markdown",
      "source": [
        "##resample : 시간 간격을 재조정\n",
        "- 업-샘플링(up-sampling) : 시간 구간이 작아지면 데이터 양이 증가\n",
        " - ffill : (forward filling) 앞에 나왔던 데이터를 뒤에서 그대로 쓰는 방식\n",
        "  - bfill : (backward filling)뒤에서 나올 데이터를 미리 쓰는 방식\n",
        "- 다운-샘플링(down-sampling) : 시간 구간이 커지면 데이터 양이 감소\n",
        " -  다운 샘플링의 경우에는 원래 데이터가 그룹으로 묶여 groupby 와 같이 그룹 연산으로 대표값을 지정해야 한다.\n",
        "\n",
        "- 시/분 단위에서는 구간 위 왼쪽 가장 빠른 값은 포함하고 오른쪽 한계값(가장 늦은 값)은 포함하지 않는다. 가장 늦은 값은 다음 구간의 시작점이 된다. \n",
        "- 만약 오른쪽 한계값을 포함시키고 싶으면 closed = \"right\" 인수를 사용한다.\n",
        "\n",
        "- ohlc 메서드는 구간의 시고저종(open, high, low, close) 값을 구한다."
      ],
      "metadata": {
        "id": "af6QYQOg6V4-"
      }
    },
    {
      "cell_type": "code",
      "source": [
        "ts = pd.Series(np.random.randn(100), index=pd.date_range(\n",
        "    \"2018-1-1\", periods=100, freq=\"D\"))\n",
        "ts.tail(20)"
      ],
      "metadata": {
        "colab": {
          "base_uri": "https://localhost:8080/"
        },
        "id": "Jt_z0D_d5zjJ",
        "outputId": "80423cf2-ed2b-49af-9fd3-c1a7b54c71a6"
      },
      "execution_count": null,
      "outputs": [
        {
          "output_type": "execute_result",
          "data": {
            "text/plain": [
              "2018-03-22    1.488252\n",
              "2018-03-23    1.895889\n",
              "2018-03-24    1.178780\n",
              "2018-03-25   -0.179925\n",
              "2018-03-26   -1.070753\n",
              "2018-03-27    1.054452\n",
              "2018-03-28   -0.403177\n",
              "2018-03-29    1.222445\n",
              "2018-03-30    0.208275\n",
              "2018-03-31    0.976639\n",
              "2018-04-01    0.356366\n",
              "2018-04-02    0.706573\n",
              "2018-04-03    0.010500\n",
              "2018-04-04    1.785870\n",
              "2018-04-05    0.126912\n",
              "2018-04-06    0.401989\n",
              "2018-04-07    1.883151\n",
              "2018-04-08   -1.347759\n",
              "2018-04-09   -1.270485\n",
              "2018-04-10    0.969397\n",
              "Freq: D, dtype: float64"
            ]
          },
          "metadata": {},
          "execution_count": 24
        }
      ]
    },
    {
      "cell_type": "code",
      "source": [
        "ts.resample('W').mean() #일주일간격으로 다운샘플링"
      ],
      "metadata": {
        "colab": {
          "base_uri": "https://localhost:8080/"
        },
        "id": "pgKBh9Tn6rBo",
        "outputId": "d3238471-f853-408e-a7a6-e40d32d8b5e0"
      },
      "execution_count": null,
      "outputs": [
        {
          "output_type": "execute_result",
          "data": {
            "text/plain": [
              "2018-01-07    0.305776\n",
              "2018-01-14    0.629064\n",
              "2018-01-21   -0.006910\n",
              "2018-01-28    0.277065\n",
              "2018-02-04   -0.144972\n",
              "2018-02-11   -0.496299\n",
              "2018-02-18   -0.474473\n",
              "2018-02-25   -0.201222\n",
              "2018-03-04   -0.775142\n",
              "2018-03-11    0.052868\n",
              "2018-03-18   -0.450379\n",
              "2018-03-25    0.601892\n",
              "2018-04-01    0.334893\n",
              "2018-04-08    0.509605\n",
              "2018-04-15   -0.150544\n",
              "Freq: W-SUN, dtype: float64"
            ]
          },
          "metadata": {},
          "execution_count": 25
        }
      ]
    },
    {
      "cell_type": "code",
      "source": [
        "ts.resample('M').max() #한달 간격으로 다운샘플링, 대표값은 그 달 중 가장 큰 값으로"
      ],
      "metadata": {
        "colab": {
          "base_uri": "https://localhost:8080/"
        },
        "id": "21oZXGlB697z",
        "outputId": "04e14c77-b630-44a0-8bfd-41850b918bee"
      },
      "execution_count": null,
      "outputs": [
        {
          "output_type": "execute_result",
          "data": {
            "text/plain": [
              "2018-01-31    2.269755\n",
              "2018-02-28    1.950775\n",
              "2018-03-31    1.895889\n",
              "2018-04-30    1.883151\n",
              "Freq: M, dtype: float64"
            ]
          },
          "metadata": {},
          "execution_count": 26
        }
      ]
    },
    {
      "cell_type": "code",
      "source": [
        "ts.resample('M').first()#한달 간격으로 다운샘플링, 대표값은 그 달 중 가장 첫번째 값으로"
      ],
      "metadata": {
        "colab": {
          "base_uri": "https://localhost:8080/"
        },
        "id": "Ll4RyhOB7I5k",
        "outputId": "11a5067b-acfa-431a-e520-c964043592c2"
      },
      "execution_count": null,
      "outputs": [
        {
          "output_type": "execute_result",
          "data": {
            "text/plain": [
              "2018-01-31    1.867558\n",
              "2018-02-28    0.156349\n",
              "2018-03-31   -1.726283\n",
              "2018-04-30    0.356366\n",
              "Freq: M, dtype: float64"
            ]
          },
          "metadata": {},
          "execution_count": 27
        }
      ]
    },
    {
      "cell_type": "markdown",
      "source": [
        "시/분 단위에서의 resample"
      ],
      "metadata": {
        "id": "QU_S-UcW7tQo"
      }
    },
    {
      "cell_type": "code",
      "source": [
        "ts = pd.Series(np.random.randn(60), index=pd.date_range(\n",
        "    \"2018-1-1\", periods=60, freq=\"T\"))\n",
        "ts.head(20)"
      ],
      "metadata": {
        "colab": {
          "base_uri": "https://localhost:8080/"
        },
        "id": "KchLbCab7pJI",
        "outputId": "f1b30a01-b922-47fe-e10c-fd067b704434"
      },
      "execution_count": null,
      "outputs": [
        {
          "output_type": "execute_result",
          "data": {
            "text/plain": [
              "2018-01-01 00:00:00   -1.173123\n",
              "2018-01-01 00:01:00    1.943621\n",
              "2018-01-01 00:02:00   -0.413619\n",
              "2018-01-01 00:03:00   -0.747455\n",
              "2018-01-01 00:04:00    1.922942\n",
              "2018-01-01 00:05:00    1.480515\n",
              "2018-01-01 00:06:00    1.867559\n",
              "2018-01-01 00:07:00    0.906045\n",
              "2018-01-01 00:08:00   -0.861226\n",
              "2018-01-01 00:09:00    1.910065\n",
              "2018-01-01 00:10:00   -0.268003\n",
              "2018-01-01 00:11:00    0.802456\n",
              "2018-01-01 00:12:00    0.947252\n",
              "2018-01-01 00:13:00   -0.155010\n",
              "2018-01-01 00:14:00    0.614079\n",
              "2018-01-01 00:15:00    0.922207\n",
              "2018-01-01 00:16:00    0.376426\n",
              "2018-01-01 00:17:00   -1.099401\n",
              "2018-01-01 00:18:00    0.298238\n",
              "2018-01-01 00:19:00    1.326386\n",
              "Freq: T, dtype: float64"
            ]
          },
          "metadata": {},
          "execution_count": 28
        }
      ]
    },
    {
      "cell_type": "code",
      "source": [
        "ts.resample('10T').sum() #10초단위로, 0~9초까지의 합/ 10~19초 까지의 합/ .."
      ],
      "metadata": {
        "colab": {
          "base_uri": "https://localhost:8080/"
        },
        "id": "u70PFupk7w--",
        "outputId": "9ddbb9ff-cf6d-44f1-c193-e1edf3d3989a"
      },
      "execution_count": null,
      "outputs": [
        {
          "output_type": "execute_result",
          "data": {
            "text/plain": [
              "2018-01-01 00:00:00    6.835324\n",
              "2018-01-01 00:10:00    3.764630\n",
              "2018-01-01 00:20:00    0.776495\n",
              "2018-01-01 00:30:00   -0.538336\n",
              "2018-01-01 00:40:00    1.828234\n",
              "2018-01-01 00:50:00    0.167957\n",
              "Freq: 10T, dtype: float64"
            ]
          },
          "metadata": {},
          "execution_count": 29
        }
      ]
    },
    {
      "cell_type": "code",
      "source": [
        "ts.resample('10T', closed = 'right').sum() #오른쪽 한계값을 구간에 포함시키려면 closed = \"right\" 인수를 사용한다."
      ],
      "metadata": {
        "colab": {
          "base_uri": "https://localhost:8080/"
        },
        "id": "4QFfz66I7pGg",
        "outputId": "23281b7f-798a-4d5e-e697-806ab90536d3"
      },
      "execution_count": null,
      "outputs": [
        {
          "output_type": "execute_result",
          "data": {
            "text/plain": [
              "2017-12-31 23:50:00   -1.173123\n",
              "2018-01-01 00:00:00    7.740444\n",
              "2018-01-01 00:10:00    3.338065\n",
              "2018-01-01 00:20:00    0.835217\n",
              "2018-01-01 00:30:00    2.480654\n",
              "2018-01-01 00:40:00   -0.653363\n",
              "2018-01-01 00:50:00    0.266409\n",
              "Freq: 10T, dtype: float64"
            ]
          },
          "metadata": {},
          "execution_count": 30
        }
      ]
    },
    {
      "cell_type": "markdown",
      "source": [
        "ohlc() 메서드"
      ],
      "metadata": {
        "id": "K9VJrTAM8U4-"
      }
    },
    {
      "cell_type": "code",
      "source": [
        "ts.resample('5T').ohlc() #5초로 다운샘플링 한 구간의 시고지종"
      ],
      "metadata": {
        "colab": {
          "base_uri": "https://localhost:8080/",
          "height": 425
        },
        "id": "Zgdhf-uB7pDv",
        "outputId": "b9441a6f-99ff-489e-fdd0-d02e2dfa5502"
      },
      "execution_count": null,
      "outputs": [
        {
          "output_type": "execute_result",
          "data": {
            "text/plain": [
              "                         open      high       low     close\n",
              "2018-01-01 00:00:00 -1.173123  1.943621 -1.173123  1.922942\n",
              "2018-01-01 00:05:00  1.480515  1.910065 -0.861226  1.910065\n",
              "2018-01-01 00:10:00 -0.268003  0.947252 -0.268003  0.614079\n",
              "2018-01-01 00:15:00  0.922207  1.326386 -1.099401  1.326386\n",
              "2018-01-01 00:20:00 -0.694568  1.849264 -0.694568  0.672295\n",
              "2018-01-01 00:25:00  0.407462  0.539249 -0.769916  0.031831\n",
              "2018-01-01 00:30:00 -0.635846  0.676433 -0.635846  0.396007\n",
              "2018-01-01 00:35:00 -1.093062  0.635031 -1.491258  0.635031\n",
              "2018-01-01 00:40:00  2.383145  2.383145 -1.315907 -1.315907\n",
              "2018-01-01 00:45:00 -0.461585  1.713343 -0.826439 -0.826439\n",
              "2018-01-01 00:50:00 -0.098453  1.126636 -1.147469 -1.147469\n",
              "2018-01-01 00:55:00 -0.437820  1.929532 -0.498032  0.087551"
            ],
            "text/html": [
              "\n",
              "  <div id=\"df-c5b993fa-56ec-40bd-ae8f-667166f4045d\">\n",
              "    <div class=\"colab-df-container\">\n",
              "      <div>\n",
              "<style scoped>\n",
              "    .dataframe tbody tr th:only-of-type {\n",
              "        vertical-align: middle;\n",
              "    }\n",
              "\n",
              "    .dataframe tbody tr th {\n",
              "        vertical-align: top;\n",
              "    }\n",
              "\n",
              "    .dataframe thead th {\n",
              "        text-align: right;\n",
              "    }\n",
              "</style>\n",
              "<table border=\"1\" class=\"dataframe\">\n",
              "  <thead>\n",
              "    <tr style=\"text-align: right;\">\n",
              "      <th></th>\n",
              "      <th>open</th>\n",
              "      <th>high</th>\n",
              "      <th>low</th>\n",
              "      <th>close</th>\n",
              "    </tr>\n",
              "  </thead>\n",
              "  <tbody>\n",
              "    <tr>\n",
              "      <th>2018-01-01 00:00:00</th>\n",
              "      <td>-1.173123</td>\n",
              "      <td>1.943621</td>\n",
              "      <td>-1.173123</td>\n",
              "      <td>1.922942</td>\n",
              "    </tr>\n",
              "    <tr>\n",
              "      <th>2018-01-01 00:05:00</th>\n",
              "      <td>1.480515</td>\n",
              "      <td>1.910065</td>\n",
              "      <td>-0.861226</td>\n",
              "      <td>1.910065</td>\n",
              "    </tr>\n",
              "    <tr>\n",
              "      <th>2018-01-01 00:10:00</th>\n",
              "      <td>-0.268003</td>\n",
              "      <td>0.947252</td>\n",
              "      <td>-0.268003</td>\n",
              "      <td>0.614079</td>\n",
              "    </tr>\n",
              "    <tr>\n",
              "      <th>2018-01-01 00:15:00</th>\n",
              "      <td>0.922207</td>\n",
              "      <td>1.326386</td>\n",
              "      <td>-1.099401</td>\n",
              "      <td>1.326386</td>\n",
              "    </tr>\n",
              "    <tr>\n",
              "      <th>2018-01-01 00:20:00</th>\n",
              "      <td>-0.694568</td>\n",
              "      <td>1.849264</td>\n",
              "      <td>-0.694568</td>\n",
              "      <td>0.672295</td>\n",
              "    </tr>\n",
              "    <tr>\n",
              "      <th>2018-01-01 00:25:00</th>\n",
              "      <td>0.407462</td>\n",
              "      <td>0.539249</td>\n",
              "      <td>-0.769916</td>\n",
              "      <td>0.031831</td>\n",
              "    </tr>\n",
              "    <tr>\n",
              "      <th>2018-01-01 00:30:00</th>\n",
              "      <td>-0.635846</td>\n",
              "      <td>0.676433</td>\n",
              "      <td>-0.635846</td>\n",
              "      <td>0.396007</td>\n",
              "    </tr>\n",
              "    <tr>\n",
              "      <th>2018-01-01 00:35:00</th>\n",
              "      <td>-1.093062</td>\n",
              "      <td>0.635031</td>\n",
              "      <td>-1.491258</td>\n",
              "      <td>0.635031</td>\n",
              "    </tr>\n",
              "    <tr>\n",
              "      <th>2018-01-01 00:40:00</th>\n",
              "      <td>2.383145</td>\n",
              "      <td>2.383145</td>\n",
              "      <td>-1.315907</td>\n",
              "      <td>-1.315907</td>\n",
              "    </tr>\n",
              "    <tr>\n",
              "      <th>2018-01-01 00:45:00</th>\n",
              "      <td>-0.461585</td>\n",
              "      <td>1.713343</td>\n",
              "      <td>-0.826439</td>\n",
              "      <td>-0.826439</td>\n",
              "    </tr>\n",
              "    <tr>\n",
              "      <th>2018-01-01 00:50:00</th>\n",
              "      <td>-0.098453</td>\n",
              "      <td>1.126636</td>\n",
              "      <td>-1.147469</td>\n",
              "      <td>-1.147469</td>\n",
              "    </tr>\n",
              "    <tr>\n",
              "      <th>2018-01-01 00:55:00</th>\n",
              "      <td>-0.437820</td>\n",
              "      <td>1.929532</td>\n",
              "      <td>-0.498032</td>\n",
              "      <td>0.087551</td>\n",
              "    </tr>\n",
              "  </tbody>\n",
              "</table>\n",
              "</div>\n",
              "      <button class=\"colab-df-convert\" onclick=\"convertToInteractive('df-c5b993fa-56ec-40bd-ae8f-667166f4045d')\"\n",
              "              title=\"Convert this dataframe to an interactive table.\"\n",
              "              style=\"display:none;\">\n",
              "        \n",
              "  <svg xmlns=\"http://www.w3.org/2000/svg\" height=\"24px\"viewBox=\"0 0 24 24\"\n",
              "       width=\"24px\">\n",
              "    <path d=\"M0 0h24v24H0V0z\" fill=\"none\"/>\n",
              "    <path d=\"M18.56 5.44l.94 2.06.94-2.06 2.06-.94-2.06-.94-.94-2.06-.94 2.06-2.06.94zm-11 1L8.5 8.5l.94-2.06 2.06-.94-2.06-.94L8.5 2.5l-.94 2.06-2.06.94zm10 10l.94 2.06.94-2.06 2.06-.94-2.06-.94-.94-2.06-.94 2.06-2.06.94z\"/><path d=\"M17.41 7.96l-1.37-1.37c-.4-.4-.92-.59-1.43-.59-.52 0-1.04.2-1.43.59L10.3 9.45l-7.72 7.72c-.78.78-.78 2.05 0 2.83L4 21.41c.39.39.9.59 1.41.59.51 0 1.02-.2 1.41-.59l7.78-7.78 2.81-2.81c.8-.78.8-2.07 0-2.86zM5.41 20L4 18.59l7.72-7.72 1.47 1.35L5.41 20z\"/>\n",
              "  </svg>\n",
              "      </button>\n",
              "      \n",
              "  <style>\n",
              "    .colab-df-container {\n",
              "      display:flex;\n",
              "      flex-wrap:wrap;\n",
              "      gap: 12px;\n",
              "    }\n",
              "\n",
              "    .colab-df-convert {\n",
              "      background-color: #E8F0FE;\n",
              "      border: none;\n",
              "      border-radius: 50%;\n",
              "      cursor: pointer;\n",
              "      display: none;\n",
              "      fill: #1967D2;\n",
              "      height: 32px;\n",
              "      padding: 0 0 0 0;\n",
              "      width: 32px;\n",
              "    }\n",
              "\n",
              "    .colab-df-convert:hover {\n",
              "      background-color: #E2EBFA;\n",
              "      box-shadow: 0px 1px 2px rgba(60, 64, 67, 0.3), 0px 1px 3px 1px rgba(60, 64, 67, 0.15);\n",
              "      fill: #174EA6;\n",
              "    }\n",
              "\n",
              "    [theme=dark] .colab-df-convert {\n",
              "      background-color: #3B4455;\n",
              "      fill: #D2E3FC;\n",
              "    }\n",
              "\n",
              "    [theme=dark] .colab-df-convert:hover {\n",
              "      background-color: #434B5C;\n",
              "      box-shadow: 0px 1px 3px 1px rgba(0, 0, 0, 0.15);\n",
              "      filter: drop-shadow(0px 1px 2px rgba(0, 0, 0, 0.3));\n",
              "      fill: #FFFFFF;\n",
              "    }\n",
              "  </style>\n",
              "\n",
              "      <script>\n",
              "        const buttonEl =\n",
              "          document.querySelector('#df-c5b993fa-56ec-40bd-ae8f-667166f4045d button.colab-df-convert');\n",
              "        buttonEl.style.display =\n",
              "          google.colab.kernel.accessAllowed ? 'block' : 'none';\n",
              "\n",
              "        async function convertToInteractive(key) {\n",
              "          const element = document.querySelector('#df-c5b993fa-56ec-40bd-ae8f-667166f4045d');\n",
              "          const dataTable =\n",
              "            await google.colab.kernel.invokeFunction('convertToInteractive',\n",
              "                                                     [key], {});\n",
              "          if (!dataTable) return;\n",
              "\n",
              "          const docLinkHtml = 'Like what you see? Visit the ' +\n",
              "            '<a target=\"_blank\" href=https://colab.research.google.com/notebooks/data_table.ipynb>data table notebook</a>'\n",
              "            + ' to learn more about interactive tables.';\n",
              "          element.innerHTML = '';\n",
              "          dataTable['output_type'] = 'display_data';\n",
              "          await google.colab.output.renderOutput(dataTable, element);\n",
              "          const docLink = document.createElement('div');\n",
              "          docLink.innerHTML = docLinkHtml;\n",
              "          element.appendChild(docLink);\n",
              "        }\n",
              "      </script>\n",
              "    </div>\n",
              "  </div>\n",
              "  "
            ]
          },
          "metadata": {},
          "execution_count": 32
        }
      ]
    },
    {
      "cell_type": "markdown",
      "source": [
        "업-샘플링의 경우 실제로 존재하지 않는 데이터를 사용해야한다."
      ],
      "metadata": {
        "id": "vNk2M6MSjSO0"
      }
    },
    {
      "cell_type": "code",
      "source": [
        "ts.resample('30s').ffill().head(20) #앞의 데이터를 받아 1분 사이의 30초 간격의 데이터를 설정"
      ],
      "metadata": {
        "id": "gdeylPa3OmVx",
        "colab": {
          "base_uri": "https://localhost:8080/"
        },
        "outputId": "8bad5888-9a27-4fba-cb0e-8d6933dbe203"
      },
      "execution_count": null,
      "outputs": [
        {
          "output_type": "execute_result",
          "data": {
            "text/plain": [
              "2018-01-01 00:00:00   -1.173123\n",
              "2018-01-01 00:00:30   -1.173123\n",
              "2018-01-01 00:01:00    1.943621\n",
              "2018-01-01 00:01:30    1.943621\n",
              "2018-01-01 00:02:00   -0.413619\n",
              "2018-01-01 00:02:30   -0.413619\n",
              "2018-01-01 00:03:00   -0.747455\n",
              "2018-01-01 00:03:30   -0.747455\n",
              "2018-01-01 00:04:00    1.922942\n",
              "2018-01-01 00:04:30    1.922942\n",
              "2018-01-01 00:05:00    1.480515\n",
              "2018-01-01 00:05:30    1.480515\n",
              "2018-01-01 00:06:00    1.867559\n",
              "2018-01-01 00:06:30    1.867559\n",
              "2018-01-01 00:07:00    0.906045\n",
              "2018-01-01 00:07:30    0.906045\n",
              "2018-01-01 00:08:00   -0.861226\n",
              "2018-01-01 00:08:30   -0.861226\n",
              "2018-01-01 00:09:00    1.910065\n",
              "2018-01-01 00:09:30    1.910065\n",
              "Freq: 30S, dtype: float64"
            ]
          },
          "metadata": {},
          "execution_count": 33
        }
      ]
    },
    {
      "cell_type": "code",
      "source": [
        "ts.resample('30s').bfill().head(20)"
      ],
      "metadata": {
        "colab": {
          "base_uri": "https://localhost:8080/"
        },
        "id": "zh7zVb2cjyhY",
        "outputId": "2386d852-8679-42df-ff2a-7a952b08cac7"
      },
      "execution_count": null,
      "outputs": [
        {
          "output_type": "execute_result",
          "data": {
            "text/plain": [
              "2018-01-01 00:00:00   -1.173123\n",
              "2018-01-01 00:00:30    1.943621\n",
              "2018-01-01 00:01:00    1.943621\n",
              "2018-01-01 00:01:30   -0.413619\n",
              "2018-01-01 00:02:00   -0.413619\n",
              "2018-01-01 00:02:30   -0.747455\n",
              "2018-01-01 00:03:00   -0.747455\n",
              "2018-01-01 00:03:30    1.922942\n",
              "2018-01-01 00:04:00    1.922942\n",
              "2018-01-01 00:04:30    1.480515\n",
              "2018-01-01 00:05:00    1.480515\n",
              "2018-01-01 00:05:30    1.867559\n",
              "2018-01-01 00:06:00    1.867559\n",
              "2018-01-01 00:06:30    0.906045\n",
              "2018-01-01 00:07:00    0.906045\n",
              "2018-01-01 00:07:30   -0.861226\n",
              "2018-01-01 00:08:00   -0.861226\n",
              "2018-01-01 00:08:30    1.910065\n",
              "2018-01-01 00:09:00    1.910065\n",
              "2018-01-01 00:09:30   -0.268003\n",
              "Freq: 30S, dtype: float64"
            ]
          },
          "metadata": {},
          "execution_count": 34
        }
      ]
    },
    {
      "cell_type": "markdown",
      "source": [
        "###dt 접근자\n",
        "- year, month, day, weekday : 년, 월, 일, 요일의 정보\n",
        "- strftime : 문자열 만드는 메서드"
      ],
      "metadata": {
        "id": "od51Bv_G8p5f"
      }
    },
    {
      "cell_type": "code",
      "source": [
        "s = pd.Series(pd.date_range(\"2020-12-25\", periods = 100, freq = \"D\"))\n",
        "s"
      ],
      "metadata": {
        "id": "avbkCdcwPx2o",
        "colab": {
          "base_uri": "https://localhost:8080/"
        },
        "outputId": "4492dfb2-2084-45eb-de9b-8fb64136b054"
      },
      "execution_count": null,
      "outputs": [
        {
          "output_type": "execute_result",
          "data": {
            "text/plain": [
              "0    2020-12-25\n",
              "1    2020-12-26\n",
              "2    2020-12-27\n",
              "3    2020-12-28\n",
              "4    2020-12-29\n",
              "        ...    \n",
              "95   2021-03-30\n",
              "96   2021-03-31\n",
              "97   2021-04-01\n",
              "98   2021-04-02\n",
              "99   2021-04-03\n",
              "Length: 100, dtype: datetime64[ns]"
            ]
          },
          "metadata": {},
          "execution_count": 35
        }
      ]
    },
    {
      "cell_type": "code",
      "source": [
        "s.dt.year"
      ],
      "metadata": {
        "colab": {
          "base_uri": "https://localhost:8080/"
        },
        "id": "6TR11NgQ9rWu",
        "outputId": "9c31c87f-f72a-4415-b0f5-09dda4c45d25"
      },
      "execution_count": null,
      "outputs": [
        {
          "output_type": "execute_result",
          "data": {
            "text/plain": [
              "0     2020\n",
              "1     2020\n",
              "2     2020\n",
              "3     2020\n",
              "4     2020\n",
              "      ... \n",
              "95    2021\n",
              "96    2021\n",
              "97    2021\n",
              "98    2021\n",
              "99    2021\n",
              "Length: 100, dtype: int64"
            ]
          },
          "metadata": {},
          "execution_count": 36
        }
      ]
    },
    {
      "cell_type": "code",
      "source": [
        "s.dt.weekday"
      ],
      "metadata": {
        "colab": {
          "base_uri": "https://localhost:8080/"
        },
        "id": "YKgIAR4Q9rTv",
        "outputId": "9747d52a-a35f-46f8-e2f5-8a7409147ac6"
      },
      "execution_count": null,
      "outputs": [
        {
          "output_type": "execute_result",
          "data": {
            "text/plain": [
              "0     4\n",
              "1     5\n",
              "2     6\n",
              "3     0\n",
              "4     1\n",
              "     ..\n",
              "95    1\n",
              "96    2\n",
              "97    3\n",
              "98    4\n",
              "99    5\n",
              "Length: 100, dtype: int64"
            ]
          },
          "metadata": {},
          "execution_count": 37
        }
      ]
    },
    {
      "cell_type": "code",
      "source": [
        "s.dt.strftime(\"%Y년 %m월 %d일\")"
      ],
      "metadata": {
        "colab": {
          "base_uri": "https://localhost:8080/"
        },
        "id": "BfvhzSPh9rJZ",
        "outputId": "2420aa0f-fdd6-4b7e-e5de-316c8588b7af"
      },
      "execution_count": null,
      "outputs": [
        {
          "output_type": "execute_result",
          "data": {
            "text/plain": [
              "0     2020년 12월 25일\n",
              "1     2020년 12월 26일\n",
              "2     2020년 12월 27일\n",
              "3     2020년 12월 28일\n",
              "4     2020년 12월 29일\n",
              "          ...      \n",
              "95    2021년 03월 30일\n",
              "96    2021년 03월 31일\n",
              "97    2021년 04월 01일\n",
              "98    2021년 04월 02일\n",
              "99    2021년 04월 03일\n",
              "Length: 100, dtype: object"
            ]
          },
          "metadata": {},
          "execution_count": 38
        }
      ]
    },
    {
      "cell_type": "markdown",
      "source": [
        "##4. 8. 1. Practice Test\n",
        "다음 명령으로 만들어진 데이터프레임에 대해 월별 value의 합계를 구해라(groupby, dt사용하기)\n",
        "\n",
        "```\n",
        "np.random.seed(0)\n",
        "df = pd.DataFrame({\n",
        "  \"date\" : pd.date_range(\"2020-12-25\", periods = 100, freq = \"D\"),\n",
        "  \"value\" : np.random.randint(100, size = (100, ))\n",
        "})\n",
        "```"
      ],
      "metadata": {
        "id": "rMhFG2MRkTDK"
      }
    },
    {
      "cell_type": "code",
      "source": [
        "np.random.seed(0)\n",
        "df = pd.DataFrame({\n",
        "  \"date\" : pd.date_range(\"2020-12-25\", periods = 100, freq = \"D\"),\n",
        "  \"value\" : np.random.randint(100, size = (100, ))\n",
        "})"
      ],
      "metadata": {
        "id": "4DQXr5KQ80Ai"
      },
      "execution_count": null,
      "outputs": []
    },
    {
      "cell_type": "code",
      "source": [
        "df"
      ],
      "metadata": {
        "colab": {
          "base_uri": "https://localhost:8080/",
          "height": 423
        },
        "id": "FbhNf00n-ql0",
        "outputId": "f1d52f9f-c1a4-4dc7-ec54-8923e2e24fd0"
      },
      "execution_count": null,
      "outputs": [
        {
          "output_type": "execute_result",
          "data": {
            "text/plain": [
              "         date  value\n",
              "0  2020-12-25     44\n",
              "1  2020-12-26     47\n",
              "2  2020-12-27     64\n",
              "3  2020-12-28     67\n",
              "4  2020-12-29     67\n",
              "..        ...    ...\n",
              "95 2021-03-30     23\n",
              "96 2021-03-31     79\n",
              "97 2021-04-01     13\n",
              "98 2021-04-02     85\n",
              "99 2021-04-03     48\n",
              "\n",
              "[100 rows x 2 columns]"
            ],
            "text/html": [
              "\n",
              "  <div id=\"df-6a66600b-5844-484b-bf7a-fd5e1de23aaf\">\n",
              "    <div class=\"colab-df-container\">\n",
              "      <div>\n",
              "<style scoped>\n",
              "    .dataframe tbody tr th:only-of-type {\n",
              "        vertical-align: middle;\n",
              "    }\n",
              "\n",
              "    .dataframe tbody tr th {\n",
              "        vertical-align: top;\n",
              "    }\n",
              "\n",
              "    .dataframe thead th {\n",
              "        text-align: right;\n",
              "    }\n",
              "</style>\n",
              "<table border=\"1\" class=\"dataframe\">\n",
              "  <thead>\n",
              "    <tr style=\"text-align: right;\">\n",
              "      <th></th>\n",
              "      <th>date</th>\n",
              "      <th>value</th>\n",
              "    </tr>\n",
              "  </thead>\n",
              "  <tbody>\n",
              "    <tr>\n",
              "      <th>0</th>\n",
              "      <td>2020-12-25</td>\n",
              "      <td>44</td>\n",
              "    </tr>\n",
              "    <tr>\n",
              "      <th>1</th>\n",
              "      <td>2020-12-26</td>\n",
              "      <td>47</td>\n",
              "    </tr>\n",
              "    <tr>\n",
              "      <th>2</th>\n",
              "      <td>2020-12-27</td>\n",
              "      <td>64</td>\n",
              "    </tr>\n",
              "    <tr>\n",
              "      <th>3</th>\n",
              "      <td>2020-12-28</td>\n",
              "      <td>67</td>\n",
              "    </tr>\n",
              "    <tr>\n",
              "      <th>4</th>\n",
              "      <td>2020-12-29</td>\n",
              "      <td>67</td>\n",
              "    </tr>\n",
              "    <tr>\n",
              "      <th>...</th>\n",
              "      <td>...</td>\n",
              "      <td>...</td>\n",
              "    </tr>\n",
              "    <tr>\n",
              "      <th>95</th>\n",
              "      <td>2021-03-30</td>\n",
              "      <td>23</td>\n",
              "    </tr>\n",
              "    <tr>\n",
              "      <th>96</th>\n",
              "      <td>2021-03-31</td>\n",
              "      <td>79</td>\n",
              "    </tr>\n",
              "    <tr>\n",
              "      <th>97</th>\n",
              "      <td>2021-04-01</td>\n",
              "      <td>13</td>\n",
              "    </tr>\n",
              "    <tr>\n",
              "      <th>98</th>\n",
              "      <td>2021-04-02</td>\n",
              "      <td>85</td>\n",
              "    </tr>\n",
              "    <tr>\n",
              "      <th>99</th>\n",
              "      <td>2021-04-03</td>\n",
              "      <td>48</td>\n",
              "    </tr>\n",
              "  </tbody>\n",
              "</table>\n",
              "<p>100 rows × 2 columns</p>\n",
              "</div>\n",
              "      <button class=\"colab-df-convert\" onclick=\"convertToInteractive('df-6a66600b-5844-484b-bf7a-fd5e1de23aaf')\"\n",
              "              title=\"Convert this dataframe to an interactive table.\"\n",
              "              style=\"display:none;\">\n",
              "        \n",
              "  <svg xmlns=\"http://www.w3.org/2000/svg\" height=\"24px\"viewBox=\"0 0 24 24\"\n",
              "       width=\"24px\">\n",
              "    <path d=\"M0 0h24v24H0V0z\" fill=\"none\"/>\n",
              "    <path d=\"M18.56 5.44l.94 2.06.94-2.06 2.06-.94-2.06-.94-.94-2.06-.94 2.06-2.06.94zm-11 1L8.5 8.5l.94-2.06 2.06-.94-2.06-.94L8.5 2.5l-.94 2.06-2.06.94zm10 10l.94 2.06.94-2.06 2.06-.94-2.06-.94-.94-2.06-.94 2.06-2.06.94z\"/><path d=\"M17.41 7.96l-1.37-1.37c-.4-.4-.92-.59-1.43-.59-.52 0-1.04.2-1.43.59L10.3 9.45l-7.72 7.72c-.78.78-.78 2.05 0 2.83L4 21.41c.39.39.9.59 1.41.59.51 0 1.02-.2 1.41-.59l7.78-7.78 2.81-2.81c.8-.78.8-2.07 0-2.86zM5.41 20L4 18.59l7.72-7.72 1.47 1.35L5.41 20z\"/>\n",
              "  </svg>\n",
              "      </button>\n",
              "      \n",
              "  <style>\n",
              "    .colab-df-container {\n",
              "      display:flex;\n",
              "      flex-wrap:wrap;\n",
              "      gap: 12px;\n",
              "    }\n",
              "\n",
              "    .colab-df-convert {\n",
              "      background-color: #E8F0FE;\n",
              "      border: none;\n",
              "      border-radius: 50%;\n",
              "      cursor: pointer;\n",
              "      display: none;\n",
              "      fill: #1967D2;\n",
              "      height: 32px;\n",
              "      padding: 0 0 0 0;\n",
              "      width: 32px;\n",
              "    }\n",
              "\n",
              "    .colab-df-convert:hover {\n",
              "      background-color: #E2EBFA;\n",
              "      box-shadow: 0px 1px 2px rgba(60, 64, 67, 0.3), 0px 1px 3px 1px rgba(60, 64, 67, 0.15);\n",
              "      fill: #174EA6;\n",
              "    }\n",
              "\n",
              "    [theme=dark] .colab-df-convert {\n",
              "      background-color: #3B4455;\n",
              "      fill: #D2E3FC;\n",
              "    }\n",
              "\n",
              "    [theme=dark] .colab-df-convert:hover {\n",
              "      background-color: #434B5C;\n",
              "      box-shadow: 0px 1px 3px 1px rgba(0, 0, 0, 0.15);\n",
              "      filter: drop-shadow(0px 1px 2px rgba(0, 0, 0, 0.3));\n",
              "      fill: #FFFFFF;\n",
              "    }\n",
              "  </style>\n",
              "\n",
              "      <script>\n",
              "        const buttonEl =\n",
              "          document.querySelector('#df-6a66600b-5844-484b-bf7a-fd5e1de23aaf button.colab-df-convert');\n",
              "        buttonEl.style.display =\n",
              "          google.colab.kernel.accessAllowed ? 'block' : 'none';\n",
              "\n",
              "        async function convertToInteractive(key) {\n",
              "          const element = document.querySelector('#df-6a66600b-5844-484b-bf7a-fd5e1de23aaf');\n",
              "          const dataTable =\n",
              "            await google.colab.kernel.invokeFunction('convertToInteractive',\n",
              "                                                     [key], {});\n",
              "          if (!dataTable) return;\n",
              "\n",
              "          const docLinkHtml = 'Like what you see? Visit the ' +\n",
              "            '<a target=\"_blank\" href=https://colab.research.google.com/notebooks/data_table.ipynb>data table notebook</a>'\n",
              "            + ' to learn more about interactive tables.';\n",
              "          element.innerHTML = '';\n",
              "          dataTable['output_type'] = 'display_data';\n",
              "          await google.colab.output.renderOutput(dataTable, element);\n",
              "          const docLink = document.createElement('div');\n",
              "          docLink.innerHTML = docLinkHtml;\n",
              "          element.appendChild(docLink);\n",
              "        }\n",
              "      </script>\n",
              "    </div>\n",
              "  </div>\n",
              "  "
            ]
          },
          "metadata": {},
          "execution_count": 41
        }
      ]
    },
    {
      "cell_type": "code",
      "source": [
        "df.date.dt.month"
      ],
      "metadata": {
        "colab": {
          "base_uri": "https://localhost:8080/"
        },
        "id": "tCWTv1iR-qhB",
        "outputId": "1a655d33-48be-4c68-98d5-107eeb2d9266"
      },
      "execution_count": null,
      "outputs": [
        {
          "output_type": "execute_result",
          "data": {
            "text/plain": [
              "0     12\n",
              "1     12\n",
              "2     12\n",
              "3     12\n",
              "4     12\n",
              "      ..\n",
              "95     3\n",
              "96     3\n",
              "97     4\n",
              "98     4\n",
              "99     4\n",
              "Name: date, Length: 100, dtype: int64"
            ]
          },
          "metadata": {},
          "execution_count": 45
        }
      ]
    },
    {
      "cell_type": "code",
      "source": [
        "df.groupby(df.date.dt.month).sum()"
      ],
      "metadata": {
        "colab": {
          "base_uri": "https://localhost:8080/",
          "height": 237
        },
        "id": "riNc8Cyh-qed",
        "outputId": "aad1b552-b904-4534-872b-adf840298b28"
      },
      "execution_count": null,
      "outputs": [
        {
          "output_type": "execute_result",
          "data": {
            "text/plain": [
              "      value\n",
              "date       \n",
              "1      1811\n",
              "2       985\n",
              "3      1500\n",
              "4       146\n",
              "12      381"
            ],
            "text/html": [
              "\n",
              "  <div id=\"df-b53b9c91-8fa2-4615-86df-613915eefbd1\">\n",
              "    <div class=\"colab-df-container\">\n",
              "      <div>\n",
              "<style scoped>\n",
              "    .dataframe tbody tr th:only-of-type {\n",
              "        vertical-align: middle;\n",
              "    }\n",
              "\n",
              "    .dataframe tbody tr th {\n",
              "        vertical-align: top;\n",
              "    }\n",
              "\n",
              "    .dataframe thead th {\n",
              "        text-align: right;\n",
              "    }\n",
              "</style>\n",
              "<table border=\"1\" class=\"dataframe\">\n",
              "  <thead>\n",
              "    <tr style=\"text-align: right;\">\n",
              "      <th></th>\n",
              "      <th>value</th>\n",
              "    </tr>\n",
              "    <tr>\n",
              "      <th>date</th>\n",
              "      <th></th>\n",
              "    </tr>\n",
              "  </thead>\n",
              "  <tbody>\n",
              "    <tr>\n",
              "      <th>1</th>\n",
              "      <td>1811</td>\n",
              "    </tr>\n",
              "    <tr>\n",
              "      <th>2</th>\n",
              "      <td>985</td>\n",
              "    </tr>\n",
              "    <tr>\n",
              "      <th>3</th>\n",
              "      <td>1500</td>\n",
              "    </tr>\n",
              "    <tr>\n",
              "      <th>4</th>\n",
              "      <td>146</td>\n",
              "    </tr>\n",
              "    <tr>\n",
              "      <th>12</th>\n",
              "      <td>381</td>\n",
              "    </tr>\n",
              "  </tbody>\n",
              "</table>\n",
              "</div>\n",
              "      <button class=\"colab-df-convert\" onclick=\"convertToInteractive('df-b53b9c91-8fa2-4615-86df-613915eefbd1')\"\n",
              "              title=\"Convert this dataframe to an interactive table.\"\n",
              "              style=\"display:none;\">\n",
              "        \n",
              "  <svg xmlns=\"http://www.w3.org/2000/svg\" height=\"24px\"viewBox=\"0 0 24 24\"\n",
              "       width=\"24px\">\n",
              "    <path d=\"M0 0h24v24H0V0z\" fill=\"none\"/>\n",
              "    <path d=\"M18.56 5.44l.94 2.06.94-2.06 2.06-.94-2.06-.94-.94-2.06-.94 2.06-2.06.94zm-11 1L8.5 8.5l.94-2.06 2.06-.94-2.06-.94L8.5 2.5l-.94 2.06-2.06.94zm10 10l.94 2.06.94-2.06 2.06-.94-2.06-.94-.94-2.06-.94 2.06-2.06.94z\"/><path d=\"M17.41 7.96l-1.37-1.37c-.4-.4-.92-.59-1.43-.59-.52 0-1.04.2-1.43.59L10.3 9.45l-7.72 7.72c-.78.78-.78 2.05 0 2.83L4 21.41c.39.39.9.59 1.41.59.51 0 1.02-.2 1.41-.59l7.78-7.78 2.81-2.81c.8-.78.8-2.07 0-2.86zM5.41 20L4 18.59l7.72-7.72 1.47 1.35L5.41 20z\"/>\n",
              "  </svg>\n",
              "      </button>\n",
              "      \n",
              "  <style>\n",
              "    .colab-df-container {\n",
              "      display:flex;\n",
              "      flex-wrap:wrap;\n",
              "      gap: 12px;\n",
              "    }\n",
              "\n",
              "    .colab-df-convert {\n",
              "      background-color: #E8F0FE;\n",
              "      border: none;\n",
              "      border-radius: 50%;\n",
              "      cursor: pointer;\n",
              "      display: none;\n",
              "      fill: #1967D2;\n",
              "      height: 32px;\n",
              "      padding: 0 0 0 0;\n",
              "      width: 32px;\n",
              "    }\n",
              "\n",
              "    .colab-df-convert:hover {\n",
              "      background-color: #E2EBFA;\n",
              "      box-shadow: 0px 1px 2px rgba(60, 64, 67, 0.3), 0px 1px 3px 1px rgba(60, 64, 67, 0.15);\n",
              "      fill: #174EA6;\n",
              "    }\n",
              "\n",
              "    [theme=dark] .colab-df-convert {\n",
              "      background-color: #3B4455;\n",
              "      fill: #D2E3FC;\n",
              "    }\n",
              "\n",
              "    [theme=dark] .colab-df-convert:hover {\n",
              "      background-color: #434B5C;\n",
              "      box-shadow: 0px 1px 3px 1px rgba(0, 0, 0, 0.15);\n",
              "      filter: drop-shadow(0px 1px 2px rgba(0, 0, 0, 0.3));\n",
              "      fill: #FFFFFF;\n",
              "    }\n",
              "  </style>\n",
              "\n",
              "      <script>\n",
              "        const buttonEl =\n",
              "          document.querySelector('#df-b53b9c91-8fa2-4615-86df-613915eefbd1 button.colab-df-convert');\n",
              "        buttonEl.style.display =\n",
              "          google.colab.kernel.accessAllowed ? 'block' : 'none';\n",
              "\n",
              "        async function convertToInteractive(key) {\n",
              "          const element = document.querySelector('#df-b53b9c91-8fa2-4615-86df-613915eefbd1');\n",
              "          const dataTable =\n",
              "            await google.colab.kernel.invokeFunction('convertToInteractive',\n",
              "                                                     [key], {});\n",
              "          if (!dataTable) return;\n",
              "\n",
              "          const docLinkHtml = 'Like what you see? Visit the ' +\n",
              "            '<a target=\"_blank\" href=https://colab.research.google.com/notebooks/data_table.ipynb>data table notebook</a>'\n",
              "            + ' to learn more about interactive tables.';\n",
              "          element.innerHTML = '';\n",
              "          dataTable['output_type'] = 'display_data';\n",
              "          await google.colab.output.renderOutput(dataTable, element);\n",
              "          const docLink = document.createElement('div');\n",
              "          docLink.innerHTML = docLinkHtml;\n",
              "          element.appendChild(docLink);\n",
              "        }\n",
              "      </script>\n",
              "    </div>\n",
              "  </div>\n",
              "  "
            ]
          },
          "metadata": {},
          "execution_count": 46
        }
      ]
    }
  ]
}
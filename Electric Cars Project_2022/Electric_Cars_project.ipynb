{
  "cells": [
    {
      "cell_type": "markdown",
      "metadata": {
        "colab_type": "text",
        "id": "view-in-github"
      },
      "source": [
        "<a href=\"https://colab.research.google.com/github/younzk/rookie-projects/blob/main/Electric_Cars_project.ipynb\" target=\"_parent\"><img src=\"https://colab.research.google.com/assets/colab-badge.svg\" alt=\"Open In Colab\"/></a>"
      ]
    },
    {
      "cell_type": "markdown",
      "metadata": {
        "id": "83Cgefh9HtI8"
      },
      "source": [
        "#Electric Cars project - Analyzing the status of electric cars in Korea and finding locations to build new charging stations\n",
        "\n",
        "###[전기차 현황 분석] - 2019.01 ~ 2022.03 지역별 전기차 현황, \n",
        "###- 1) 기준일을 입력하면 기준일의 전국 전기차 현황 막대그래프 비교 \n",
        "###- 2) 지역을 입력하면 지역의 2019.01 ~ 2022.03 전기차 현황 꺾은선 그래프 비교\n",
        "###- 3) 전기차 충전소를 어느 지역에 우선적으로 세워야 할까?\n",
        "  지역별 전기차 수와 전기차 충전소 수를 비교해서 막대그래프로 비교"
      ]
    },
    {
      "cell_type": "code",
      "execution_count": null,
      "metadata": {
        "colab": {
          "base_uri": "https://localhost:8080/"
        },
        "id": "u3p77mICVeDB",
        "outputId": "d92fc95a-86f6-49cb-cfbb-610e377d1e17"
      },
      "outputs": [
        {
          "name": "stdout",
          "output_type": "stream",
          "text": [
            "/usr/share/fonts: caching, new cache contents: 0 fonts, 1 dirs\n",
            "/usr/share/fonts/truetype: caching, new cache contents: 0 fonts, 3 dirs\n",
            "/usr/share/fonts/truetype/humor-sans: caching, new cache contents: 1 fonts, 0 dirs\n",
            "/usr/share/fonts/truetype/liberation: caching, new cache contents: 16 fonts, 0 dirs\n",
            "/usr/share/fonts/truetype/nanum: caching, new cache contents: 10 fonts, 0 dirs\n",
            "/usr/local/share/fonts: caching, new cache contents: 0 fonts, 0 dirs\n",
            "/root/.local/share/fonts: skipping, no such directory\n",
            "/root/.fonts: skipping, no such directory\n",
            "/var/cache/fontconfig: cleaning cache directory\n",
            "/root/.cache/fontconfig: not cleaning non-existent cache directory\n",
            "/root/.fontconfig: not cleaning non-existent cache directory\n",
            "fc-cache: succeeded\n"
          ]
        }
      ],
      "source": [
        " # 한글폰트설치\n",
        "!apt-get install fonts-nanum -qq > /dev/null\n",
        "!fc-cache -fv\n",
        "import matplotlib as mpl\n",
        "mpl.font_manager._rebuild()\n",
        "findfont = mpl.font_manager.fontManager.findfont\n",
        "mpl.font_manager.findfont = findfont\n",
        "mpl.backends.backend_agg.findfont = findfont"
      ]
    },
    {
      "cell_type": "code",
      "execution_count": 1,
      "metadata": {
        "colab": {
          "base_uri": "https://localhost:8080/"
        },
        "id": "nVhnCDy7rmkS",
        "outputId": "c6be97e0-b9de-4303-e683-1927448bf222"
      },
      "outputs": [
        {
          "name": "stderr",
          "output_type": "stream",
          "text": [
            "'git'��(��) ���� �Ǵ� �ܺ� ����, ������ �� �ִ� ���α׷�, �Ǵ�\n",
            "��ġ ������ �ƴմϴ�.\n"
          ]
        }
      ],
      "source": [
        "!git clone https://github.com/younzk/rookie-projects/data"
      ]
    },
    {
      "cell_type": "code",
      "execution_count": 2,
      "metadata": {
        "colab": {
          "base_uri": "https://localhost:8080/"
        },
        "id": "I2e08y1ds1aC",
        "outputId": "c2ec3bc7-6d93-4004-f169-3dba16b6ede0"
      },
      "outputs": [
        {
          "name": "stdout",
          "output_type": "stream",
          "text": [
            "c:\\Users\\USER\\Documents\\GitHub\\rookie-projects\\data\n"
          ]
        }
      ],
      "source": [
        "cd data"
      ]
    },
    {
      "cell_type": "code",
      "execution_count": 3,
      "metadata": {
        "colab": {
          "base_uri": "https://localhost:8080/"
        },
        "id": "D0Q18z_pwTuY",
        "outputId": "45ea6b2f-1e26-4137-bd89-f3671b27279e"
      },
      "outputs": [
        {
          "name": "stdout",
          "output_type": "stream",
          "text": [
            " C ����̺��� ����: Windows\n",
            " ���� �Ϸ� ��ȣ: FC19-0180\n",
            "\n",
            " c:\\Users\\USER\\Documents\\GitHub\\rookie-projects\\data ���͸�\n",
            "\n",
            "2022-08-21  ���� 04:22    <DIR>          .\n",
            "2022-08-21  ���� 04:22    <DIR>          ..\n",
            "2022-08-21  ���� 04:19             4,224 Electric Cars status.csv\n",
            "2022-08-21  ���� 04:19               673 EV Charging Stations status.csv\n",
            "2022-08-21  ���� 04:19                63 README.md\n",
            "               3�� ����               4,960 ����Ʈ\n",
            "               2�� ���͸�  320,714,739,712 ����Ʈ ����\n"
          ]
        }
      ],
      "source": [
        "ls"
      ]
    },
    {
      "cell_type": "markdown",
      "metadata": {
        "id": "hjAuVWU3XO14"
      },
      "source": [
        "##1. 기준일 전국 전기차 보유 현황"
      ]
    },
    {
      "cell_type": "code",
      "execution_count": null,
      "metadata": {
        "colab": {
          "base_uri": "https://localhost:8080/",
          "height": 299
        },
        "id": "bPrvW4OZXKBt",
        "outputId": "c66d71b2-936f-4187-fd95-daf438955627"
      },
      "outputs": [
        {
          "name": "stdout",
          "output_type": "stream",
          "text": [
            "기준일을 입력하세요 (e.g. 2022-03-01) : 2021-12-01\n"
          ]
        },
        {
          "data": {
            "image/png": "[encoded data removed]",
            "text/plain": [
              "<Figure size 432x288 with 1 Axes>"
            ]
          },
          "metadata": {
            "needs_background": "light"
          },
          "output_type": "display_data"
        }
      ],
      "source": [
        "import csv\n",
        "f = open('Electric Cars status.csv', 'rt', encoding = 'UTF8')\n",
        "data = csv.reader(f)\n",
        "city = next(data)[1:-1]\n",
        "\n",
        "question = input('기준일을 입력하세요 (e.g. 2022-03-01) : ')\n",
        "for row in data:\n",
        "  if question == row[0]:\n",
        "    number = row[1:-1]\n",
        "    number = list(map(int, number))\n",
        "\n",
        "#막대그래프 그리기\n",
        "import matplotlib.pyplot as plt\n",
        "plt.rc('font', family = 'NanumBarunGothic')\n",
        "plt.title(question+\"의 전기차 보유 현황\")\n",
        "plt.bar(city, number, color = 'yellowgreen', label = '자동차 수')\n",
        "plt.legend()\n",
        "plt.show()"
      ]
    },
    {
      "cell_type": "markdown",
      "metadata": {
        "id": "c7cjvu7tXgOB"
      },
      "source": [
        "##2-1. 지역별 2019.01 ~ 2022.03 전기차 보유 현황 - 서울"
      ]
    },
    {
      "cell_type": "code",
      "execution_count": null,
      "metadata": {
        "colab": {
          "base_uri": "https://localhost:8080/",
          "height": 338
        },
        "id": "8S57gtILXKEY",
        "outputId": "a3060491-83f7-4e8d-9a1c-c2b84d2b70d4"
      },
      "outputs": [
        {
          "name": "stdout",
          "output_type": "stream",
          "text": [
            "지역을 입력하세요 : 서울\n"
          ]
        },
        {
          "data": {
            "image/png": "[encoded data removed]",
            "text/plain": [
              "<Figure size 432x288 with 1 Axes>"
            ]
          },
          "metadata": {
            "needs_background": "light"
          },
          "output_type": "display_data"
        }
      ],
      "source": [
        "import csv\n",
        "f = open('Electric Cars status.csv', 'rt', encoding = 'UTF8')\n",
        "data = csv.reader(f)\n",
        "city = next(data)[1:-1]\n",
        "date = []\n",
        "cars = []\n",
        "location = input('지역을 입력하세요 : ')\n",
        "for row in data:\n",
        "  date.append(row[0])\n",
        "  date.reverse()\n",
        "  cars.append(row[city.index(location)+1]) #지역에 해당하는 값을 cars 리스트에 저장\n",
        "\n",
        "cars = list(map(int,cars)) #문자열 실수로 변환\n",
        "cars.reverse() #리스트 뒤집기\n",
        "\n",
        "\n",
        "#꺾은선 그래프 그리기\n",
        "import matplotlib.pyplot as plt\n",
        "plt.rc('font', family = 'NanumBarunGothic')\n",
        "plt.title(location+\"지역의 전기차 보유 현황 변화\")\n",
        "plt.plot(date, cars, label = '자동차수')\n",
        "plt.xticks(rotation= 45 )\n",
        "plt.legend()\n",
        "plt.show()"
      ]
    },
    {
      "cell_type": "markdown",
      "metadata": {
        "id": "7uprMNBgj06-"
      },
      "source": [
        "##2-2. 지역별 2019.01 ~ 2022.03 전기차 보유 현황 - 제주"
      ]
    },
    {
      "cell_type": "code",
      "execution_count": 37,
      "metadata": {
        "colab": {
          "base_uri": "https://localhost:8080/",
          "height": 338
        },
        "id": "s-0B4PzLjKhX",
        "outputId": "45c856d4-cd7e-4129-ee72-2a5f25ce5657"
      },
      "outputs": [
        {
          "name": "stdout",
          "output_type": "stream",
          "text": [
            "지역을 입력하세요 : 제주\n"
          ]
        },
        {
          "data": {
            "image/png": "[encoded data removed]",
            "text/plain": [
              "<Figure size 432x288 with 1 Axes>"
            ]
          },
          "metadata": {
            "needs_background": "light"
          },
          "output_type": "display_data"
        }
      ],
      "source": [
        "import csv\n",
        "f = open('Electric Cars status.csv', 'rt', encoding = 'UTF8')\n",
        "data = csv.reader(f)\n",
        "city = next(data)[1:-1]\n",
        "date = []\n",
        "cars = []\n",
        "location = input('지역을 입력하세요 : ')\n",
        "for row in data:\n",
        "  date.append(row[0])\n",
        "  date.reverse()\n",
        "  cars.append(row[city.index(location)+1])\n",
        "\n",
        "cars = list(map(int,cars))\n",
        "cars.reverse()\n",
        "\n",
        "#꺾은선 그래프 그리기\n",
        "import matplotlib.pyplot as plt\n",
        "plt.rc('font', family = 'NanumBarunGothic')\n",
        "plt.title(location+\"지역의 전기차 보유 현황 변화\")\n",
        "plt.plot(date, cars, label = '자동차수')\n",
        "plt.xticks(rotation= 45 )\n",
        "plt.legend()\n",
        "plt.show()"
      ]
    },
    {
      "cell_type": "markdown",
      "metadata": {
        "id": "EqfUaK42j27j"
      },
      "source": [
        "##3. 전기차 충전소를 어느 지역에 우선적으로 세워야 할까? (2021-12-01 기준)"
      ]
    },
    {
      "cell_type": "code",
      "execution_count": 53,
      "metadata": {
        "colab": {
          "base_uri": "https://localhost:8080/",
          "height": 356
        },
        "id": "3DYFLb7iukLJ",
        "outputId": "5a856e82-d106-41bd-9fa3-b4a6029a13d9"
      },
      "outputs": [
        {
          "name": "stdout",
          "output_type": "stream",
          "text": [
            "['서울', '인천', '경기', '강원', '충북', '충남', '대전', '세종', '경북', '대구', '전북', '전남', '광주', '경남', '부산', '울산', '제주']\n",
            "[202, 805, 370, 264, 102, 248, 120, 145, 605, 64, 50, 164, 195, 180, 223, 169, 189]\n",
            "[40564, 12820, 39958, 7946, 8194, 9991, 7701, 1859, 11240, 16185, 7365, 8708, 5194, 12606, 12375, 3166, 25571]\n",
            "[200, 15, 107, 30, 80, 40, 64, 12, 18, 252, 147, 53, 26, 70, 55, 18, 135]\n"
          ]
        },
        {
          "data": {
            "image/png": "[encoded data removed]",
            "text/plain": [
              "<Figure size 432x288 with 1 Axes>"
            ]
          },
          "metadata": {
            "needs_background": "light"
          },
          "output_type": "display_data"
        }
      ],
      "source": [
        "f = open('Electric Cars status.csv', 'rt', encoding = 'UTF8')\n",
        "data1 = csv.reader(f)\n",
        "#city 리스트에 도시 이름 저장\n",
        "city = next(data1)[1:-1]\n",
        "\n",
        "#number 리스트에 전기차 수 저장\n",
        "for row in data1:\n",
        "  if row[0] == '2021-12-01':\n",
        "    number = row[1:-1]\n",
        "    number = list(map(int, number))\n",
        "\n",
        "f = open('EV Charging Stations status.csv', 'rt', encoding = 'UTF8')\n",
        "data2 = csv.reader(f)\n",
        "next(data2)\n",
        "\n",
        "#stations 리스트에 전기차 충전소 갯수 저장\n",
        "stations = []\n",
        "stations_status_2021 = 6\n",
        "for row in data2:\n",
        "  stations.append(int(row[stations_status_2021]))\n",
        "\n",
        "#average 리스트에 전기차 수/ 충전소 수 계산 결과값 저장\n",
        "average = []\n",
        "for i in range (0, len(city)):\n",
        "  average.append(int(number[i]/stations[i]))\n",
        "\n",
        "\n",
        "print(city)\n",
        "print(stations)\n",
        "print(number)\n",
        "print(average)\n",
        "\n",
        "#막대그래프 그리기\n",
        "import matplotlib.pyplot as plt\n",
        "plt.rc('font', family = 'NanumBarunGothic')\n",
        "plt.title(\"지역별 전기차 충전소 1곳당 전기차 수\")\n",
        "plt.bar(city, average, color = 'lightblue', label = '자동차 수')\n",
        "plt.legend()\n",
        "plt.show()\n"
      ]
    },
    {
      "cell_type": "markdown",
      "metadata": {
        "id": "cbk7wWaDzdei"
      },
      "source": [
        "##✨결론\n",
        "### 1) 2021년 12월 기준 전기차가 많은 지역은 1위 서울, 2위 경기, 3위 제주\n",
        "### 2) 지역별 전기차 보유 대수는 전지역 가파르게 증가하는 추세\n",
        "### 3) 지역별 전기차 충전소 1곳당 전기차 수가 많은 지역은 1위 대구, 2위 서울, 3위 전북\n",
        "###  👉따라서 위 지역에 전기차 충전소를 우선적으로 설치할 필요성이 있음."
      ]
    },
    {
      "cell_type": "code",
      "execution_count": null,
      "metadata": {
        "id": "O-Xmi-Qjzc5j"
      },
      "outputs": [],
      "source": []
    }
  ],
  "metadata": {
    "colab": {
      "include_colab_link": true,
      "name": "Electric Cars project",
      "provenance": [],
      "toc_visible": true
    },
    "kernelspec": {
      "display_name": "Python 3.10.1 64-bit",
      "language": "python",
      "name": "python3"
    },
    "language_info": {
      "codemirror_mode": {
        "name": "ipython",
        "version": 3
      },
      "file_extension": ".py",
      "mimetype": "text/x-python",
      "name": "python",
      "nbconvert_exporter": "python",
      "pygments_lexer": "ipython3",
      "version": "3.10.1"
    },
    "vscode": {
      "interpreter": {
        "hash": "df95319d8ce4e1d89f5365ae10992bc1f65da593082b1d264e8f529830ec2f02"
      }
    }
  },
  "nbformat": 4,
  "nbformat_minor": 0
}

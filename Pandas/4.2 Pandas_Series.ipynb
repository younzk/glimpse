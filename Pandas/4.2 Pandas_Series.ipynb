{
  "nbformat": 4,
  "nbformat_minor": 0,
  "metadata": {
    "colab": {
      "provenance": [],
      "collapsed_sections": [],
      "authorship_tag": "ABX9TyMhnx6eWB6Le/NyHtq2zPQQ",
      "include_colab_link": true
    },
    "kernelspec": {
      "name": "python3",
      "display_name": "Python 3"
    },
    "language_info": {
      "name": "python"
    }
  },
  "cells": [
    {
      "cell_type": "markdown",
      "metadata": {
        "id": "view-in-github",
        "colab_type": "text"
      },
      "source": [
        "<a href=\"https://colab.research.google.com/github/younzk/rookie-projects/blob/main/4.2%20Pandas_Series.ipynb\" target=\"_parent\"><img src=\"https://colab.research.google.com/assets/colab-badge.svg\" alt=\"Open In Colab\"/></a>"
      ]
    },
    {
      "cell_type": "markdown",
      "source": [
        "**bold text**#4.2 Pandas - Series Class"
      ],
      "metadata": {
        "id": "stwSfczv7SqU"
      }
    },
    {
      "cell_type": "markdown",
      "source": [
        "## 시리즈 생성"
      ],
      "metadata": {
        "id": "d88HUigoDg7O"
      }
    },
    {
      "cell_type": "markdown",
      "source": [
        "(1) 하나의 열이 되는 데이터를 리스트나 일차원 배열을 준비한다.\n",
        "\n",
        "(2) 인덱스 길이는 데이터의 길이와 같아야 한다.\n",
        "\n",
        "(3) 인덱스의 라벨은 문자열뿐만 아니라 날짜, 시간, 정수도 가능하다."
      ],
      "metadata": {
        "id": "uhJD-jDXDkqb"
      }
    },
    {
      "cell_type": "code",
      "execution_count": null,
      "metadata": {
        "colab": {
          "base_uri": "https://localhost:8080/"
        },
        "id": "X7On___oxT1d",
        "outputId": "ecec881c-d107-43b6-c488-2cf6805e88b4"
      },
      "outputs": [
        {
          "output_type": "execute_result",
          "data": {
            "text/plain": [
              "서울    9904312\n",
              "부산    3448737\n",
              "인천    2890451\n",
              "대구    2466052\n",
              "dtype: int64"
            ]
          },
          "metadata": {},
          "execution_count": 1
        }
      ],
      "source": [
        "import pandas as pd\n",
        "s = pd.Series([9904312, 3448737, 2890451, 2466052],\n",
        "              index=[\"서울\", \"부산\", \"인천\", \"대구\"])\n",
        "s"
      ]
    },
    {
      "cell_type": "code",
      "source": [
        "pd.Series(range(10, 14),\n",
        "index = [\"서울\", \"부산\", \"인천\", \"대구\"])"
      ],
      "metadata": {
        "colab": {
          "base_uri": "https://localhost:8080/"
        },
        "id": "sfX0_FYSFO6h",
        "outputId": "858b664a-f67b-4dc5-878c-3d35c8ead8ad"
      },
      "execution_count": null,
      "outputs": [
        {
          "output_type": "execute_result",
          "data": {
            "text/plain": [
              "서울    10\n",
              "부산    11\n",
              "인천    12\n",
              "대구    13\n",
              "dtype: int64"
            ]
          },
          "metadata": {},
          "execution_count": 2
        }
      ]
    },
    {
      "cell_type": "code",
      "source": [
        "#인덱스를 지정하지 않으면 시리즈의 인덱스는 0부터 시작하게 된다.\n",
        "pd.Series(range(10, 14))"
      ],
      "metadata": {
        "colab": {
          "base_uri": "https://localhost:8080/"
        },
        "id": "zCCcJj-oxbt_",
        "outputId": "8f409586-31f1-45e6-ba9c-a681fff48228"
      },
      "execution_count": null,
      "outputs": [
        {
          "output_type": "execute_result",
          "data": {
            "text/plain": [
              "0    10\n",
              "1    11\n",
              "2    12\n",
              "3    13\n",
              "dtype: int64"
            ]
          },
          "metadata": {},
          "execution_count": 3
        }
      ]
    },
    {
      "cell_type": "code",
      "source": [
        "#시리즈의 인덱스 속성\n",
        "s.index"
      ],
      "metadata": {
        "colab": {
          "base_uri": "https://localhost:8080/"
        },
        "id": "19DV6xYxFow9",
        "outputId": "a3a97455-5ca1-4a6c-9cf1-ffa2d243ccdb"
      },
      "execution_count": null,
      "outputs": [
        {
          "output_type": "execute_result",
          "data": {
            "text/plain": [
              "Index(['서울', '부산', '인천', '대구'], dtype='object')"
            ]
          },
          "metadata": {},
          "execution_count": 4
        }
      ]
    },
    {
      "cell_type": "code",
      "source": [
        "#시리즈의 데이터 속성\n",
        "s.values"
      ],
      "metadata": {
        "colab": {
          "base_uri": "https://localhost:8080/"
        },
        "id": "L3hwrkjXFuCN",
        "outputId": "c9f372ff-bffe-4a4b-aa0c-8c6d6dfd9252"
      },
      "execution_count": null,
      "outputs": [
        {
          "output_type": "execute_result",
          "data": {
            "text/plain": [
              "array([9904312, 3448737, 2890451, 2466052])"
            ]
          },
          "metadata": {},
          "execution_count": 5
        }
      ]
    },
    {
      "cell_type": "code",
      "source": [
        "#name 속성으로 데이터와 인덱스에 이름을 붙일 수 있다.\n",
        "s.name = \"인구\"\n",
        "s.index.name = \"도시\"\n",
        "s"
      ],
      "metadata": {
        "colab": {
          "base_uri": "https://localhost:8080/"
        },
        "id": "65XHaeTOFyxv",
        "outputId": "0a2fc4f7-5972-4212-e0ba-f12c35065d7b"
      },
      "execution_count": null,
      "outputs": [
        {
          "output_type": "execute_result",
          "data": {
            "text/plain": [
              "도시\n",
              "서울    9904312\n",
              "부산    3448737\n",
              "인천    2890451\n",
              "대구    2466052\n",
              "Name: 인구, dtype: int64"
            ]
          },
          "metadata": {},
          "execution_count": 6
        }
      ]
    },
    {
      "cell_type": "markdown",
      "source": [
        "## 시리즈 인덱싱"
      ],
      "metadata": {
        "id": "yUg1eCPKF-ro"
      }
    },
    {
      "cell_type": "code",
      "source": [
        "s[1], s[\"부산\"]"
      ],
      "metadata": {
        "colab": {
          "base_uri": "https://localhost:8080/"
        },
        "id": "SFOoVEx7GBPO",
        "outputId": "306caaf5-d652-4e20-cc5c-625f9931145a"
      },
      "execution_count": null,
      "outputs": [
        {
          "output_type": "execute_result",
          "data": {
            "text/plain": [
              "(3448737, 3448737)"
            ]
          },
          "metadata": {},
          "execution_count": 7
        }
      ]
    },
    {
      "cell_type": "code",
      "source": [
        "s[3], s[\"대구\"]"
      ],
      "metadata": {
        "colab": {
          "base_uri": "https://localhost:8080/"
        },
        "id": "Ar9fZ2QnGLch",
        "outputId": "833d4440-3f96-472b-d642-87a978a2079f"
      },
      "execution_count": null,
      "outputs": [
        {
          "output_type": "execute_result",
          "data": {
            "text/plain": [
              "(2466052, 2466052)"
            ]
          },
          "metadata": {},
          "execution_count": 8
        }
      ]
    },
    {
      "cell_type": "code",
      "source": [
        "s[[0, 3, 1]]"
      ],
      "metadata": {
        "colab": {
          "base_uri": "https://localhost:8080/"
        },
        "id": "QmXFhHp-GOgg",
        "outputId": "eb22705b-3493-4a2b-e7e5-7f24d1896fac"
      },
      "execution_count": null,
      "outputs": [
        {
          "output_type": "execute_result",
          "data": {
            "text/plain": [
              "도시\n",
              "서울    9904312\n",
              "대구    2466052\n",
              "부산    3448737\n",
              "Name: 인구, dtype: int64"
            ]
          },
          "metadata": {},
          "execution_count": 9
        }
      ]
    },
    {
      "cell_type": "code",
      "source": [
        "s[[\"서울\", \"대구\", \"부산\"]]"
      ],
      "metadata": {
        "colab": {
          "base_uri": "https://localhost:8080/"
        },
        "id": "5gQf_mx5GRtW",
        "outputId": "5933104c-da94-41ed-d8ad-01f8a8d3abb7"
      },
      "execution_count": null,
      "outputs": [
        {
          "output_type": "execute_result",
          "data": {
            "text/plain": [
              "도시\n",
              "서울    9904312\n",
              "대구    2466052\n",
              "부산    3448737\n",
              "Name: 인구, dtype: int64"
            ]
          },
          "metadata": {},
          "execution_count": 10
        }
      ]
    },
    {
      "cell_type": "code",
      "source": [
        "s[(250e4 < s) & ( s < 500e4)] #인구가 250만 초과 500만 미만인 경우"
      ],
      "metadata": {
        "colab": {
          "base_uri": "https://localhost:8080/"
        },
        "id": "iRgXAhHGGYOz",
        "outputId": "870c429b-c778-48b7-ed6e-caaba887df93"
      },
      "execution_count": null,
      "outputs": [
        {
          "output_type": "execute_result",
          "data": {
            "text/plain": [
              "도시\n",
              "부산    3448737\n",
              "인천    2890451\n",
              "Name: 인구, dtype: int64"
            ]
          },
          "metadata": {},
          "execution_count": 11
        }
      ]
    },
    {
      "cell_type": "code",
      "source": [
        "#라벨 값이 영문 문자열인 경우 인덱스 라벨이 속성인것 처럼 점(.)을 이용하여 해당 인덱스 값에 접근 가능\n",
        "s0 = pd.Series(range(3), index = [\"a\", \"b\", \"c\"])\n",
        "s0"
      ],
      "metadata": {
        "colab": {
          "base_uri": "https://localhost:8080/"
        },
        "id": "RcRrsbUQGs4C",
        "outputId": "4462872f-2095-4f90-e1f8-9a6946016913"
      },
      "execution_count": null,
      "outputs": [
        {
          "output_type": "execute_result",
          "data": {
            "text/plain": [
              "a    0\n",
              "b    1\n",
              "c    2\n",
              "dtype: int64"
            ]
          },
          "metadata": {},
          "execution_count": 12
        }
      ]
    },
    {
      "cell_type": "code",
      "source": [
        "s0.a"
      ],
      "metadata": {
        "colab": {
          "base_uri": "https://localhost:8080/"
        },
        "id": "jJyyol4uG7oa",
        "outputId": "8735c6d0-5846-418a-c6b0-1b4136e89bc1"
      },
      "execution_count": null,
      "outputs": [
        {
          "output_type": "execute_result",
          "data": {
            "text/plain": [
              "0"
            ]
          },
          "metadata": {},
          "execution_count": 13
        }
      ]
    },
    {
      "cell_type": "markdown",
      "source": [
        "## 시리즈와 딕셔너리 자료형"
      ],
      "metadata": {
        "id": "pg3eYDz34dzV"
      }
    },
    {
      "cell_type": "markdown",
      "source": [
        "### 시리즈 객체는 라벨 값에 의해 인덱싱이 가능하므로 실질적으로 인덱스 라벨 값을 키(key)로 가지는 딕셔너리 자료형과 같다고 볼 수 있다. 따라서 딕셔너리 자료형에서 제공하는 in 연산도 가능하고 items 메서드를 사용하면 for 루프를 통해 각 원소의 키(key)와 값(value)을 접근할 수도 있다."
      ],
      "metadata": {
        "id": "KG2xAjXUHJvh"
      }
    },
    {
      "cell_type": "code",
      "source": [
        "\"서울\" in s  # 인덱스 라벨 중에 서울이 있는가"
      ],
      "metadata": {
        "colab": {
          "base_uri": "https://localhost:8080/"
        },
        "id": "J1xt9HPNySTw",
        "outputId": "99c87bbd-a231-4cc2-a116-68970b02836c"
      },
      "execution_count": null,
      "outputs": [
        {
          "output_type": "execute_result",
          "data": {
            "text/plain": [
              "True"
            ]
          },
          "metadata": {},
          "execution_count": 14
        }
      ]
    },
    {
      "cell_type": "code",
      "source": [
        "\"대전\" in s  # 인덱스 라벨 중에 대전이 있는가"
      ],
      "metadata": {
        "colab": {
          "base_uri": "https://localhost:8080/"
        },
        "id": "TZgGsBRXHRIc",
        "outputId": "fd1a1c55-822a-447b-ab15-865f05d74586"
      },
      "execution_count": null,
      "outputs": [
        {
          "output_type": "execute_result",
          "data": {
            "text/plain": [
              "False"
            ]
          },
          "metadata": {},
          "execution_count": 15
        }
      ]
    },
    {
      "cell_type": "code",
      "source": [
        "for k, v in s.items():\n",
        "    print(\"%s = %d\" % (k, v))"
      ],
      "metadata": {
        "colab": {
          "base_uri": "https://localhost:8080/"
        },
        "id": "vw1ZbLVnHTEh",
        "outputId": "00728fcc-c6f6-4cb0-cece-0d1194e7f8a2"
      },
      "execution_count": null,
      "outputs": [
        {
          "output_type": "stream",
          "name": "stdout",
          "text": [
            "서울 = 9904312\n",
            "부산 = 3448737\n",
            "인천 = 2890451\n",
            "대구 = 2466052\n"
          ]
        }
      ]
    },
    {
      "cell_type": "code",
      "source": [
        "#딕셔너리 객체에서 시리즈를 만들 수도 있다.\n",
        "s2 = pd.Series({\"서울\": 9631482, \"부산\": 3393191, \"인천\": 2632035, \"대전\": 1490158})\n",
        "s2"
      ],
      "metadata": {
        "colab": {
          "base_uri": "https://localhost:8080/"
        },
        "id": "jG3Q7Ca-HcWh",
        "outputId": "838c2137-578b-4832-8e11-57d169d25750"
      },
      "execution_count": null,
      "outputs": [
        {
          "output_type": "execute_result",
          "data": {
            "text/plain": [
              "서울    9631482\n",
              "부산    3393191\n",
              "인천    2632035\n",
              "대전    1490158\n",
              "dtype: int64"
            ]
          },
          "metadata": {},
          "execution_count": 17
        }
      ]
    },
    {
      "cell_type": "code",
      "source": [
        "#딕셔너리의 원소는 순서를 가지지 않으므로 순서를 정하고 싶다면 인덱스를 리스트로 지정한다.\n",
        "s2 = pd.Series({\"서울\": 9631482, \"부산\": 3393191, \"인천\": 2632035, \"대전\": 1490158},\n",
        "               index=[\"부산\", \"서울\", \"인천\", \"대전\"])\n",
        "s2"
      ],
      "metadata": {
        "colab": {
          "base_uri": "https://localhost:8080/"
        },
        "id": "r0vqu9zP8bS5",
        "outputId": "3bdc21d1-812f-47af-faa9-12322003affb"
      },
      "execution_count": null,
      "outputs": [
        {
          "output_type": "execute_result",
          "data": {
            "text/plain": [
              "부산    3393191\n",
              "서울    9631482\n",
              "인천    2632035\n",
              "대전    1490158\n",
              "dtype: int64"
            ]
          },
          "metadata": {},
          "execution_count": 18
        }
      ]
    },
    {
      "cell_type": "markdown",
      "source": [
        "## 인덱스 기반 연산\n",
        "두 시리즈에 대해 연산을 하는 경우 인덱스가 같은 데이터에 대해서만 차이를 구한다."
      ],
      "metadata": {
        "id": "YSLh2AhSIGPI"
      }
    },
    {
      "cell_type": "code",
      "source": [
        "ds = s - s2\n",
        "ds #자료가 없는 경우 계산이 불가하므로 NaN값을 가짐"
      ],
      "metadata": {
        "colab": {
          "base_uri": "https://localhost:8080/"
        },
        "id": "Nr5AIBuG8TbN",
        "outputId": "234e6ead-f85f-42c0-a3a7-ab1ef14b146f"
      },
      "execution_count": null,
      "outputs": [
        {
          "output_type": "execute_result",
          "data": {
            "text/plain": [
              "대구         NaN\n",
              "대전         NaN\n",
              "부산     55546.0\n",
              "서울    272830.0\n",
              "인천    258416.0\n",
              "dtype: float64"
            ]
          },
          "metadata": {},
          "execution_count": 19
        }
      ]
    },
    {
      "cell_type": "code",
      "source": [
        "#NaN이 아닌 값을 구하려면 notnull 메서드를 이용한다.\n",
        "ds.notnull()"
      ],
      "metadata": {
        "colab": {
          "base_uri": "https://localhost:8080/"
        },
        "id": "Cj45u0ikImt5",
        "outputId": "4983474c-1685-4756-bbf5-5b350d90d063"
      },
      "execution_count": null,
      "outputs": [
        {
          "output_type": "execute_result",
          "data": {
            "text/plain": [
              "대구    False\n",
              "대전    False\n",
              "부산     True\n",
              "서울     True\n",
              "인천     True\n",
              "dtype: bool"
            ]
          },
          "metadata": {},
          "execution_count": 20
        }
      ]
    },
    {
      "cell_type": "code",
      "source": [
        "ds[ds.notnull()] #대전과 대구는 빼고 나머지만 계산됨"
      ],
      "metadata": {
        "colab": {
          "base_uri": "https://localhost:8080/"
        },
        "id": "AAKm3XrQIscw",
        "outputId": "e2ea7d10-4984-4fe0-c281-3c690c42ce92"
      },
      "execution_count": null,
      "outputs": [
        {
          "output_type": "execute_result",
          "data": {
            "text/plain": [
              "부산     55546.0\n",
              "서울    272830.0\n",
              "인천    258416.0\n",
              "dtype: float64"
            ]
          },
          "metadata": {},
          "execution_count": 21
        }
      ]
    },
    {
      "cell_type": "code",
      "source": [
        "#인구 증가율 구하기\n",
        "\n",
        "rs = (s - s2) / s2 * 100\n",
        "rs = rs[rs.notnull()]\n",
        "rs"
      ],
      "metadata": {
        "colab": {
          "base_uri": "https://localhost:8080/"
        },
        "id": "vLMc8MWO1xJ4",
        "outputId": "293fabcb-858e-4a90-ac9e-b583ec94665c"
      },
      "execution_count": null,
      "outputs": [
        {
          "output_type": "execute_result",
          "data": {
            "text/plain": [
              "부산    1.636984\n",
              "서울    2.832690\n",
              "인천    9.818107\n",
              "dtype: float64"
            ]
          },
          "metadata": {},
          "execution_count": 22
        }
      ]
    },
    {
      "cell_type": "markdown",
      "source": [
        "##데이터의 갱신, 추가, 삭제"
      ],
      "metadata": {
        "id": "FkV3_ivs14Rb"
      }
    },
    {
      "cell_type": "code",
      "source": [
        "rs[\"부산\"] = 1.63\n",
        "rs"
      ],
      "metadata": {
        "colab": {
          "base_uri": "https://localhost:8080/"
        },
        "id": "rXmrm05K13DL",
        "outputId": "b120de15-3458-4f49-cd95-9ffba95d2ff5"
      },
      "execution_count": null,
      "outputs": [
        {
          "output_type": "execute_result",
          "data": {
            "text/plain": [
              "부산    1.630000\n",
              "인천    9.818107\n",
              "대구    1.410000\n",
              "dtype: float64"
            ]
          },
          "metadata": {},
          "execution_count": 28
        }
      ]
    },
    {
      "cell_type": "code",
      "source": [
        "rs[\"대구\"] = 1.41\n",
        "rs"
      ],
      "metadata": {
        "colab": {
          "base_uri": "https://localhost:8080/"
        },
        "id": "Vn3DJUNK2DD7",
        "outputId": "d50ea25b-d9e7-445f-994b-a1408dc53141"
      },
      "execution_count": null,
      "outputs": [
        {
          "output_type": "execute_result",
          "data": {
            "text/plain": [
              "부산    1.630000\n",
              "인천    9.818107\n",
              "대구    1.410000\n",
              "dtype: float64"
            ]
          },
          "metadata": {},
          "execution_count": 29
        }
      ]
    },
    {
      "cell_type": "code",
      "source": [
        "del rs[\"인천\"]\n",
        "rs"
      ],
      "metadata": {
        "colab": {
          "base_uri": "https://localhost:8080/"
        },
        "id": "L9_ihhHy2LOz",
        "outputId": "ab5bfd7b-98f0-431f-f217-bd27ec4b2cb5"
      },
      "execution_count": null,
      "outputs": [
        {
          "output_type": "execute_result",
          "data": {
            "text/plain": [
              "부산    1.63\n",
              "대구    1.41\n",
              "dtype: float64"
            ]
          },
          "metadata": {},
          "execution_count": 31
        }
      ]
    },
    {
      "cell_type": "code",
      "source": [],
      "metadata": {
        "id": "50c9ZS0a2Nwa"
      },
      "execution_count": null,
      "outputs": []
    }
  ]
}